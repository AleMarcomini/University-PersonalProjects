{
  "nbformat": 4,
  "nbformat_minor": 0,
  "metadata": {
    "colab": {
      "name": "Lab_CNN_additional.ipynb",
      "provenance": [],
      "collapsed_sections": []
    },
    "kernelspec": {
      "name": "python3",
      "display_name": "Python 3"
    },
    "language_info": {
      "name": "python"
    }
  },
  "cells": [
    {
      "cell_type": "markdown",
      "metadata": {
        "id": "daycJN1AZEVU"
      },
      "source": [
        "#  **CNNs for image classification**\n",
        "\n",
        "-  Visualization of convolutional filters learned by AlexNet pre-trained on ImageNet;\n",
        "- Performance comparison: Custom CNN, ResNet18, DenseNet. "
      ]
    },
    {
      "cell_type": "code",
      "metadata": {
        "id": "hv7DbrzLhROM"
      },
      "source": [
        "# Pytorch functions\n",
        "import torch\n",
        "# Neural network layers\n",
        "import torch.nn as nn\n",
        "import torch.nn.functional as F\n",
        "# Optimizer\n",
        "import torch.optim as optim\n",
        "# Handling dataset\n",
        "import torch.utils.data as data\n",
        "# Torchvision library\n",
        "import torchvision\n",
        "\n",
        "import matplotlib.pyplot as plt\n",
        "import numpy as np\n",
        "import copy\n",
        "import time\n",
        "import os\n",
        "import cv2\n",
        "# For results\n",
        "from sklearn.metrics import confusion_matrix\n",
        "from sklearn.metrics import classification_report"
      ],
      "execution_count": 1,
      "outputs": []
    },
    {
      "cell_type": "code",
      "metadata": {
        "id": "LBywDeZqEyvx"
      },
      "source": [
        "SEED = 123\n",
        "np.random.seed(SEED)\n",
        "torch.manual_seed(SEED)\n",
        "torch.cuda.manual_seed(SEED)\n",
        "torch.backends.cudnn.deterministic = True"
      ],
      "execution_count": 2,
      "outputs": []
    },
    {
      "cell_type": "code",
      "metadata": {
        "id": "YuQGcVhGkTrZ"
      },
      "source": [
        "%%capture\n",
        "alexnet = torchvision.models.alexnet(pretrained = True)"
      ],
      "execution_count": 3,
      "outputs": []
    },
    {
      "cell_type": "code",
      "metadata": {
        "colab": {
          "base_uri": "https://localhost:8080/"
        },
        "id": "ZY9zXrtlkoIE",
        "outputId": "ee8d9497-0aa3-4666-dfa4-eab2fc85118d"
      },
      "source": [
        "print(alexnet)"
      ],
      "execution_count": 4,
      "outputs": [
        {
          "output_type": "stream",
          "text": [
            "AlexNet(\n",
            "  (features): Sequential(\n",
            "    (0): Conv2d(3, 64, kernel_size=(11, 11), stride=(4, 4), padding=(2, 2))\n",
            "    (1): ReLU(inplace=True)\n",
            "    (2): MaxPool2d(kernel_size=3, stride=2, padding=0, dilation=1, ceil_mode=False)\n",
            "    (3): Conv2d(64, 192, kernel_size=(5, 5), stride=(1, 1), padding=(2, 2))\n",
            "    (4): ReLU(inplace=True)\n",
            "    (5): MaxPool2d(kernel_size=3, stride=2, padding=0, dilation=1, ceil_mode=False)\n",
            "    (6): Conv2d(192, 384, kernel_size=(3, 3), stride=(1, 1), padding=(1, 1))\n",
            "    (7): ReLU(inplace=True)\n",
            "    (8): Conv2d(384, 256, kernel_size=(3, 3), stride=(1, 1), padding=(1, 1))\n",
            "    (9): ReLU(inplace=True)\n",
            "    (10): Conv2d(256, 256, kernel_size=(3, 3), stride=(1, 1), padding=(1, 1))\n",
            "    (11): ReLU(inplace=True)\n",
            "    (12): MaxPool2d(kernel_size=3, stride=2, padding=0, dilation=1, ceil_mode=False)\n",
            "  )\n",
            "  (avgpool): AdaptiveAvgPool2d(output_size=(6, 6))\n",
            "  (classifier): Sequential(\n",
            "    (0): Dropout(p=0.5, inplace=False)\n",
            "    (1): Linear(in_features=9216, out_features=4096, bias=True)\n",
            "    (2): ReLU(inplace=True)\n",
            "    (3): Dropout(p=0.5, inplace=False)\n",
            "    (4): Linear(in_features=4096, out_features=4096, bias=True)\n",
            "    (5): ReLU(inplace=True)\n",
            "    (6): Linear(in_features=4096, out_features=1000, bias=True)\n",
            "  )\n",
            ")\n"
          ],
          "name": "stdout"
        }
      ]
    },
    {
      "cell_type": "code",
      "metadata": {
        "colab": {
          "base_uri": "https://localhost:8080/",
          "height": 863
        },
        "id": "P-OFn_ECkpo-",
        "outputId": "6fcf676a-3e16-4798-bba8-1f67eb04ceed"
      },
      "source": [
        "# Get filters\n",
        "filters = alexnet.features[0].weight.data\n",
        "print(f\"CONV1 LAYER: {filters.shape}\")\n",
        "\n",
        "fig = plt.figure(figsize=(15,15))\n",
        "for i in range(filters.shape[0]):\n",
        "  image = filters[i]\n",
        "  image.clamp_(min = image.min(), max = image.max())\n",
        "  image.add_(-image.min()).div_(image.max() - image.min() + 1e-5)\n",
        "  plt.subplot(8, 8, i+1), plt.imshow(image.permute(1,2,0)), plt.axis('off')"
      ],
      "execution_count": 5,
      "outputs": [
        {
          "output_type": "stream",
          "text": [
            "CONV1 LAYER: torch.Size([64, 3, 11, 11])\n"
          ],
          "name": "stdout"
        },
        {
          "output_type": "display_data",
          "data": {
            "text/plain": [
              "<Figure size 1080x1080 with 64 Axes>"
            ],
            "image/png": "[encoded data removed]"
          },
          "metadata": {
            "tags": [],
            "needs_background": "light"
          }
        }
      ]
    },
    {
      "cell_type": "markdown",
      "metadata": {
        "id": "uQdOZlLDCs3d"
      },
      "source": [
        "# Pre-trained networks as features extractors\n",
        "\n",
        "A comparison among several pre-trained network is provided on CIFAR-10 dataset."
      ]
    },
    {
      "cell_type": "code",
      "metadata": {
        "id": "RUwt0lG4YFpW"
      },
      "source": [
        "def create_validation_set(train_data, train_percentage, test_transforms):\n",
        "    \n",
        "  # Split train data into train and validation sets\n",
        "  # (10% of training set will be used as validation set)\n",
        "  num_train_examples = int(len(train_data) * train_percentage)\n",
        "  num_valid_examples = len(train_data) - num_train_examples\n",
        "\n",
        "  # Create 'Subset' objects\n",
        "  train_data, valid_data = data.random_split(train_data, [num_train_examples, num_valid_examples])\n",
        "\n",
        "  print(f\"Number training examples: {len(train_data)}\")\n",
        "  print(f\"Number validation examples: {len(valid_data)}\")\n",
        "\n",
        "  # Apply test transformations to the validation set\n",
        "  valid_data = copy.deepcopy(valid_data) # If we change train transformations, this won't affect the validation set\n",
        "  valid_data.dataset.transform = test_transforms\n",
        "\n",
        "  return valid_data"
      ],
      "execution_count": 6,
      "outputs": []
    },
    {
      "cell_type": "code",
      "metadata": {
        "id": "Rhj6E1rIC_sL"
      },
      "source": [
        "# Dataset loading\n",
        "%%capture\n",
        "# Load CIFAR10 dataset\n",
        "# Available datasets at https://pytorch.org/vision/stable/datasets.html\n",
        "ROOT = './data'\n",
        "train_data = torchvision.datasets.CIFAR10(root=ROOT, train=True, download=True)\n",
        "\n",
        "# ----- NORMALIZATION VALUES  -----\n",
        "train_mean = [0.485, 0.456, 0.406]\n",
        "train_std = [0.229, 0.224, 0.225]\n",
        "\n",
        "# Compositions of transformations\n",
        "train_transforms = torchvision.transforms.Compose([\n",
        "#                                                   torchvision.transforms.Resize((224,224)),\n",
        "#                                                   torchvision.transforms.RandomCrop(32,5),\n",
        "                                                   torchvision.transforms.ToTensor(), # values are normalized between 0 and 1\n",
        "                                                   torchvision.transforms.Normalize(train_mean, train_std)\n",
        "])\n",
        "\n",
        "test_transforms = torchvision.transforms.Compose([\n",
        "#                                                  torchvision.transforms.Resize((224,224)),\n",
        "                                                  torchvision.transforms.ToTensor(),\n",
        "                                                  torchvision.transforms.Normalize(train_mean, train_std)\n",
        "])\n",
        "\n",
        "# Load data with transformations\n",
        "train_data = torchvision.datasets.CIFAR10(root=ROOT,\n",
        "                                        train=True,\n",
        "                                        download=True,\n",
        "                                        transform=train_transforms)\n",
        "\n",
        "test_data = torchvision.datasets.CIFAR10(root=ROOT,\n",
        "                                        train=False,\n",
        "                                        download=True,\n",
        "                                        transform=test_transforms)\n",
        "\n",
        "valid_data = create_validation_set(train_data, 0.8, test_transforms)\n",
        "\n",
        "# Create iterators\n",
        "BATCH_SIZE = 256\n",
        "\n",
        "train_iterator = torch.utils.data.DataLoader(train_data, \n",
        "                                             shuffle=True, \n",
        "                                             batch_size=BATCH_SIZE)\n",
        "\n",
        "valid_iterator = torch.utils.data.DataLoader(valid_data, \n",
        "                                             batch_size=BATCH_SIZE)\n",
        "\n",
        "test_iterator = torch.utils.data.DataLoader(test_data, \n",
        "                                            batch_size=BATCH_SIZE)"
      ],
      "execution_count": 7,
      "outputs": []
    },
    {
      "cell_type": "code",
      "metadata": {
        "id": "nrRfg_3SL_bC"
      },
      "source": [
        "# Loss\n",
        "criterion = nn.CrossEntropyLoss() # Softmax + CrossEntropy\n",
        "\n",
        "# Put model&criterion on GPU\n",
        "device = torch.device('cuda' if torch.cuda.is_available() else 'cpu')\n",
        "\n",
        "criterion = criterion.to(device)"
      ],
      "execution_count": 8,
      "outputs": []
    },
    {
      "cell_type": "code",
      "metadata": {
        "id": "2SgfOJ3gMC1x"
      },
      "source": [
        "def train(model, iterator, optimizer, criterion, device):\n",
        "  epoch_loss = 0\n",
        "  epoch_acc = 0\n",
        "\n",
        "  # Train mode\n",
        "  model.train()\n",
        "\n",
        "  for (x,y) in iterator:\n",
        "    x = x.to(device)\n",
        "    y = y.to(device)\n",
        "    # Set gradients to zero\n",
        "    optimizer.zero_grad()\n",
        "    \n",
        "    # Make Predictions\n",
        "    y_pred = model(x)\n",
        "\n",
        "    # Compute loss\n",
        "    loss = criterion(y_pred, y)\n",
        "    \n",
        "    # Compute accuracy\n",
        "    acc = calculate_accuracy(y_pred, y)\n",
        "\n",
        "    # Backprop\n",
        "    loss.backward()\n",
        "\n",
        "    # Apply optimizer\n",
        "    optimizer.step()\n",
        "\n",
        "    # Extract data from loss and accuracy\n",
        "    epoch_loss += loss.item()\n",
        "    epoch_acc += acc.item()\n",
        "\n",
        "  return epoch_loss/len(iterator), epoch_acc/len(iterator)"
      ],
      "execution_count": 9,
      "outputs": []
    },
    {
      "cell_type": "code",
      "metadata": {
        "id": "mWRDoMANMFjy"
      },
      "source": [
        "def evaluate(model, iterator, criterion, device):\n",
        "  epoch_loss = 0\n",
        "  epoch_acc = 0\n",
        "\n",
        "  # Evaluation mode\n",
        "  model.eval()\n",
        "\n",
        "  # Do not compute gradients\n",
        "  with torch.no_grad():\n",
        "\n",
        "    for(x,y) in iterator:\n",
        "\n",
        "      x = x.to(device)\n",
        "      y = y.to(device)\n",
        "      \n",
        "      # Make Predictions\n",
        "      y_pred = model(x)\n",
        "\n",
        "      # Compute loss\n",
        "      loss = criterion(y_pred, y)\n",
        "      \n",
        "      # Compute accuracy\n",
        "      acc = calculate_accuracy(y_pred, y)\n",
        "\n",
        "      # Extract data from loss and accuracy\n",
        "      epoch_loss += loss.item()\n",
        "      epoch_acc += acc.item()\n",
        "\n",
        "  return epoch_loss/len(iterator), epoch_acc/len(iterator)"
      ],
      "execution_count": 10,
      "outputs": []
    },
    {
      "cell_type": "code",
      "metadata": {
        "id": "EQEoWMIkMG7g"
      },
      "source": [
        "def calculate_accuracy(y_pred, y):\n",
        "  '''\n",
        "  Compute accuracy from ground-truth and predicted labels.\n",
        "  \n",
        "  Input\n",
        "  ------\n",
        "  y_pred: torch.Tensor [BATCH_SIZE, N_LABELS]\n",
        "  y: torch.Tensor [BATCH_SIZE]\n",
        "\n",
        "  Output\n",
        "  ------\n",
        "  acc: float\n",
        "    Accuracy\n",
        "  '''\n",
        "  y_prob = F.softmax(y_pred, dim = -1)\n",
        "  y_pred = y_pred.argmax(dim=1, keepdim = True)\n",
        "  correct = y_pred.eq(y.view_as(y_pred)).sum()\n",
        "  acc = correct.float()/y.shape[0]\n",
        "  return acc"
      ],
      "execution_count": 11,
      "outputs": []
    },
    {
      "cell_type": "code",
      "metadata": {
        "id": "bzfiwm7vMJOD"
      },
      "source": [
        "def model_training(n_epochs, model, train_iterator, valid_iterator, optimizer, criterion, device, model_name='best_model.pt'):\n",
        "\n",
        "  # Initialize validation loss\n",
        "  best_valid_loss = float('inf')\n",
        "\n",
        "  # Save output losses, accs\n",
        "  train_losses = []\n",
        "  train_accs = []\n",
        "  valid_losses = []\n",
        "  valid_accs = []\n",
        "\n",
        "  # Loop over epochs\n",
        "  for epoch in range(n_epochs):\n",
        "    start_time = time.time()\n",
        "    # Train\n",
        "    train_loss, train_acc = train(model, train_iterator, optimizer, criterion, device)\n",
        "    # Validation\n",
        "    valid_loss, valid_acc = evaluate(model, valid_iterator, criterion, device)\n",
        "    # Save best model\n",
        "    if valid_loss < best_valid_loss:\n",
        "      best_valid_loss = valid_loss\n",
        "      # Save model\n",
        "      torch.save(model.state_dict(), model_name)\n",
        "    end_time = time.time()\n",
        "    \n",
        "    print(f\"\\nEpoch: {epoch+1}/{n_epochs} -- Epoch Time: {end_time-start_time:.2f} s\")\n",
        "    print(\"---------------------------------\")\n",
        "    print(f\"Train -- Loss: {train_loss:.3f}, Acc: {train_acc * 100:.2f}%\")\n",
        "    print(f\"Val -- Loss: {valid_loss:.3f}, Acc: {valid_acc * 100:.2f}%\")\n",
        "\n",
        "    # Save\n",
        "    train_losses.append(train_loss)\n",
        "    train_accs.append(train_acc)\n",
        "    valid_losses.append(valid_loss)\n",
        "    valid_accs.append(valid_acc)\n",
        "\n",
        "  return train_losses, train_accs, valid_losses, valid_accs"
      ],
      "execution_count": 12,
      "outputs": []
    },
    {
      "cell_type": "code",
      "metadata": {
        "id": "OqfvJlkDMLTR"
      },
      "source": [
        "def plot_results(n_epochs, train_losses, train_accs, valid_losses, valid_accs):\n",
        "  N_EPOCHS = n_epochs\n",
        "  # Plot results\n",
        "  plt.figure(figsize=(20, 6))\n",
        "  _ = plt.subplot(1,2,1)\n",
        "  plt.plot(np.arange(N_EPOCHS)+1, train_losses, linewidth=3)\n",
        "  plt.plot(np.arange(N_EPOCHS)+1, valid_losses, linewidth=3)\n",
        "  _ = plt.legend(['Train', 'Validation'])\n",
        "  plt.grid('on'), plt.xlabel('Epoch'), plt.ylabel('Loss')\n",
        "\n",
        "  _ = plt.subplot(1,2,2)\n",
        "  plt.plot(np.arange(N_EPOCHS)+1, train_accs, linewidth=3)\n",
        "  plt.plot(np.arange(N_EPOCHS)+1, valid_accs, linewidth=3)\n",
        "  _ = plt.legend(['Train', 'Validation'])\n",
        "  plt.grid('on'), plt.xlabel('Epoch'), plt.ylabel('Accuracy')"
      ],
      "execution_count": 13,
      "outputs": []
    },
    {
      "cell_type": "code",
      "metadata": {
        "id": "upglo3kVMM0a"
      },
      "source": [
        "def model_testing(model, test_iterator, criterion, device, model_name='best_model.pt'):\n",
        "  # Test model\n",
        "  model.load_state_dict(torch.load(model_name))\n",
        "  test_loss, test_acc = evaluate(model, test_iterator, criterion, device)\n",
        "  print(f\"Test -- Loss: {test_loss:.3f}, Acc: {test_acc * 100:.2f} %\")"
      ],
      "execution_count": 14,
      "outputs": []
    },
    {
      "cell_type": "code",
      "metadata": {
        "id": "uV-0mz-0MS1F"
      },
      "source": [
        "def predict(model, iterator, device):\n",
        "  \n",
        "  # Evaluation mode\n",
        "  model.eval()\n",
        "  \n",
        "  labels = []\n",
        "  pred = []\n",
        "\n",
        "  with torch.no_grad():\n",
        "    for (x, y) in iterator:\n",
        "      x = x.to(device)\n",
        "      y_pred = model(x)\n",
        "\n",
        "      # Get label with highest score\n",
        "      y_prob = F.softmax(y_pred, dim = -1)\n",
        "      top_pred = y_prob.argmax(1, keepdim=True)\n",
        "\n",
        "      labels.append(y.cpu())\n",
        "      pred.append(top_pred.cpu())\n",
        "\n",
        "  labels = torch.cat(labels, dim=0)\n",
        "  pred = torch.cat(pred, dim=0)\n",
        "  \n",
        "  return labels, pred"
      ],
      "execution_count": 15,
      "outputs": []
    },
    {
      "cell_type": "code",
      "metadata": {
        "id": "RTBcTmYuMTuf"
      },
      "source": [
        "def print_report(model, test_iterator, device):\n",
        "  labels, pred = predict(model, test_iterator, device)\n",
        "  print(confusion_matrix(labels, pred))\n",
        "  print(\"\\n\")\n",
        "  print(classification_report(labels, pred))"
      ],
      "execution_count": 16,
      "outputs": []
    },
    {
      "cell_type": "code",
      "metadata": {
        "id": "ulKv3HnDayaF"
      },
      "source": [
        "OUTPUT_DIM = 10"
      ],
      "execution_count": 17,
      "outputs": []
    },
    {
      "cell_type": "code",
      "metadata": {
        "id": "v4V2GBKfaI6W"
      },
      "source": [
        "class CustomCNN(nn.Module):\n",
        "  def __init__(self, output_dim):\n",
        "    super().__init__()\n",
        "\n",
        "    self.features = nn.Sequential(\n",
        "        nn.Conv2d(in_channels=3, out_channels=6, kernel_size=5, padding=2),\n",
        "        nn.MaxPool2d(kernel_size=2),\n",
        "        nn.ReLU(),\n",
        "        nn.Conv2d(in_channels=6, out_channels=16, kernel_size=5, padding=2),\n",
        "        nn.MaxPool2d(kernel_size=2),\n",
        "        nn.ReLU(),\n",
        "        nn.Conv2d(in_channels=16, out_channels=32, kernel_size=3, padding=1),\n",
        "        nn.MaxPool2d(kernel_size=2),\n",
        "        nn.ReLU()\n",
        "    )\n",
        "\n",
        "    self.linear = nn.Sequential(\n",
        "        nn.Linear(32 * 4 * 4, 120),\n",
        "        nn.ReLU(),\n",
        "        nn.Dropout(0.1),\n",
        "        nn.Linear(120, 84),\n",
        "        nn.ReLU(),\n",
        "        nn.Linear(84, output_dim)\n",
        "    )\n",
        "\n",
        "  def forward(self, x):\n",
        "    x = self.features(x)\n",
        "    x = x.view(x.shape[0], -1)\n",
        "    x = self.linear(x)\n",
        "\n",
        "    return x"
      ],
      "execution_count": 18,
      "outputs": []
    },
    {
      "cell_type": "code",
      "metadata": {
        "id": "IjinWqEcnbjH"
      },
      "source": [
        "# Custom CNN\n",
        "customNet = CustomCNN(OUTPUT_DIM)\n",
        "# Resnet 18\n",
        "resnet18 = torchvision.models.resnet18(pretrained=True)\n",
        "resnet18.fc = nn.Linear(resnet18.fc.in_features, OUTPUT_DIM)\n",
        "# DenseNet Net \n",
        "densenet = torchvision.models.densenet161(pretrained=True)\n",
        "densenet.classifier = nn.Linear(densenet.classifier.in_features, OUTPUT_DIM)"
      ],
      "execution_count": 19,
      "outputs": []
    },
    {
      "cell_type": "code",
      "metadata": {
        "id": "fOL3ZFkvYNAn"
      },
      "source": [
        "customNet = customNet.to(device)\n",
        "resnet18 = resnet18.to(device)\n",
        "densenet = densenet.to(device)\n",
        "\n",
        "# Optim\n",
        "optimizer_custom = optim.RMSprop(customNet.parameters(), lr=1e-3)\n",
        "optimizer_resnet18 = optim.RMSprop(resnet18.parameters(), lr=1e-3)\n",
        "optimizer_densenet = optim.RMSprop(densenet.parameters(), lr=1e-3)"
      ],
      "execution_count": 20,
      "outputs": []
    },
    {
      "cell_type": "code",
      "metadata": {
        "id": "swv0DUAgdC2b"
      },
      "source": [
        "## Uncomment the following lines to use the networks as feature extractors\n",
        "## training only the last FC layer.\n",
        "# for param in resnet18.parameters():\n",
        "#   param.requires_grad = False\n",
        "# resnet18.fc.weight.requires_grad = True\n",
        "# resnet18.fc.bias.requires_grad = True\n",
        "# for param in densenet.parameters():\n",
        "#     param.requires_grad = False\n",
        "# densenet.classifier.weight.requires_grad = True\n",
        "# densenet.classifier.bias.requires_grad = True"
      ],
      "execution_count": 21,
      "outputs": []
    },
    {
      "cell_type": "code",
      "metadata": {
        "colab": {
          "base_uri": "https://localhost:8080/"
        },
        "id": "TkLyzLX-anYt",
        "outputId": "026eb14d-abc6-440a-9bbc-cf4669fd4298"
      },
      "source": [
        "N_EPOCHS = 30\n",
        "train_losses_1, train_accs_1, valid_losses_1, valid_accs_1 = model_training(N_EPOCHS, \n",
        "                                                                            customNet,\n",
        "                                                                            train_iterator,\n",
        "                                                                            valid_iterator,\n",
        "                                                                            optimizer_custom,\n",
        "                                                                            criterion,\n",
        "                                                                            device,\n",
        "                                                                            'customNet.pt') "
      ],
      "execution_count": 22,
      "outputs": [
        {
          "output_type": "stream",
          "text": [
            "\n",
            "Epoch: 1/30 -- Epoch Time: 8.23 s\n",
            "---------------------------------\n",
            "Train -- Loss: 1.826, Acc: 32.44%\n",
            "Val -- Loss: 1.600, Acc: 40.37%\n",
            "\n",
            "Epoch: 2/30 -- Epoch Time: 8.25 s\n",
            "---------------------------------\n",
            "Train -- Loss: 1.494, Acc: 45.77%\n",
            "Val -- Loss: 1.423, Acc: 48.17%\n",
            "\n",
            "Epoch: 3/30 -- Epoch Time: 8.25 s\n",
            "---------------------------------\n",
            "Train -- Loss: 1.375, Acc: 50.38%\n",
            "Val -- Loss: 1.326, Acc: 52.31%\n",
            "\n",
            "Epoch: 4/30 -- Epoch Time: 8.25 s\n",
            "---------------------------------\n",
            "Train -- Loss: 1.296, Acc: 53.34%\n",
            "Val -- Loss: 1.227, Acc: 54.91%\n",
            "\n",
            "Epoch: 5/30 -- Epoch Time: 8.27 s\n",
            "---------------------------------\n",
            "Train -- Loss: 1.228, Acc: 56.04%\n",
            "Val -- Loss: 1.168, Acc: 57.84%\n",
            "\n",
            "Epoch: 6/30 -- Epoch Time: 8.27 s\n",
            "---------------------------------\n",
            "Train -- Loss: 1.182, Acc: 57.60%\n",
            "Val -- Loss: 1.196, Acc: 56.34%\n",
            "\n",
            "Epoch: 7/30 -- Epoch Time: 8.27 s\n",
            "---------------------------------\n",
            "Train -- Loss: 1.136, Acc: 59.26%\n",
            "Val -- Loss: 1.163, Acc: 58.81%\n",
            "\n",
            "Epoch: 8/30 -- Epoch Time: 8.26 s\n",
            "---------------------------------\n",
            "Train -- Loss: 1.096, Acc: 60.84%\n",
            "Val -- Loss: 1.090, Acc: 60.30%\n",
            "\n",
            "Epoch: 9/30 -- Epoch Time: 8.25 s\n",
            "---------------------------------\n",
            "Train -- Loss: 1.062, Acc: 62.07%\n",
            "Val -- Loss: 1.136, Acc: 59.97%\n",
            "\n",
            "Epoch: 10/30 -- Epoch Time: 8.19 s\n",
            "---------------------------------\n",
            "Train -- Loss: 1.026, Acc: 63.52%\n",
            "Val -- Loss: 0.978, Acc: 66.11%\n",
            "\n",
            "Epoch: 11/30 -- Epoch Time: 8.20 s\n",
            "---------------------------------\n",
            "Train -- Loss: 0.994, Acc: 64.71%\n",
            "Val -- Loss: 0.950, Acc: 66.32%\n",
            "\n",
            "Epoch: 12/30 -- Epoch Time: 8.21 s\n",
            "---------------------------------\n",
            "Train -- Loss: 0.966, Acc: 65.80%\n",
            "Val -- Loss: 0.964, Acc: 66.20%\n",
            "\n",
            "Epoch: 13/30 -- Epoch Time: 8.20 s\n",
            "---------------------------------\n",
            "Train -- Loss: 0.936, Acc: 66.67%\n",
            "Val -- Loss: 0.937, Acc: 66.88%\n",
            "\n",
            "Epoch: 14/30 -- Epoch Time: 8.20 s\n",
            "---------------------------------\n",
            "Train -- Loss: 0.911, Acc: 67.64%\n",
            "Val -- Loss: 0.908, Acc: 67.24%\n",
            "\n",
            "Epoch: 15/30 -- Epoch Time: 8.21 s\n",
            "---------------------------------\n",
            "Train -- Loss: 0.893, Acc: 68.53%\n",
            "Val -- Loss: 0.858, Acc: 68.83%\n",
            "\n",
            "Epoch: 16/30 -- Epoch Time: 8.21 s\n",
            "---------------------------------\n",
            "Train -- Loss: 0.866, Acc: 69.40%\n",
            "Val -- Loss: 0.850, Acc: 69.95%\n",
            "\n",
            "Epoch: 17/30 -- Epoch Time: 8.22 s\n",
            "---------------------------------\n",
            "Train -- Loss: 0.845, Acc: 70.15%\n",
            "Val -- Loss: 0.852, Acc: 70.15%\n",
            "\n",
            "Epoch: 18/30 -- Epoch Time: 8.21 s\n",
            "---------------------------------\n",
            "Train -- Loss: 0.826, Acc: 70.84%\n",
            "Val -- Loss: 0.909, Acc: 68.27%\n",
            "\n",
            "Epoch: 19/30 -- Epoch Time: 8.21 s\n",
            "---------------------------------\n",
            "Train -- Loss: 0.810, Acc: 71.46%\n",
            "Val -- Loss: 0.767, Acc: 72.58%\n",
            "\n",
            "Epoch: 20/30 -- Epoch Time: 8.21 s\n",
            "---------------------------------\n",
            "Train -- Loss: 0.788, Acc: 72.22%\n",
            "Val -- Loss: 0.827, Acc: 70.48%\n",
            "\n",
            "Epoch: 21/30 -- Epoch Time: 8.19 s\n",
            "---------------------------------\n",
            "Train -- Loss: 0.769, Acc: 72.84%\n",
            "Val -- Loss: 0.729, Acc: 73.95%\n",
            "\n",
            "Epoch: 22/30 -- Epoch Time: 8.20 s\n",
            "---------------------------------\n",
            "Train -- Loss: 0.752, Acc: 73.24%\n",
            "Val -- Loss: 0.726, Acc: 73.93%\n",
            "\n",
            "Epoch: 23/30 -- Epoch Time: 8.21 s\n",
            "---------------------------------\n",
            "Train -- Loss: 0.740, Acc: 73.79%\n",
            "Val -- Loss: 0.737, Acc: 73.94%\n",
            "\n",
            "Epoch: 24/30 -- Epoch Time: 8.21 s\n",
            "---------------------------------\n",
            "Train -- Loss: 0.722, Acc: 74.42%\n",
            "Val -- Loss: 0.674, Acc: 76.67%\n",
            "\n",
            "Epoch: 25/30 -- Epoch Time: 8.22 s\n",
            "---------------------------------\n",
            "Train -- Loss: 0.708, Acc: 74.93%\n",
            "Val -- Loss: 0.712, Acc: 74.38%\n",
            "\n",
            "Epoch: 26/30 -- Epoch Time: 8.22 s\n",
            "---------------------------------\n",
            "Train -- Loss: 0.691, Acc: 75.49%\n",
            "Val -- Loss: 0.659, Acc: 77.07%\n",
            "\n",
            "Epoch: 27/30 -- Epoch Time: 8.17 s\n",
            "---------------------------------\n",
            "Train -- Loss: 0.678, Acc: 75.85%\n",
            "Val -- Loss: 0.718, Acc: 74.79%\n",
            "\n",
            "Epoch: 28/30 -- Epoch Time: 8.22 s\n",
            "---------------------------------\n",
            "Train -- Loss: 0.663, Acc: 76.44%\n",
            "Val -- Loss: 0.644, Acc: 77.58%\n",
            "\n",
            "Epoch: 29/30 -- Epoch Time: 8.20 s\n",
            "---------------------------------\n",
            "Train -- Loss: 0.644, Acc: 77.14%\n",
            "Val -- Loss: 0.690, Acc: 75.02%\n",
            "\n",
            "Epoch: 30/30 -- Epoch Time: 8.20 s\n",
            "---------------------------------\n",
            "Train -- Loss: 0.638, Acc: 77.14%\n",
            "Val -- Loss: 0.706, Acc: 74.86%\n"
          ],
          "name": "stdout"
        }
      ]
    },
    {
      "cell_type": "code",
      "metadata": {
        "colab": {
          "base_uri": "https://localhost:8080/"
        },
        "id": "H2wPc7A8rZZz",
        "outputId": "8f4f655a-bf31-4605-de1d-a8fd5e97bdbe"
      },
      "source": [
        "N_EPOCHS = 30\n",
        "train_losses_2, train_accs_2, valid_losses_2, valid_accs_2 = model_training(N_EPOCHS, \n",
        "                                                                            resnet18,\n",
        "                                                                            train_iterator,\n",
        "                                                                            valid_iterator,\n",
        "                                                                            optimizer_resnet18,\n",
        "                                                                            criterion,\n",
        "                                                                            device,\n",
        "                                                                            'resnet18.pt') "
      ],
      "execution_count": 23,
      "outputs": [
        {
          "output_type": "stream",
          "text": [
            "\n",
            "Epoch: 1/30 -- Epoch Time: 14.92 s\n",
            "---------------------------------\n",
            "Train -- Loss: 1.408, Acc: 49.07%\n",
            "Val -- Loss: 1.832, Acc: 44.70%\n",
            "\n",
            "Epoch: 2/30 -- Epoch Time: 14.96 s\n",
            "---------------------------------\n",
            "Train -- Loss: 0.704, Acc: 76.12%\n",
            "Val -- Loss: 0.757, Acc: 73.98%\n",
            "\n",
            "Epoch: 3/30 -- Epoch Time: 14.54 s\n",
            "---------------------------------\n",
            "Train -- Loss: 0.510, Acc: 82.66%\n",
            "Val -- Loss: 0.952, Acc: 70.46%\n",
            "\n",
            "Epoch: 4/30 -- Epoch Time: 14.92 s\n",
            "---------------------------------\n",
            "Train -- Loss: 0.376, Acc: 87.34%\n",
            "Val -- Loss: 0.461, Acc: 84.29%\n",
            "\n",
            "Epoch: 5/30 -- Epoch Time: 14.55 s\n",
            "---------------------------------\n",
            "Train -- Loss: 0.279, Acc: 90.81%\n",
            "Val -- Loss: 0.851, Acc: 75.17%\n",
            "\n",
            "Epoch: 6/30 -- Epoch Time: 14.58 s\n",
            "---------------------------------\n",
            "Train -- Loss: 0.234, Acc: 92.37%\n",
            "Val -- Loss: 0.539, Acc: 84.13%\n",
            "\n",
            "Epoch: 7/30 -- Epoch Time: 14.97 s\n",
            "---------------------------------\n",
            "Train -- Loss: 0.158, Acc: 94.70%\n",
            "Val -- Loss: 0.278, Acc: 90.80%\n",
            "\n",
            "Epoch: 8/30 -- Epoch Time: 14.60 s\n",
            "---------------------------------\n",
            "Train -- Loss: 0.130, Acc: 95.61%\n",
            "Val -- Loss: 0.306, Acc: 90.68%\n",
            "\n",
            "Epoch: 9/30 -- Epoch Time: 14.97 s\n",
            "---------------------------------\n",
            "Train -- Loss: 0.123, Acc: 95.98%\n",
            "Val -- Loss: 0.151, Acc: 94.93%\n",
            "\n",
            "Epoch: 10/30 -- Epoch Time: 14.59 s\n",
            "---------------------------------\n",
            "Train -- Loss: 0.096, Acc: 96.82%\n",
            "Val -- Loss: 0.183, Acc: 93.98%\n",
            "\n",
            "Epoch: 11/30 -- Epoch Time: 14.56 s\n",
            "---------------------------------\n",
            "Train -- Loss: 0.088, Acc: 97.02%\n",
            "Val -- Loss: 0.251, Acc: 92.40%\n",
            "\n",
            "Epoch: 12/30 -- Epoch Time: 14.95 s\n",
            "---------------------------------\n",
            "Train -- Loss: 0.093, Acc: 96.94%\n",
            "Val -- Loss: 0.110, Acc: 96.54%\n",
            "\n",
            "Epoch: 13/30 -- Epoch Time: 14.59 s\n",
            "---------------------------------\n",
            "Train -- Loss: 0.066, Acc: 97.77%\n",
            "Val -- Loss: 0.216, Acc: 93.90%\n",
            "\n",
            "Epoch: 14/30 -- Epoch Time: 14.98 s\n",
            "---------------------------------\n",
            "Train -- Loss: 0.067, Acc: 97.69%\n",
            "Val -- Loss: 0.088, Acc: 96.98%\n",
            "\n",
            "Epoch: 15/30 -- Epoch Time: 14.97 s\n",
            "---------------------------------\n",
            "Train -- Loss: 0.061, Acc: 97.90%\n",
            "Val -- Loss: 0.068, Acc: 97.75%\n",
            "\n",
            "Epoch: 16/30 -- Epoch Time: 14.58 s\n",
            "---------------------------------\n",
            "Train -- Loss: 0.057, Acc: 98.00%\n",
            "Val -- Loss: 0.177, Acc: 94.74%\n",
            "\n",
            "Epoch: 17/30 -- Epoch Time: 14.57 s\n",
            "---------------------------------\n",
            "Train -- Loss: 0.056, Acc: 98.10%\n",
            "Val -- Loss: 0.108, Acc: 96.87%\n",
            "\n",
            "Epoch: 18/30 -- Epoch Time: 14.57 s\n",
            "---------------------------------\n",
            "Train -- Loss: 0.051, Acc: 98.26%\n",
            "Val -- Loss: 0.098, Acc: 96.64%\n",
            "\n",
            "Epoch: 19/30 -- Epoch Time: 14.91 s\n",
            "---------------------------------\n",
            "Train -- Loss: 0.097, Acc: 97.07%\n",
            "Val -- Loss: 0.028, Acc: 99.17%\n",
            "\n",
            "Epoch: 20/30 -- Epoch Time: 14.61 s\n",
            "---------------------------------\n",
            "Train -- Loss: 0.033, Acc: 98.89%\n",
            "Val -- Loss: 0.101, Acc: 96.98%\n",
            "\n",
            "Epoch: 21/30 -- Epoch Time: 14.60 s\n",
            "---------------------------------\n",
            "Train -- Loss: 0.056, Acc: 98.18%\n",
            "Val -- Loss: 0.043, Acc: 98.54%\n",
            "\n",
            "Epoch: 22/30 -- Epoch Time: 14.59 s\n",
            "---------------------------------\n",
            "Train -- Loss: 0.033, Acc: 98.88%\n",
            "Val -- Loss: 0.044, Acc: 98.51%\n",
            "\n",
            "Epoch: 23/30 -- Epoch Time: 14.59 s\n",
            "---------------------------------\n",
            "Train -- Loss: 0.050, Acc: 98.58%\n",
            "Val -- Loss: 0.410, Acc: 93.84%\n",
            "\n",
            "Epoch: 24/30 -- Epoch Time: 14.98 s\n",
            "---------------------------------\n",
            "Train -- Loss: 0.038, Acc: 98.68%\n",
            "Val -- Loss: 0.023, Acc: 99.32%\n",
            "\n",
            "Epoch: 25/30 -- Epoch Time: 14.60 s\n",
            "---------------------------------\n",
            "Train -- Loss: 0.038, Acc: 98.72%\n",
            "Val -- Loss: 0.045, Acc: 98.39%\n",
            "\n",
            "Epoch: 26/30 -- Epoch Time: 14.59 s\n",
            "---------------------------------\n",
            "Train -- Loss: 0.038, Acc: 98.72%\n",
            "Val -- Loss: 0.046, Acc: 98.48%\n",
            "\n",
            "Epoch: 27/30 -- Epoch Time: 14.59 s\n",
            "---------------------------------\n",
            "Train -- Loss: 0.039, Acc: 98.72%\n",
            "Val -- Loss: 0.076, Acc: 97.64%\n",
            "\n",
            "Epoch: 28/30 -- Epoch Time: 14.57 s\n",
            "---------------------------------\n",
            "Train -- Loss: 0.037, Acc: 98.78%\n",
            "Val -- Loss: 0.063, Acc: 97.84%\n",
            "\n",
            "Epoch: 29/30 -- Epoch Time: 14.98 s\n",
            "---------------------------------\n",
            "Train -- Loss: 0.085, Acc: 97.60%\n",
            "Val -- Loss: 0.021, Acc: 99.35%\n",
            "\n",
            "Epoch: 30/30 -- Epoch Time: 14.61 s\n",
            "---------------------------------\n",
            "Train -- Loss: 0.023, Acc: 99.22%\n",
            "Val -- Loss: 0.051, Acc: 98.36%\n"
          ],
          "name": "stdout"
        }
      ]
    },
    {
      "cell_type": "code",
      "metadata": {
        "id": "tlkA48apbtIT",
        "colab": {
          "base_uri": "https://localhost:8080/"
        },
        "outputId": "2346bb9a-9e37-49a6-804d-828c32667425"
      },
      "source": [
        "train_losses_3, train_accs_3, valid_losses_3, valid_accs_3 = model_training(N_EPOCHS, \n",
        "                                                                            densenet,\n",
        "                                                                            train_iterator,\n",
        "                                                                            valid_iterator,\n",
        "                                                                            optimizer_densenet,\n",
        "                                                                            criterion,\n",
        "                                                                            device,\n",
        "                                                                            'densenet.pt') "
      ],
      "execution_count": 24,
      "outputs": [
        {
          "output_type": "stream",
          "text": [
            "\n",
            "Epoch: 1/30 -- Epoch Time: 35.07 s\n",
            "---------------------------------\n",
            "Train -- Loss: 1.715, Acc: 38.15%\n",
            "Val -- Loss: 1.604, Acc: 43.46%\n",
            "\n",
            "Epoch: 2/30 -- Epoch Time: 35.14 s\n",
            "---------------------------------\n",
            "Train -- Loss: 1.195, Acc: 58.62%\n",
            "Val -- Loss: 1.172, Acc: 58.23%\n",
            "\n",
            "Epoch: 3/30 -- Epoch Time: 34.21 s\n",
            "---------------------------------\n",
            "Train -- Loss: 0.962, Acc: 67.86%\n",
            "Val -- Loss: 1.446, Acc: 67.46%\n",
            "\n",
            "Epoch: 4/30 -- Epoch Time: 35.20 s\n",
            "---------------------------------\n",
            "Train -- Loss: 0.733, Acc: 75.24%\n",
            "Val -- Loss: 0.888, Acc: 70.62%\n",
            "\n",
            "Epoch: 5/30 -- Epoch Time: 35.23 s\n",
            "---------------------------------\n",
            "Train -- Loss: 0.620, Acc: 78.75%\n",
            "Val -- Loss: 0.794, Acc: 75.56%\n",
            "\n",
            "Epoch: 6/30 -- Epoch Time: 34.21 s\n",
            "---------------------------------\n",
            "Train -- Loss: 0.575, Acc: 81.13%\n",
            "Val -- Loss: 3.168, Acc: 66.21%\n",
            "\n",
            "Epoch: 7/30 -- Epoch Time: 35.29 s\n",
            "---------------------------------\n",
            "Train -- Loss: 0.448, Acc: 84.55%\n",
            "Val -- Loss: 0.434, Acc: 84.46%\n",
            "\n",
            "Epoch: 8/30 -- Epoch Time: 34.19 s\n",
            "---------------------------------\n",
            "Train -- Loss: 0.341, Acc: 88.20%\n",
            "Val -- Loss: 0.505, Acc: 83.22%\n",
            "\n",
            "Epoch: 9/30 -- Epoch Time: 34.15 s\n",
            "---------------------------------\n",
            "Train -- Loss: 0.274, Acc: 90.62%\n",
            "Val -- Loss: 0.469, Acc: 84.23%\n",
            "\n",
            "Epoch: 10/30 -- Epoch Time: 34.18 s\n",
            "---------------------------------\n",
            "Train -- Loss: 0.215, Acc: 92.67%\n",
            "Val -- Loss: 0.516, Acc: 83.23%\n",
            "\n",
            "Epoch: 11/30 -- Epoch Time: 35.19 s\n",
            "---------------------------------\n",
            "Train -- Loss: 0.163, Acc: 94.44%\n",
            "Val -- Loss: 0.227, Acc: 92.15%\n",
            "\n",
            "Epoch: 12/30 -- Epoch Time: 34.16 s\n",
            "---------------------------------\n",
            "Train -- Loss: 0.133, Acc: 95.47%\n",
            "Val -- Loss: 0.302, Acc: 90.06%\n",
            "\n",
            "Epoch: 13/30 -- Epoch Time: 35.25 s\n",
            "---------------------------------\n",
            "Train -- Loss: 0.169, Acc: 94.63%\n",
            "Val -- Loss: 0.131, Acc: 95.60%\n",
            "\n",
            "Epoch: 14/30 -- Epoch Time: 34.17 s\n",
            "---------------------------------\n",
            "Train -- Loss: 0.080, Acc: 97.28%\n",
            "Val -- Loss: 0.542, Acc: 86.05%\n",
            "\n",
            "Epoch: 15/30 -- Epoch Time: 35.16 s\n",
            "---------------------------------\n",
            "Train -- Loss: 0.083, Acc: 97.10%\n",
            "Val -- Loss: 0.097, Acc: 96.97%\n",
            "\n",
            "Epoch: 16/30 -- Epoch Time: 34.22 s\n",
            "---------------------------------\n",
            "Train -- Loss: 0.080, Acc: 97.22%\n",
            "Val -- Loss: 0.101, Acc: 96.49%\n",
            "\n",
            "Epoch: 17/30 -- Epoch Time: 34.19 s\n",
            "---------------------------------\n",
            "Train -- Loss: 0.075, Acc: 97.39%\n",
            "Val -- Loss: 0.174, Acc: 94.86%\n",
            "\n",
            "Epoch: 18/30 -- Epoch Time: 34.16 s\n",
            "---------------------------------\n",
            "Train -- Loss: 0.071, Acc: 97.55%\n",
            "Val -- Loss: 0.189, Acc: 94.04%\n",
            "\n",
            "Epoch: 19/30 -- Epoch Time: 34.18 s\n",
            "---------------------------------\n",
            "Train -- Loss: 0.066, Acc: 97.73%\n",
            "Val -- Loss: 0.304, Acc: 92.49%\n",
            "\n",
            "Epoch: 20/30 -- Epoch Time: 34.19 s\n",
            "---------------------------------\n",
            "Train -- Loss: 0.062, Acc: 97.84%\n",
            "Val -- Loss: 0.175, Acc: 97.21%\n",
            "\n",
            "Epoch: 21/30 -- Epoch Time: 34.16 s\n",
            "---------------------------------\n",
            "Train -- Loss: 0.053, Acc: 98.18%\n",
            "Val -- Loss: 0.334, Acc: 91.42%\n",
            "\n",
            "Epoch: 22/30 -- Epoch Time: 35.21 s\n",
            "---------------------------------\n",
            "Train -- Loss: 0.055, Acc: 98.12%\n",
            "Val -- Loss: 0.085, Acc: 97.14%\n",
            "\n",
            "Epoch: 23/30 -- Epoch Time: 34.18 s\n",
            "---------------------------------\n",
            "Train -- Loss: 0.048, Acc: 98.35%\n",
            "Val -- Loss: 1.539, Acc: 98.07%\n",
            "\n",
            "Epoch: 24/30 -- Epoch Time: 34.23 s\n",
            "---------------------------------\n",
            "Train -- Loss: 0.048, Acc: 98.34%\n",
            "Val -- Loss: 0.102, Acc: 98.09%\n",
            "\n",
            "Epoch: 25/30 -- Epoch Time: 34.16 s\n",
            "---------------------------------\n",
            "Train -- Loss: 0.043, Acc: 98.53%\n",
            "Val -- Loss: 0.164, Acc: 98.07%\n",
            "\n",
            "Epoch: 26/30 -- Epoch Time: 34.13 s\n",
            "---------------------------------\n",
            "Train -- Loss: 0.045, Acc: 98.50%\n",
            "Val -- Loss: 0.299, Acc: 96.53%\n",
            "\n",
            "Epoch: 27/30 -- Epoch Time: 34.15 s\n",
            "---------------------------------\n",
            "Train -- Loss: 0.042, Acc: 98.53%\n",
            "Val -- Loss: 0.624, Acc: 91.46%\n",
            "\n",
            "Epoch: 28/30 -- Epoch Time: 34.14 s\n",
            "---------------------------------\n",
            "Train -- Loss: 0.040, Acc: 98.62%\n",
            "Val -- Loss: 2.030, Acc: 96.56%\n",
            "\n",
            "Epoch: 29/30 -- Epoch Time: 34.16 s\n",
            "---------------------------------\n",
            "Train -- Loss: 0.040, Acc: 98.61%\n",
            "Val -- Loss: 0.913, Acc: 96.38%\n",
            "\n",
            "Epoch: 30/30 -- Epoch Time: 34.14 s\n",
            "---------------------------------\n",
            "Train -- Loss: 0.039, Acc: 98.72%\n",
            "Val -- Loss: 2.652, Acc: 87.87%\n"
          ],
          "name": "stdout"
        }
      ]
    },
    {
      "cell_type": "code",
      "metadata": {
        "id": "SeGp4MZabhvn",
        "colab": {
          "base_uri": "https://localhost:8080/"
        },
        "outputId": "c1122338-81e8-431f-e9da-2c9627b8e46f"
      },
      "source": [
        "model_testing(customNet, test_iterator, criterion, device, 'customNet.pt')"
      ],
      "execution_count": 25,
      "outputs": [
        {
          "output_type": "stream",
          "text": [
            "Test -- Loss: 1.068, Acc: 65.56 %\n"
          ],
          "name": "stdout"
        }
      ]
    },
    {
      "cell_type": "code",
      "metadata": {
        "id": "FeixKdn6cWR7",
        "colab": {
          "base_uri": "https://localhost:8080/"
        },
        "outputId": "12fbddab-f594-4afa-de6a-2ba9e8c2b12e"
      },
      "source": [
        "model_testing(resnet18, test_iterator, criterion, device, 'resnet18.pt')"
      ],
      "execution_count": 26,
      "outputs": [
        {
          "output_type": "stream",
          "text": [
            "Test -- Loss: 0.962, Acc: 80.06 %\n"
          ],
          "name": "stdout"
        }
      ]
    },
    {
      "cell_type": "code",
      "metadata": {
        "id": "h_TI40H5cW59",
        "colab": {
          "base_uri": "https://localhost:8080/"
        },
        "outputId": "caa2473e-d117-4a2a-83d0-c16578bf94e8"
      },
      "source": [
        "model_testing(densenet, test_iterator, criterion, device, 'densenet.pt')"
      ],
      "execution_count": 27,
      "outputs": [
        {
          "output_type": "stream",
          "text": [
            "Test -- Loss: 0.902, Acc: 80.37 %\n"
          ],
          "name": "stdout"
        }
      ]
    },
    {
      "cell_type": "code",
      "metadata": {
        "id": "UzasKPOBb9kp",
        "colab": {
          "base_uri": "https://localhost:8080/",
          "height": 405
        },
        "outputId": "65bad0cb-a717-487c-d536-ca9b83c43468"
      },
      "source": [
        "# Plot all results\n",
        "plt.figure(figsize=(20, 6))\n",
        "_ = plt.subplot(1,2,1)\n",
        "plt.plot(np.arange(N_EPOCHS)+1, train_losses_1, linewidth=3)\n",
        "plt.plot(np.arange(N_EPOCHS)+1, train_losses_2, linewidth=3)\n",
        "plt.plot(np.arange(N_EPOCHS)+1, train_losses_3, linewidth=3)\n",
        "plt.plot(np.arange(N_EPOCHS)+1, valid_losses_1, '--', linewidth=3)\n",
        "plt.plot(np.arange(N_EPOCHS)+1, valid_losses_2, '--', linewidth=3)\n",
        "plt.plot(np.arange(N_EPOCHS)+1, valid_losses_3, '--', linewidth=3)\n",
        "_ = plt.legend(['Train (Custom)', 'Train (Resnet18)', 'Train (DenseNet)', 'Valid (Custom)', 'Valid (Resnet18)', 'Valid (DenseNet)'])\n",
        "plt.grid('on'), plt.xlabel('Epoch'), plt.ylabel('Loss')\n",
        "\n",
        "_ = plt.subplot(1,2,2)\n",
        "plt.plot(np.arange(N_EPOCHS)+1, train_accs_1, linewidth=3)\n",
        "plt.plot(np.arange(N_EPOCHS)+1, train_accs_2, linewidth=3)\n",
        "plt.plot(np.arange(N_EPOCHS)+1, train_accs_3, linewidth=3)\n",
        "plt.plot(np.arange(N_EPOCHS)+1, valid_accs_1, '--', linewidth=3)\n",
        "plt.plot(np.arange(N_EPOCHS)+1, valid_accs_2, '--', linewidth=3)\n",
        "plt.plot(np.arange(N_EPOCHS)+1, valid_accs_3, '--', linewidth=3)\n",
        "_ = plt.legend(['Train (Custom)', 'Train (Resnet18)', 'Train (DenseNet)', 'Valid (Custom)', 'Valid (Resnet18)', 'Valid (DenseNet)'])\n",
        "plt.grid('on'), plt.xlabel('Epoch'), plt.ylabel('Accuracy')"
      ],
      "execution_count": 28,
      "outputs": [
        {
          "output_type": "execute_result",
          "data": {
            "text/plain": [
              "(None, Text(0.5, 0, 'Epoch'), Text(0, 0.5, 'Accuracy'))"
            ]
          },
          "metadata": {
            "tags": []
          },
          "execution_count": 28
        },
        {
          "output_type": "display_data",
          "data": {
            "text/plain": [
              "<Figure size 1440x432 with 2 Axes>"
            ],
            "image/png": "[encoded data removed]"
          },
          "metadata": {
            "tags": [],
            "needs_background": "light"
          }
        }
      ]
    }
  ]
}
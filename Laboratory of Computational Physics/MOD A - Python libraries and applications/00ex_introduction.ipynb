{
 "cells": [
  {
   "cell_type": "markdown",
   "metadata": {},
   "source": [
    "1. The MickeyMouse problem\n",
    "\n",
    "a) Write a program that prints the numbers from 1 to 100. But for multiples of three print Mickey instead of the number and for the multiples of five print Mouse. For numbers which are multiples of both three and five print MickeyMouse\n",
    "\n",
    "b) Put the result in a tuple and substitute Mickey with Donald and Mouse with Duck"
   ]
  },
  {
   "cell_type": "code",
   "execution_count": 1,
   "metadata": {},
   "outputs": [
    {
     "name": "stdout",
     "output_type": "stream",
     "text": [
      "1\n",
      "2\n",
      "Mickey\n",
      "4\n",
      "Mouse\n",
      "Mickey\n",
      "7\n",
      "8\n",
      "Mickey\n",
      "Mouse\n",
      "11\n",
      "Mickey\n",
      "13\n",
      "14\n",
      "MickeyMouse\n",
      "16\n",
      "17\n",
      "Mickey\n",
      "19\n",
      "Mouse\n",
      "Mickey\n",
      "22\n",
      "23\n",
      "Mickey\n",
      "Mouse\n",
      "26\n",
      "Mickey\n",
      "28\n",
      "29\n",
      "MickeyMouse\n",
      "31\n",
      "32\n",
      "Mickey\n",
      "34\n",
      "Mouse\n",
      "Mickey\n",
      "37\n",
      "38\n",
      "Mickey\n",
      "Mouse\n",
      "41\n",
      "Mickey\n",
      "43\n",
      "44\n",
      "MickeyMouse\n",
      "46\n",
      "47\n",
      "Mickey\n",
      "49\n",
      "Mouse\n",
      "Mickey\n",
      "52\n",
      "53\n",
      "Mickey\n",
      "Mouse\n",
      "56\n",
      "Mickey\n",
      "58\n",
      "59\n",
      "MickeyMouse\n",
      "61\n",
      "62\n",
      "Mickey\n",
      "64\n",
      "Mouse\n",
      "Mickey\n",
      "67\n",
      "68\n",
      "Mickey\n",
      "Mouse\n",
      "71\n",
      "Mickey\n",
      "73\n",
      "74\n",
      "MickeyMouse\n",
      "76\n",
      "77\n",
      "Mickey\n",
      "79\n",
      "Mouse\n",
      "Mickey\n",
      "82\n",
      "83\n",
      "Mickey\n",
      "Mouse\n",
      "86\n",
      "Mickey\n",
      "88\n",
      "89\n",
      "MickeyMouse\n",
      "91\n",
      "92\n",
      "Mickey\n",
      "94\n",
      "Mouse\n",
      "Mickey\n",
      "97\n",
      "98\n",
      "Mickey\n",
      "Mouse\n"
     ]
    }
   ],
   "source": [
    "# Ex a\n",
    "\n",
    "string3 = \"Mickey\"\n",
    "string5 = \"Mouse\"\n",
    "for i in range(1,101): \n",
    "    if i%3 == 0 and i%5 == 0:\n",
    "        print(string3+string5)\n",
    "    elif i%3 == 0:\n",
    "        print(string3)\n",
    "    elif i%5 == 0:\n",
    "        print(string5)\n",
    "    else: \n",
    "        print(i)\n",
    "    \n",
    "# Ex b\n",
    "\n",
    "string3 = \"Donald\"\n",
    "string5 = \"Duck\"\n",
    "newlist = []\n",
    "for i in range(1,101): \n",
    "    if i%3 == 0 and i%5 == 0:\n",
    "        newlist.append(string3+string5)\n",
    "    elif i%3 == 0:\n",
    "        newlist.append(string3)\n",
    "    elif i%5 == 0:\n",
    "        newlist.append(string5)\n",
    "    else: \n",
    "        newlist.append(i)\n",
    "        \n",
    "newtuple = tuple(newlist)\n",
    "\n",
    "\n",
    "    "
   ]
  },
  {
   "cell_type": "markdown",
   "metadata": {},
   "source": [
    "2\\. The swap function\n",
    "\n",
    "Write a function that swaps the values of two input variables x and y (whatever the type). Try to do that also without a temporary variable"
   ]
  },
  {
   "cell_type": "code",
   "execution_count": 2,
   "metadata": {},
   "outputs": [
    {
     "name": "stdout",
     "output_type": "stream",
     "text": [
      "before: pippo pluto\n",
      "after: pluto pippo\n",
      "\n",
      "before: pluto pippo\n",
      "after: pippo pluto\n"
     ]
    }
   ],
   "source": [
    "#First way\n",
    "\n",
    "def swap1(a,b):\n",
    "    c = a\n",
    "    a = b\n",
    "    b = c\n",
    "    return a,b\n",
    "\n",
    "#x = input(\"first value: \")\n",
    "#y = input(\"second value: \")\n",
    "x = 'pippo'\n",
    "y = 'pluto'\n",
    "\n",
    "print(\"before: \"+ x,y)\n",
    "x,y = swap1(x,y)\n",
    "print(\"after: \"+ x,y)\n",
    "\n",
    "#Easy way\n",
    "\n",
    "def swap2(a,b):\n",
    "    a,b = b,a     # I think it is correct since Python is actually creating new objects...\n",
    "    return a,b\n",
    "\n",
    "print(\"\\nbefore: \"+ x,y)\n",
    "x,y = swap2(x,y)\n",
    "print(\"after: \"+ x,y)"
   ]
  },
  {
   "cell_type": "markdown",
   "metadata": {},
   "source": [
    "3\\. Computing the distance\n",
    "\n",
    "Write a function that calculates and returns the euclidean distance between two points *u* and *v*, where *u* and *v* are both 2-tuples *(x,y)*. For example, if *u=(3,0)* and *v=(0,4)*, the function should return 5"
   ]
  },
  {
   "cell_type": "code",
   "execution_count": 3,
   "metadata": {},
   "outputs": [
    {
     "name": "stdout",
     "output_type": "stream",
     "text": [
      "distance: 5.0\n"
     ]
    }
   ],
   "source": [
    "import math\n",
    "\n",
    "def distance(u,v):                                                        #Distance for n-dimentional tuple\n",
    "    if isinstance(u, tuple) == False: print(\"error: u is not a vector\") \n",
    "    if isinstance(v, tuple) == False: print(\"error: v is not a vector\") \n",
    "    if len(u) != len(v): print (\"error: dimensional mismatch\")\n",
    "        \n",
    "    lenght = len(u)\n",
    "    total = 0\n",
    "    \n",
    "    i = 0\n",
    "    while i < lenght:\n",
    "        diff = u[i] - v[i]\n",
    "        total += pow(diff,2)\n",
    "        i+=1\n",
    "        \n",
    "    return math.sqrt(total)\n",
    "\n",
    "#u_x,u_y = input(\"first vector coordinates (e.g: x y): \").split()          #Brutal way to enter input variables:\n",
    "#v_x,v_y = input(\"second vector coorsinates (e.g: x y): \").split()         #if tuples are given, function will easily work\n",
    "\n",
    "u_x,u_y = '3','0'\n",
    "v_x,v_y = '0','4'\n",
    "\n",
    "u = (float(u_x), float(u_y))    \n",
    "v = (float(v_x), float(v_y))\n",
    "dist = distance(u,v)\n",
    "print(\"distance: \" + str(dist))"
   ]
  },
  {
   "cell_type": "markdown",
   "metadata": {},
   "source": [
    "4\\. Counting letters\n",
    "\n",
    "Write a program to calculate the number of times each character occurs in a given string *s*. Ignore differneces in capitalization"
   ]
  },
  {
   "cell_type": "code",
   "execution_count": 4,
   "metadata": {},
   "outputs": [
    {
     "name": "stdout",
     "output_type": "stream",
     "text": [
      "{'w': 2, 'r': 17, 'i': 14, 't': 19, 'e': 22, ' ': 41, 'a': 7, 'p': 8, 'o': 13, 'g': 1, 'm': 12, 'h': 9, 'n': 10, 's': 9, 'u': 9, 'b': 5, 'f': 10, '1': 2, '0': 2, '.': 2, 'l': 6, 'c': 3, 'k': 2, 'y': 2, 'd': 3, 'v': 2}\n"
     ]
    }
   ],
   "source": [
    "def count(characters):\n",
    "    total = {}                                               #Set output dictionary\n",
    "    reduced_list = []                       \n",
    "    for x in characters:\n",
    "        if not x in reduced_list: reduced_list.append(x)     #Set used characters (whithout repetitions)\n",
    "    for y in reduced_list:\n",
    "        counter = 0\n",
    "        for z in characters:\n",
    "            if z == y: counter += 1                          #Count appearences\n",
    "        total[str(y)] = counter\n",
    "    return total\n",
    "    \n",
    "    \n",
    "\n",
    "s=\"Write a program that prints the numbers from 1 to 100. \\\n",
    "But for multiples of three print Mickey instead of the number and for the multiples of five print Mouse. \\\n",
    "For numbers which are multiples of both three and five print MickeyMouse\"\n",
    "#s = input(\"Enter new string: \")\n",
    "\n",
    "low_string = s.lower()\n",
    "characters = [x for x in low_string]\n",
    "register = count(characters)\n",
    "print(register)\n",
    "\n",
    "\n"
   ]
  },
  {
   "cell_type": "markdown",
   "metadata": {},
   "source": [
    "5\\. Isolating the unique\n",
    "\n",
    "Write a function that determines and count the unique numbers in the list *l*"
   ]
  },
  {
   "cell_type": "code",
   "execution_count": 5,
   "metadata": {},
   "outputs": [
    {
     "name": "stdout",
     "output_type": "stream",
     "text": [
      "[58, 74, 96, 64, 10, 24, 19, 33, 86, 99, 18, 47, 88, 55, 54, 8, 79, 81, 57, 37, 1, 9, 95, 90, 98, 39, 16, 82, 92, 41, 30, 94, 5, 72, 87, 75, 53]\n",
      "total uniques number: 37\n"
     ]
    }
   ],
   "source": [
    "l = [36, 45, 58, 3, 74, 96, 64, 45, 31, 10, 24, 19, 33, 86, 99, 18, 63, 70, 85,\n",
    "     85, 63, 47, 56, 42, 70, 84, 88, 55, 20, 54, 8, 56, 51, 79, 81, 57, 37, 91,\n",
    "     1, 84, 84, 36, 66, 9, 89, 50, 42, 91, 50, 95, 90, 98, 39, 16, 82, 31, 92, 41,\n",
    "     45, 30, 66, 70, 34, 85, 94, 5, 3, 36, 72, 91, 84, 34, 87, 75, 53, 51, 20, 89, 51, 20]\n",
    "\n",
    "\n",
    "def counter(x,l):                 #Counts how many times x appears in l\n",
    "    count = 0\n",
    "    for y in l:\n",
    "        if y == x: count += 1\n",
    "    return count\n",
    "     \n",
    "\n",
    "def findtheunique(l):\n",
    "    dic = {}\n",
    "    uniques = []\n",
    "    for i in l: \n",
    "        dic[i] = counter(i,l)                   #Create dic to store data\n",
    "    for j in dic:\n",
    "        if dic.get(j) == 1: uniques.append(j)   #Finds elements wich number of occurrence is == 1\n",
    "    return uniques\n",
    "\n",
    "\n",
    "L = findtheunique(l)         \n",
    "print(L)\n",
    "print(\"total uniques number: \" + str(len(L)))\n",
    "\n",
    "\n",
    "\n",
    "\n",
    "\n",
    "\n",
    "\n",
    "\n",
    "\n",
    "#NOTE: initially, i misunderstood the request, creating a function to check the amount of prime numbers in a list. \n",
    "    #  I let it here for (possible) further use\n",
    "\n",
    "\n",
    "\n",
    "\n",
    "\n",
    "\n",
    "#def isprime_num(x):                                 #Define function to check if a number is prime\n",
    "    #prime = True\n",
    "    #for i in range(2,x):                            #Inefficient (would be sufficient to run from 2 to sqrt(x)), but easier to implement\n",
    "        #if x%i == 0: prime = False\n",
    "    #return prime\n",
    "\n",
    "#def isprime_list(l):                                #Define function to check if a list of numbers contains primes\n",
    "    #list_primes = []\n",
    "    #for z in l:\n",
    "        #if isprime_num(z) == True: list_primes.append(z)\n",
    "    #return list_primes\n",
    "\n",
    "\n",
    "\n",
    "\n",
    "#l = input(\"enter list: \")\n",
    "\n",
    "#primes = isprime_list(l)\n",
    "#print(\"the resulting prime numbers are: \")\n",
    "#print(primes)\n",
    "#print(\"the total number of primes is: \")\n",
    "#print(len(primes))\n",
    "\n"
   ]
  },
  {
   "cell_type": "markdown",
   "metadata": {},
   "source": [
    "6\\. Combination of functions\n",
    "\n",
    "Write two functions - one that returns the square of a number, and one that returns the cube. Now write a third function that returns the number raised to the 6th power using the two previous functions."
   ]
  },
  {
   "cell_type": "code",
   "execution_count": 6,
   "metadata": {},
   "outputs": [
    {
     "name": "stdout",
     "output_type": "stream",
     "text": [
      "49 343 117649\n"
     ]
    }
   ],
   "source": [
    "def to2(x):\n",
    "    y = pow(x,2)\n",
    "    return y\n",
    "\n",
    "def to3(x):\n",
    "    y = pow(x,3)\n",
    "    return y\n",
    "\n",
    "def to6(x):\n",
    "    y = to3(to2(x))\n",
    "    return y\n",
    "\n",
    "#x = float(input(\"input value: \"))\n",
    "x = 7\n",
    "print(to2(x), to3(x), to6(x))"
   ]
  },
  {
   "cell_type": "markdown",
   "metadata": {},
   "source": [
    "7\\. Cubes\n",
    "\n",
    "Create a list of the cubes of x for x in *[0, 10]* using:\n",
    "\n",
    "a) a for loop\n",
    "\n",
    "b) a list comprehension"
   ]
  },
  {
   "cell_type": "code",
   "execution_count": 7,
   "metadata": {},
   "outputs": [
    {
     "name": "stdout",
     "output_type": "stream",
     "text": [
      "[0, 1, 8, 27, 64, 125, 216, 343, 512, 729, 1000]\n",
      "[0, 1, 8, 27, 64, 125, 216, 343, 512, 729, 1000]\n"
     ]
    }
   ],
   "source": [
    "# Ex a:\n",
    "\n",
    "l = []\n",
    "for i in range(0,11):\n",
    "    l.append(pow(i,3))\n",
    "print(l)\n",
    "\n",
    "# Ex b:\n",
    "\n",
    "l = [pow(x,3) for x in range(0,11)]\n",
    "print(l)"
   ]
  },
  {
   "cell_type": "markdown",
   "metadata": {},
   "source": [
    "8\\. Nested list comprehension\n",
    "\n",
    "A Pythagorean triple is an integer solution to the Pythagorean theorem $a^2+b^2=c^2$. The first Pythagorean triple is (3,4,5). Find and put in a tuple all unique Pythagorean triples for the positive integers a, b and c less than 100."
   ]
  },
  {
   "cell_type": "code",
   "execution_count": 8,
   "metadata": {},
   "outputs": [
    {
     "name": "stdout",
     "output_type": "stream",
     "text": [
      "([3, 4, 5], [6, 8, 10], [5, 12, 13], [9, 12, 15], [8, 15, 17], [12, 16, 20], [15, 20, 25], [7, 24, 25], [10, 24, 26], [20, 21, 29], [18, 24, 30], [16, 30, 34], [21, 28, 35], [12, 35, 37], [15, 36, 39], [24, 32, 40], [9, 40, 41], [27, 36, 45], [30, 40, 50], [14, 48, 50], [24, 45, 51], [20, 48, 52], [28, 45, 53], [33, 44, 55], [40, 42, 58], [36, 48, 60], [11, 60, 61], [39, 52, 65], [33, 56, 65], [25, 60, 65], [16, 63, 65], [32, 60, 68], [42, 56, 70], [48, 55, 73], [24, 70, 74], [45, 60, 75], [21, 72, 75], [30, 72, 78], [48, 64, 80], [18, 80, 82], [51, 68, 85], [40, 75, 85], [36, 77, 85], [13, 84, 85], [60, 63, 87], [39, 80, 89], [54, 72, 90], [35, 84, 91], [57, 76, 95], [65, 72, 97])\n"
     ]
    }
   ],
   "source": [
    "\n",
    "    \n",
    "            \n",
    "l = [[a,b,c] for c in range(2,100) for b in range(2,c) for a in range(2,b) if pow(a,2)+pow(b,2)-pow(c,2) == 0  ]\n",
    "t = tuple(l)\n",
    "print(t)"
   ]
  },
  {
   "cell_type": "markdown",
   "metadata": {},
   "source": [
    "9\\. Normalization\n",
    "\n",
    "Write a function that takes a tuple of numbers and returns it with the entries normalized to one"
   ]
  },
  {
   "cell_type": "code",
   "execution_count": 9,
   "metadata": {},
   "outputs": [
    {
     "name": "stdout",
     "output_type": "stream",
     "text": [
      "(0.3, 0.4, 0.5, 0.6, 0.7, 0.8, 0.3, 0.5, 0.6, 0.4, 0.3, 1.0)\n"
     ]
    }
   ],
   "source": [
    "def normalization(v):\n",
    "    if isinstance(v, tuple) == False: print(\"error: v is not a tuple\") \n",
    "    max = v[0]\n",
    "    for x in v:\n",
    "        if x > max: max = x\n",
    "    u = [y/max for y in v]\n",
    "    return tuple(u)\n",
    "\n",
    "v = (3,4,5,6,7,8,3,5,6,4,3,10)\n",
    "u = normalization(v)\n",
    "print(u)\n",
    "        \n",
    "        "
   ]
  }
 ],
 "metadata": {
  "kernelspec": {
   "display_name": "Python 3",
   "language": "python",
   "name": "python3"
  },
  "language_info": {
   "codemirror_mode": {
    "name": "ipython",
    "version": 3
   },
   "file_extension": ".py",
   "mimetype": "text/x-python",
   "name": "python",
   "nbconvert_exporter": "python",
   "pygments_lexer": "ipython3",
   "version": "3.8.5"
  }
 },
 "nbformat": 4,
 "nbformat_minor": 2
}

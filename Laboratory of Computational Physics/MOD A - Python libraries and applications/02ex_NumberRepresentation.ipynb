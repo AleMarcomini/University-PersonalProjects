{
 "cells": [
  {
   "cell_type": "markdown",
   "metadata": {},
   "source": [
    "1\\. Write a function that converts number representation (bin<->dec<->hex)"
   ]
  },
  {
   "cell_type": "code",
   "execution_count": 1,
   "metadata": {},
   "outputs": [
    {
     "name": "stdout",
     "output_type": "stream",
     "text": [
      "decimal representation: 1495\n",
      "hexadecimal representation: 5D7\n"
     ]
    }
   ],
   "source": [
    "#from math import sum\n",
    "\n",
    "def converter(num, x):\n",
    "    \n",
    "    #from binary:\n",
    "    \n",
    "    if x == 'bin': \n",
    "        while len(num)%4 != 0: num = '0' + num\n",
    "        l = len(num)\n",
    "        k = l//4\n",
    "        y = 0\n",
    "        c = []\n",
    "        for i in range(l):\n",
    "            y += pow(2,l-i-1)*int(num[i])\n",
    "            \n",
    "        j = 0\n",
    "        while j < k:\n",
    "            sublist = [int(num[j*4+i]) for i in range(4)]\n",
    "            s = 0\n",
    "            for i in range(4):\n",
    "                s += pow(2,3-i)*int(sublist[i])\n",
    "            if s<10: c.append(str(s))\n",
    "            elif s == 10: c.append('A')\n",
    "            elif s == 11: c.append('B')\n",
    "            elif s == 12: c.append('C')\n",
    "            elif s == 13: c.append('D')\n",
    "            elif s == 14: c.append('E')\n",
    "            elif s == 15: c.append('F')\n",
    "            j += 1\n",
    "        z = ''\n",
    "        for i in range(len(c)): z += c[i]\n",
    "        print('decimal representation:', y)   \n",
    "        print('hexadecimal representation:', z)  \n",
    "    \n",
    "    \n",
    "    \n",
    "    #from decimal:\n",
    "    \n",
    "    elif x == 'dec':\n",
    "        n = 0                                        #number of necessary bits\n",
    "        while int(num)//pow(2,n)>0: n+=1\n",
    "        l = ''\n",
    "        data = int(num)\n",
    "        for i in range(n):\n",
    "            if data/pow(2,n-i-1) >= 1: \n",
    "                l += '1'\n",
    "                data -= pow(2,n-i-1)\n",
    "            else: l += '0'    \n",
    "        print('binary representation: ', l)\n",
    "        \n",
    "        while len(l)%4 != 0: l = '0' + l\n",
    "        k = len(l)/4\n",
    "        j = 0\n",
    "        c = []\n",
    "        while j < k:\n",
    "            sublist = [int(l[j*4+i]) for i in range(4)]\n",
    "            s = 0\n",
    "            for i in range(4):\n",
    "                s += pow(2,3-i)*int(sublist[i])\n",
    "            if s<10: c.append(str(s))\n",
    "            elif s == 10: c.append('A')\n",
    "            elif s == 11: c.append('B')\n",
    "            elif s == 12: c.append('C')\n",
    "            elif s == 13: c.append('D')\n",
    "            elif s == 14: c.append('E')\n",
    "            elif s == 15: c.append('F')\n",
    "            j += 1\n",
    "        z = ''\n",
    "        for i in range(len(c)): z += c[i]\n",
    "        print('hexadecimal representation:', z)  \n",
    "        \n",
    "        \n",
    "    \n",
    "    \n",
    "    \n",
    "    \n",
    "    #from hexadecimal:\n",
    "    \n",
    "    elif x == 'hex':\n",
    "        n = len(num)\n",
    "        total = 0\n",
    "        for i in range(n):\n",
    "            if num[i] == 'A': total += pow(16,n-i-1)*10\n",
    "            elif num[i] == 'B': total += pow(16,n-i-1)*11\n",
    "            elif num[i] == 'C': total += pow(16,n-i-1)*12\n",
    "            elif num[i] == 'D': total += pow(16,n-i-1)*13\n",
    "            elif num[i] == 'E': total += pow(16,n-i-1)*14\n",
    "            elif num[i] == 'F': total += pow(16,n-i-1)*15\n",
    "            else: total += pow(16,n-i-1)*int(num[i])\n",
    "        print('decimal representation:', total)\n",
    "        \n",
    "        m = 0                                        #number of necessary bits\n",
    "        while total//pow(2,m)>0: m+=1\n",
    "        l = ''\n",
    "        for i in range(m):\n",
    "            if total/pow(2,m-i-1) >= 1: \n",
    "                l += '1'\n",
    "                total -= pow(2,m-i-1)\n",
    "            else: l += '0'    \n",
    "        print('binary representation: ', l)\n",
    "        \n",
    "            \n",
    "    \n",
    "\n",
    "#num = input('input integer number: ')\n",
    "#x = input('input type (bin/dec/hex): ')\n",
    "num = '10111010111'\n",
    "x = 'bin'\n",
    "converter(num, x)\n",
    "\n"
   ]
  },
  {
   "cell_type": "markdown",
   "metadata": {},
   "source": [
    "2\\. Write a function that converts a 32 bit word into a single precision floating point (i.e. interprets the various bits as sign, mantissa and exponent)"
   ]
  },
  {
   "cell_type": "code",
   "execution_count": 2,
   "metadata": {},
   "outputs": [
    {
     "name": "stdout",
     "output_type": "stream",
     "text": [
      "output number: 18723.0\n"
     ]
    }
   ],
   "source": [
    "#s = input('insert string: ')\n",
    "s = '01000110100100100100011000000000'\n",
    "if len(s) != 32: print('error: input file is not 32 bit')\n",
    "\n",
    "exp = 0\n",
    "for i in range(1,9): exp += int(s[i])*pow(2,8-i)  #load exp numbers\n",
    "exp -= 127\n",
    "mantissa = 1\n",
    "for i in range(1,24): mantissa += int(s[8+i])*pow(2,-i)   #load mantissa\n",
    "result = pow(-1,int(s[0]))*pow(2,exp)*mantissa  #set result\n",
    "print('output number:', result)"
   ]
  },
  {
   "cell_type": "markdown",
   "metadata": {},
   "source": [
    "3\\. Write a program to determine the underflow and overflow limits (within a factor of 2) for python on your computer. \n",
    "\n",
    "**Tips**: define two variables inizialized to 1 and halve/double them enough time to exceed the under/over-flow limits  "
   ]
  },
  {
   "cell_type": "code",
   "execution_count": 3,
   "metadata": {
    "scrolled": true
   },
   "outputs": [
    {
     "name": "stdout",
     "output_type": "stream",
     "text": [
      "double > up for number below 2^ 100000.0\n",
      "Number of halvings before resulting zero: 1075\n"
     ]
    }
   ],
   "source": [
    "from math import log2\n",
    "\n",
    "up,down = 1,1\n",
    "double = up*2\n",
    "half = down/2\n",
    "\n",
    "while double>up and up<pow(2,100000):      #condition for underflow: the maximum number which double value is wrongly expressed\n",
    "    double *=2 \n",
    "    up *=2\n",
    "print('double > up for number below 2^',log2(up))\n",
    "\n",
    "#Since there are no hints of overflow even for 100.000 bits, it seems to be legit to assume an infinite precision possible in Python (as referenced in many websites on the topic)\n",
    "\n",
    "c = 1\n",
    "while half>0:  #underflow condition: dividing by 2 multiple times will eventually return 0\n",
    "    c += 1\n",
    "    half /=2 \n",
    "print('Number of halvings before resulting zero:',c)\n",
    "\n",
    "#Detected underflow for values lower than 2^-1075\n"
   ]
  },
  {
   "cell_type": "markdown",
   "metadata": {},
   "source": [
    "4\\. Write a program to determine the machine precision\n",
    "\n",
    "**Tips**: define a new variable by adding a smaller and smaller value (proceeding similarly to prob. 2) to an original variable and check the point where the two are the same "
   ]
  },
  {
   "cell_type": "code",
   "execution_count": 4,
   "metadata": {},
   "outputs": [
    {
     "name": "stdout",
     "output_type": "stream",
     "text": [
      "max precision: 10^- 17\n"
     ]
    }
   ],
   "source": [
    "x,c = 1,1\n",
    "y = 0\n",
    "while y != x:\n",
    "    y = x                        #check when a small change is not noticeable\n",
    "    x += pow(10,-c)\n",
    "    c += 1\n",
    "print('max precision: 10^-',c)"
   ]
  },
  {
   "cell_type": "markdown",
   "metadata": {},
   "source": [
    "5\\. Write a function that takes in input three parameters $a$, $b$ and $c$ and prints out the two solutions to the quadratic equation $ax^2+bx+c=0$ using the standard formula:\n",
    "$$\n",
    "x=\\frac{-b\\pm\\sqrt{b^2-4ac}}{2a}\n",
    "$$\n",
    "\n",
    "(a) use the program to compute the solution for $a=0.001$, $b=1000$ and $c=0.001$\n",
    "\n",
    "(b) re-express the standard solution formula by multiplying top and bottom by $-b\\mp\\sqrt{b^2-4ac}$ and again find the solution for $a=0.001$, $b=1000$ and $c=0.001$. How does it compare with what previously obtained? Why?\n",
    "\n",
    "(c) write a function that compute the roots of a quadratic equation accurately in all cases"
   ]
  },
  {
   "cell_type": "code",
   "execution_count": 5,
   "metadata": {},
   "outputs": [
    {
     "name": "stdout",
     "output_type": "stream",
     "text": [
      "Expected solutions are x(-) = -1.000.000 and x(+) = -1.0005e-6.\n",
      "\n",
      "first implementation results: -999999.999999 -9.999894245993346e-07\n",
      "relative errors: 1.0000076144933701e-12 0.0005103202405451222\n",
      "\n",
      "second implementation results: -1000010.5755125057 -1.000000000001e-06\n",
      "relative errors: -1.0575512505718507e-05 0.0004997501239379344\n",
      "\n",
      "The two results obtained show similar behaviour: the solution with larger absolute value (x(-)) is fairly approximated by the program in both cases, with a relative error extremely negligeble in the first case.\n",
      "However, the other solution is only slightly similar to the expected value: this is a consequence of the catastrophic cancellation that occurs since sqrt(delta) \\sim b, then -b+sqrt(delta) \\sim 0.\n",
      "Changing the formula results in a similar problem, since the same operation is held at the denominator. Anyway, since the estimation of the first root with the first method seems to be quite good, I choose to proceed selecting it as x(-) and then finding x(+) recalling that x(-)*x(+)=c/a:\n",
      "\n",
      "second implementation results: -999999.999999 -1.000000000001e-06\n",
      "relative errors: 1.0000076144933701e-12 0.0004997501239379344\n"
     ]
    }
   ],
   "source": [
    "from math import sqrt\n",
    "\n",
    "print('Expected solutions are x(-) = -1.000.000 and x(+) = -1.0005e-6.')\n",
    "x_1 = -1000000\n",
    "x_2 = -1.0005e-6\n",
    "\n",
    "def quadratic(a,b,c):\n",
    "    delta = pow(b,2) - 4*a*c\n",
    "    y = ( (-b) + sqrt(delta) )/(2*a)\n",
    "    x = ( (-b) - sqrt(delta) )/(2*a)\n",
    "    return x,y\n",
    "\n",
    "\n",
    "def other_quadratic(a,b,c):\n",
    "    delta = pow(b,2) - 4*a*c\n",
    "    y = (2*c )/((-b) - sqrt(delta))\n",
    "    x = ( 2*c )/((-b) + sqrt(delta))\n",
    "    return x,y\n",
    "\n",
    "x,y = quadratic(0.001, 1000, 0.001)\n",
    "print('\\nfirst implementation results:',x,y)\n",
    "print('relative errors:',(x_1-x)/x_1,(x_2-y)/x_2)\n",
    "\n",
    "z,t = other_quadratic(0.001, 1000, 0.001)\n",
    "print('\\nsecond implementation results:',z,t)\n",
    "print('relative errors:',(x_1-z)/x_1,(x_2-t)/x_2)\n",
    "\n",
    "print('\\nThe two results obtained show similar behaviour: the solution with larger absolute value (x(-)) is fairly approximated by the program in both cases, with a relative error extremely negligeble in the first case.')\n",
    "print('However, the other solution is only slightly similar to the expected value: this is a consequence of the catastrophic cancellation that occurs since sqrt(delta) \\sim b, then -b+sqrt(delta) \\sim 0.')\n",
    "print('Changing the formula results in a similar problem, since the same operation is held at the denominator. Anyway, since the estimation of the first root with the first method seems to be quite good, I choose to proceed selecting it as x(-) and then finding x(+) recalling that x(-)*x(+)=c/a:')\n",
    "\n",
    "def final_quadratic(a,b,c):\n",
    "    delta = pow(b,2) - 4*a*c\n",
    "    x = ( (-b) - sqrt(delta) )/(2*a)\n",
    "    y = (c/a)/x\n",
    "    return x,y\n",
    "\n",
    "#this will be the best solution for positive b (i.e, -b + sqrt(delta) sim 0). If b<0, it will be sufficient to switch roles of x(+) and x(-)\n",
    "#because it will be troubleful the solution closer to 0 in absolute value\n",
    "\n",
    "k,j = final_quadratic(0.001, 1000, 0.001)\n",
    "print('\\nsecond implementation results:',k,j)\n",
    "print('relative errors:',(x_1-k)/x_1,(x_2-j)/x_2)\n"
   ]
  },
  {
   "cell_type": "markdown",
   "metadata": {},
   "source": [
    "6\\. Write a program that implements the function $f(x)=x(x−1)$\n",
    "\n",
    "(a) Calculate the derivative of the function at the point $x = 1$ using the derivative definition:\n",
    "\n",
    "$$\n",
    "\\frac{{\\rm d}f}{{\\rm d}x} = \\lim_{\\delta\\to0} \\frac{f(x+\\delta)-f(x)}{\\delta}\n",
    "$$\n",
    "\n",
    "with $\\delta = 10^{−2}$. Calculate the true value of the same derivative analytically and compare with the answer your program gives. The two will not agree perfectly. Why not?\n",
    "\n",
    "(b) Repeat the calculation for $\\delta = 10^{−4}, 10^{−6}, 10^{−8}, 10^{−10}, 10^{−12}$ and $10^{−14}$. How does the accuracy scales with $\\delta$?"
   ]
  },
  {
   "cell_type": "code",
   "execution_count": 6,
   "metadata": {},
   "outputs": [
    {
     "name": "stdout",
     "output_type": "stream",
     "text": [
      "delta = 10^-2: 1.010000000000001\n",
      "expected: 1.01\n",
      "delta = 10^-4: 1.0000999999998899\n",
      "delta = 10^-6: 1.0000009999177333\n",
      "delta = 10^-8: 1.0000000039225287\n",
      "delta = 10^-10: 1.000000082840371\n",
      "delta = 10^-12: 1.0000889005833413\n",
      "delta = 10^-14: 0.9992007221626509\n",
      "\n",
      "The resulting trend is noticeably linear (expected: deriv = delta + 1) between the derivative and delta (and presents a problem of estimation for delta really small (10^-14))\n"
     ]
    },
    {
     "data": {
      "image/png": "[encoded data removed]",
      "text/plain": [
       "<Figure size 432x288 with 1 Axes>"
      ]
     },
     "metadata": {
      "needs_background": "light"
     },
     "output_type": "display_data"
    }
   ],
   "source": [
    "import matplotlib.pyplot as plt\n",
    "%matplotlib inline \n",
    "\n",
    "def fun(x):\n",
    "    return x*(x-1)\n",
    "\n",
    "def deriv(f,x, delta = pow(10,-2)):\n",
    "    d = (f(x+delta) - f(x)) / delta\n",
    "    return d\n",
    "\n",
    "g_1 = deriv(fun, 1)\n",
    "print('delta = 10^-2:', g_1)\n",
    "print('expected: 1.01')\n",
    "\n",
    "g_2 = deriv(fun, 1, pow(10,-4))\n",
    "g_3 = deriv(fun, 1, pow(10,-6))\n",
    "g_4 = deriv(fun, 1, pow(10,-8))\n",
    "g_5 = deriv(fun, 1, pow(10,-10))\n",
    "g_6 = deriv(fun, 1, pow(10,-12))\n",
    "g_7 = deriv(fun, 1, pow(10,-14))\n",
    "print('delta = 10^-4:', g_2)\n",
    "print('delta = 10^-6:', g_3)\n",
    "print('delta = 10^-8:', g_4)\n",
    "print('delta = 10^-10:', g_5)\n",
    "print('delta = 10^-12:', g_6)\n",
    "print('delta = 10^-14:', g_7)\n",
    "\n",
    "deltas = [pow(10,-(2*x)) for x in range(1,8)]\n",
    "gs = [g_1,g_2,g_3,g_4,g_5,g_6,g_7]\n",
    "\n",
    "plt.plot(deltas,gs)\n",
    "plt.xlabel('delta')\n",
    "plt.ylabel('deriv[f(x)]')\n",
    "\n",
    "print('\\nThe resulting trend is noticeably linear (expected: deriv = delta + 1) between the derivative and delta (and presents a problem of estimation for delta really small (10^-14))')"
   ]
  },
  {
   "cell_type": "markdown",
   "metadata": {},
   "source": [
    "7\\. Consider the integral of the semicircle of radius 1:\n",
    "$$\n",
    "I=\\int_{-1}^{1} \\sqrt(1-x^2) {\\rm d}x\n",
    "$$\n",
    "which it's known to be $I=\\frac{\\pi}{2}=1.57079632679...$.\n",
    "Alternatively we can use the Riemann definition of the integral:\n",
    "$$\n",
    "I=\\lim_{N\\to\\infty} \\sum_{k=1}^{N} h y_k \n",
    "$$\n",
    "\n",
    "with $h=2/N$ the width of each of the $N$ slices the domain is divided into and where\n",
    "$y_k$ is the value of the function at the $k-$th slice.\n",
    "\n",
    "(a) Write a programe to compute the integral with $N=100$. How does the result compares to the true value?\n",
    "\n",
    "(b) How much can $N$ be increased if the computation needs to be run in less than a second? What is the gain in running it for 1 minute? \n"
   ]
  },
  {
   "cell_type": "code",
   "execution_count": 8,
   "metadata": {},
   "outputs": [
    {
     "name": "stdout",
     "output_type": "stream",
     "text": [
      "calculated (N=100): 1.5691342555492505\n",
      "expected: 1.5707963267948966\n",
      "difference: 0.10581074180619238 %\n",
      "time (N=100):\n",
      "47.5 µs ± 925 ns per loop (mean ± std. dev. of 7 runs, 10000 loops each)\n",
      "\n",
      "time (N=10.000):\n",
      "5.52 ms ± 165 µs per loop (mean ± std. dev. of 7 runs, 100 loops each)\n",
      "\n",
      "time (N=1.000.000):\n",
      "551 ms ± 19.2 ms per loop (mean ± std. dev. of 7 runs, 1 loop each)\n",
      "\n",
      "The time needed per loop increases linearly with N (multiply N by ten leads to a loop time 10 times bigger)\n",
      "Therefore, I assume the max N (to stay under 1s) to be about N = 2.000.000 and in fact:\n",
      "time (N=1.000.000):\n",
      "1.06 s ± 30.7 ms per loop (mean ± std. dev. of 7 runs, 1 loop each)\n",
      "Following this empirical result, I can fairly say that the maximum N that keeps computation time under a minute will be about 60 * (2*10^6) = 1*10^8\n",
      "Therefore, best calculated value under a minute: 1.570796326793284 (let run to check)\n",
      "In this case, the relative error committed in the estimation of I is:\n",
      "difference: 1.0265416931905805e-10 %\n",
      "1.570796326793284\n",
      "1.0265416931905804e-10\n"
     ]
    }
   ],
   "source": [
    "#a)\n",
    "import math as m\n",
    "import timeit\n",
    "\n",
    "def RiemannInt(f,N):\n",
    "    dx = 2/N\n",
    "    x = -1\n",
    "    I = 0\n",
    "    for i in range(N): I += dx*f(x+i*dx)\n",
    "    return I\n",
    "\n",
    "def semic(x):\n",
    "    return m.sqrt(1-pow(x,2))\n",
    "\n",
    "\n",
    "\n",
    "N = 100\n",
    "I_100 = RiemannInt(semic,N)\n",
    "real = m.pi/2\n",
    "\n",
    "\n",
    "\n",
    "print('calculated (N=100):',I_100)\n",
    "print('expected:', real)\n",
    "print('difference:',100*(real-I_100)/real, '%')\n",
    "print('time (N=100):')\n",
    "%timeit I_100 = RiemannInt(semic,N)\n",
    "\n",
    "#Estimation for order of magnitude of N:\n",
    "\n",
    "print('\\ntime (N=10.000):')\n",
    "%timeit I_10k = RiemannInt(semic,N**2)\n",
    "print('\\ntime (N=1.000.000):')\n",
    "%timeit I_1M = RiemannInt(semic,N**3)\n",
    "print('\\nThe time needed per loop increases linearly with N (multiply N by ten leads to a loop time 10 times bigger)')\n",
    "print('Therefore, I assume the max N (to stay under 1s) to be about N = 2.000.000 and in fact:')\n",
    "print('time (N=1.000.000):')\n",
    "%timeit I_1M = RiemannInt(semic,2*N**3)\n",
    "\n",
    "print('Following this empirical result, I can fairly say that the maximum N that keeps computation time under a minute will be about 60 * (2*10^6) = 1*10^8')\n",
    "print('Therefore, best calculated value under a minute: 1.570796326793284 (let run to check)')\n",
    "print('In this case, the relative error committed in the estimation of I is:')\n",
    "print('difference: 1.0265416931905805e-10 %')\n",
    "I_100M = RiemannInt(semic,pow(10,8))\n",
    "print(I_100M)\n",
    "print(100*(real-I_100M)/real)\n",
    "    \n",
    "    \n",
    "    "
   ]
  },
  {
   "cell_type": "code",
   "execution_count": null,
   "metadata": {},
   "outputs": [],
   "source": []
  }
 ],
 "metadata": {
  "kernelspec": {
   "display_name": "Python 3",
   "language": "python",
   "name": "python3"
  },
  "language_info": {
   "codemirror_mode": {
    "name": "ipython",
    "version": 3
   },
   "file_extension": ".py",
   "mimetype": "text/x-python",
   "name": "python",
   "nbconvert_exporter": "python",
   "pygments_lexer": "ipython3",
   "version": "3.8.5"
  }
 },
 "nbformat": 4,
 "nbformat_minor": 2
}

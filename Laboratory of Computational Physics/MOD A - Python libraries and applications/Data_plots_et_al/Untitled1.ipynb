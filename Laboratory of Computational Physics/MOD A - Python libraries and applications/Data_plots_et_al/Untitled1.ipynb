{
 "cells": [
  {
   "cell_type": "code",
   "execution_count": 1,
   "metadata": {},
   "outputs": [],
   "source": [
    "import numpy as np\n",
    "import scipy.interpolate as sci\n",
    "import matplotlib.pyplot as plt\n",
    "import scipy.optimize as sco\n",
    "import matplotlib.patches as pltp"
   ]
  },
  {
   "cell_type": "code",
   "execution_count": null,
   "metadata": {},
   "outputs": [],
   "source": [
    "def f(data):\n",
    "    x, y = data\n",
    "    f = (4.-2.1*x**2 + (1./3.)*x**4)*x**2 + x*y + (4.*y**2-4.)*y**2\n",
    "    return f\n",
    "\n",
    "#Define grid\n",
    "x = np.arange(-2, 2, 0.01)\n",
    "y = np.arange(-1, 1, 0.01)\n",
    "X, Y = np.meshgrid(x, y, sparse=True)\n",
    "data = X,Y\n",
    "\n",
    "#Plot\n",
    "\n",
    "fig, (ax) = plt.subplots(nrows=1, ncols=1, figsize=(5, 5))\n",
    "h = ax.imshow(f(data), extent=[-3, 3, -3, 3])\n",
    "plt.colorbar(h, ax = ax)\n",
    "ax.set_title('f(x,y)', fontsize = 20)\n",
    "ax.set_xlabel('x')\n",
    "ax.set_ylabel('y')\n",
    "plt.show()"
   ]
  }
 ],
 "metadata": {
  "kernelspec": {
   "display_name": "Python 3",
   "language": "python",
   "name": "python3"
  },
  "language_info": {
   "codemirror_mode": {
    "name": "ipython",
    "version": 3
   },
   "file_extension": ".py",
   "mimetype": "text/x-python",
   "name": "python",
   "nbconvert_exporter": "python",
   "pygments_lexer": "ipython3",
   "version": "3.8.6"
  }
 },
 "nbformat": 4,
 "nbformat_minor": 4
}

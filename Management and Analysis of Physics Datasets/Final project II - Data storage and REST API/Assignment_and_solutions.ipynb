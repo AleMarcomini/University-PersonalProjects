{
 "cells": [
  {
   "cell_type": "markdown",
   "metadata": {
    "id": "ZfF5rj6ByFRw"
   },
   "source": [
    "# **Exam Assignement** - *Management and Analysis of Physics Dataset (B)*\n",
    "## Academic year 2020/2021\n",
    "\n",
    "**Professor**\n",
    "\n",
    "Andreas-Joachim Peters\n",
    "\n",
    "**Group Members**\n",
    "*   Luca Castelli - 1243439\n",
    "*   Alessandro Marcomini - 2024286\n",
    "*   Andrea Scanu - 2022460\n",
    "*   Pietro Miglioranza - 2029265\n",
    "\n",
    "\n",
    "\n"
   ]
  },
  {
   "cell_type": "markdown",
   "metadata": {
    "id": "epgsDgvG4v_O"
   },
   "source": [
    "# Fun Exercise\n",
    "\n",
    "The operation which connects the two numbers is the XOR. We can convert the numbers in binary and perform the XOR bit by bit to prove the results:\n",
    "\n",
    "\\begin{equation}\n",
    "    1_{10} \\oplus 2_{10} = 01_2 \\oplus 10_2 = 11_2 = 3_{10}\n",
    "\\end{equation}\n",
    "\\begin{equation}\n",
    "    2_{10} \\oplus 5_{10} = 010_2 \\oplus 101_2 = 111_2 = 7_{10}\n",
    "\\end{equation}\n",
    "\\begin{equation}\n",
    "    3_{10} \\oplus 7_{10} = 011_2 \\oplus 111_2 = 100_2 = 4_{10}\n",
    "\\end{equation}\n",
    "\\begin{equation}\n",
    "    4_{10} \\oplus 5_{10} = 100_2 \\oplus 101_2 = 001_2 = 1_{10}\n",
    "\\end{equation}\n",
    "\\begin{equation}\n",
    "    5_{10} \\oplus 9_{10} = 0101_2 \\oplus 1001_2 = 1100_2 = 12_{10}\n",
    "\\end{equation}\n",
    "\n",
    "So the result asked by the exercise is 1."
   ]
  },
  {
   "cell_type": "markdown",
   "metadata": {
    "id": "hh1Anf0P9g7e"
   },
   "source": [
    "# Exercise 1\n",
    "### 1.1 Storing input and computing parity\n",
    "The code which opens the \"raid4.input\" file and converts it in four data files is attached in the cells below.\n",
    "\n",
    "We open the input file and using the \"read\" function we store its content in a array of size four whose components store one bite each. Then we compute the parity among all the components and store bytes and parity in the proper files. We use the \"for\" loop to repeat this operation untill all the data in \"raid4.input\" have been read and processed. From line 20 to 28 we take care of the case in which the number of bytes in \"raid4.input\" is not divisible by four.\n",
    "\n",
    "In line 24 and 25 of the second cell we also compute the column-wise parity. See the next section for a deeper explenation."
   ]
  },
  {
   "cell_type": "code",
   "execution_count": 27,
   "metadata": {
    "id": "yDRBQa_2-RS9"
   },
   "outputs": [
    {
     "name": "stdout",
     "output_type": "stream",
     "text": [
      "File Size in Bytes is 170619\n"
     ]
    }
   ],
   "source": [
    "import os\n",
    "\n",
    "#Define input and output files path\n",
    "input_file = \"/Users/ale/Downloads/raid4.input\"\n",
    "outputs_files = [\"/Users/ale/Downloads/RAID4.0\",\"/Users/ale/Downloads/RAID4.1\",\\\n",
    "                 \"/Users/ale/Downloads/RAID4.2\",\"/Users/ale/Downloads/RAID4.3\",\"/Users/ale/Downloads/RAID4.4\"]\n",
    "\n",
    "#Get input size\n",
    "input_file_stats = os.stat(input_file)\n",
    "input_file_size = input_file_stats.st_size\n",
    "\n",
    "print(f'File Size in Bytes is {input_file_size}')"
   ]
  },
  {
   "cell_type": "code",
   "execution_count": 28,
   "metadata": {
    "id": "6meChAyKTYTg"
   },
   "outputs": [
    {
     "name": "stdout",
     "output_type": "stream",
     "text": [
      "parity q: 0 x a5 07 a0 9c 9e\n",
      "\n",
      "Output files sizes in Bytes: RAID4.0: 42655, RAID4.1: 42655, RAID4.2: 42655, RAID4.3: 42655, RAID4.4: 42655\n",
      "\n",
      "The file overhead is: 25.0007%\n"
     ]
    }
   ],
   "source": [
    "#Open output files in write mode\n",
    "fout = [open(\"/Users/ale/Downloads/RAID4.0\", \"wb\"),\\\n",
    "        open(\"/Users/ale/Downloads/RAID4.1\", \"wb\"),\\\n",
    "        open(\"/Users/ale/Downloads/RAID4.2\", \"wb\"),\\\n",
    "        open(\"/Users/ale/Downloads/RAID4.3\", \"wb\"),\\\n",
    "        open(\"/Users/ale/Downloads/RAID4.4\", \"wb\")]\n",
    "\n",
    "#Analysis of input bites\n",
    "with open(input_file, 'rb') as fin:\n",
    "    q, qp = [0,0,0,0], 0\n",
    "    for n in range(input_file_size//4):\n",
    "        b = fin.read(4)\n",
    "        bp = b[0]^b[1]^b[2]^b[3]\n",
    "        q = [Q^B for (Q,B) in zip(q,b)]\n",
    "        qp = qp^bp\n",
    "        \n",
    "        for j in range(4): fout[j].write(bytes([b[j]]))\n",
    "        fout[4].write(bytes([bp]))\n",
    "            \n",
    "    if input_file_size/4 != 0:\n",
    "        c,b = fin.read(), [0,0,0,0]\n",
    "        for i in range(len(c)): b[i] = c[i]\n",
    "        bp = b[0]^b[1]^b[2]^b[3]\n",
    "        q = [Q^B for (Q,B) in zip(q,b)]\n",
    "        qp = qp^bp\n",
    "        \n",
    "        for j in range(4): fout[j].write(bytes([b[j]]))\n",
    "        fout[4].write(bytes([bp]))\n",
    "\n",
    "#Get output sizes\n",
    "output_files_sizes = []\n",
    "for j in range(5): \n",
    "    fout[j].close()\n",
    "    output_files_sizes.append(os.stat(outputs_files[j]).st_size)\n",
    "     \n",
    "print(\"parity q: 0 x %02x %02x %02x %02x %02x\\n\" % (q[0],q[1],q[2],q[3],qp))\n",
    "print(\"Output files sizes in Bytes: RAID4.0: %i, RAID4.1: %i, RAID4.2: %i, RAID4.3: %i, RAID4.4: %i\\n\"\\\n",
    "      % (output_files_sizes[0],output_files_sizes[1],output_files_sizes[2],output_files_sizes[3],output_files_sizes[4]))\n",
    "print(\"The file overhead is: %2.4f%%\"\\\n",
    "      % (100*(sum(output_files_sizes)-input_file_size)/int(input_file_size)))"
   ]
  },
  {
   "cell_type": "markdown",
   "metadata": {
    "id": "vidUwv4C-VXH"
   },
   "source": [
    "## 1.2 Column-wise parity and size overhead\n",
    "\n",
    "In the code, at line 10, the variables in which store the parity are initialized to \"0\". The choice of the initialization it is due to the fact that \"0\" is the neutral element of the \"XOR\" operation, used to compute the parity.\n",
    "\n",
    "While reading the input file and dividing it into the four new files, we update the column-wise parity, exploiting the fact that:\n",
    "\\begin{equation}\n",
    "    A \\oplus B \\oplus C = (A \\oplus B) \\oplus C\n",
    "\\end{equation}\n",
    "So that at the end of the reading operations we will have the column-wise parity already computed.\n",
    "\n",
    "The column-wise parity act as a **checksum** for the corresponding strip. In fact, if we recompute it in a second moment and we obtain a different value, we know immediately that somenthing has been corrupted in the stripe.\n",
    "\n",
    "The size overhead is 25.0007$\\%$. We add to the four files filled with the bytes another one as big as the others filled with the parity. However we expected the sum of the new five files to be slightly bigger then the original one. This due to the fact that the number of bytes in the original file is not divisible by four, the number of file we are dividing it in. To compute the parity we add \"0\"s in the missing spots increasing the file length by at most three bytes (this is the case in which just the last byte of the original file ends up into \"raid4.0\").\n",
    "To summurize, the creation of the parity file explain the 25$\\%$ and the last consideration the remaining 0.0007$\\%$."
   ]
  },
  {
   "cell_type": "markdown",
   "metadata": {
    "id": "XScBAWsU_DXv"
   },
   "source": [
    "## 1.3 Hexadecimal column wise parity\n",
    "\n",
    "Once computed the column-wise parity, it is enough to use the \"print\" function as in line 36 to obtain the desired value\n",
    "In particoular we obtained:\n",
    "\\begin{equation}\n",
    "    P^{5} = 0\\ \\text{x} \\ a5\\ 07\\ a0\\ 9c \\ 9e\n",
    "\\end{equation}"
   ]
  },
  {
   "cell_type": "markdown",
   "metadata": {
    "id": "hjeQLplk_dU0"
   },
   "source": [
    "## 1.4 Parity with Parity\n",
    "\n",
    "A sixth file containing R definied as the row-wise parity among all the other files, would be a file filled with \"0\"s.\n",
    "\n",
    "\\begin{equation}\n",
    "    R = D_{0} \\oplus D_{1} \\oplus D_{2} \\oplus D_{3}\\oplus P\\tag{1}, \\\\\n",
    "\\end{equation}\n",
    "But the parity is:\n",
    "\\begin{equation}\n",
    "    P = D_{0} \\oplus D_{1} \\oplus D_{2} \\oplus D_{3}\\tag{2}, \\\\\n",
    "\\end{equation}\n",
    "So, eq. 1 becomes:\n",
    "\n",
    "\\begin{equation}\n",
    "    R = D_{0} \\oplus D_{1} \\oplus D_{2} \\oplus D_{3}\\oplus D_{0} \\oplus D_{1} \\oplus D_{2} \\oplus D_{3}\\tag{3}\n",
    "\\end{equation}\n",
    "\\\n",
    "Now we can use the commutative property of XOR operator to rewrite eq. 3 as:\n",
    "\n",
    "\n",
    "\\begin{equation}\n",
    "    R = (D_{0} \\oplus D_{0}) \\oplus (D_{1} \\oplus D_{1})\\oplus (D_{2} \\oplus D_{2}) \\oplus (D_{3} \\oplus D_{3})\\tag{4}\n",
    "\\end{equation}\n",
    "\\\n",
    "\\begin{equation}\n",
    "    R = (0) \\oplus (0)\\oplus (0) \\oplus (0) = 0\\tag{5}\n",
    "\\end{equation}\n"
   ]
  },
  {
   "cell_type": "markdown",
   "metadata": {
    "id": "BBS5JRUsBu5e"
   },
   "source": [
    "## 1.5 Recreation of original file\n",
    "\n",
    "Comparing the P$^5$ given with the one computed in section 1.3 it is immediately clear that the stripe file \"raid4.3\" has been corrupted.\n",
    "\n",
    "Thus, to restore the original file we first need to recover the corrupted file and we can do it using the parity file. \n",
    "If we define P' as follows, where D$_{i}$ are the data from the file \"raid4.i\":\n",
    "\n",
    "\\begin{equation}\n",
    "    P' = D_0 \\oplus D_1 \\oplus D_2\\tag{6}\n",
    "\\end{equation}\n",
    "\n",
    "We know that\n",
    "\\begin{equation}\n",
    "    P = P' \\oplus D_3\\tag{7}\n",
    "\\end{equation}\n",
    "and so\n",
    "\n",
    "\\begin{equation}\n",
    "    D_3 = P \\oplus P'\\tag{8}\n",
    "\\end{equation}\n",
    "\n",
    "Then we just need to read from the files byte by byte in the proper order, or, without recreating the \"raid4.3\" file, it is enough to compute the operation in eq. 8 and write the resulting byte."
   ]
  },
  {
   "cell_type": "markdown",
   "metadata": {
    "id": "jlEV46fbwMcn"
   },
   "source": [
    "# Exercise 2\n",
    "### 2.1 Simmetriy of the algorithm\n",
    "\n",
    "We recall that by definition a cryptography technique is said to be symmetric if the key used for the encription part is the same used for the decription. As for this case, the key consists in the value $k$ of shift of the letters in the ASCII table, together with the information regarding the *nonce* values. Since those are numbers used for both the encryption and the decription phases, we can conclude that the method is **symmetric**. \n",
    "\n",
    "### 2.2 The algorithm\n",
    "We know that the encryption has been made by applying firstly the key (i.e. a right shift of $k$ in the ASCII encoding of the characters of the plaintext) and then adding an extra *nonce* before returning the ecoding integers to characters. Hence, the decryption \"brute force\" algorithm works in two steps:\n",
    "1.   Turn the cyphertext into a list of integer numbers (ASCII code) and remove the *nonce*;\n",
    "2.   Create a database of all possible decoded sequences by performing a shift of the ASCII code at each position of a value $k \\in [0,255]$ and converting the integers back to characters.\n",
    "\n",
    "In particular, in the latter case we perform the shift modulo $256$ (the size of the ASCII table), so that a forward shift of $256 - k$ produces the same effect of a $k$ shift backward. This allows the integers encoding the characters to stay between $0$ and $255$. Finally, we look at the dictionary we created so to find the most suitable string corresponding to the message. We have done it both looking at the whole set of possible decoded strings and applying some filters on it: in the code below, assuming that the plaintext is made of letters and white spaces and does not contain any special character, we limit our focus to those strings."
   ]
  },
  {
   "cell_type": "code",
   "execution_count": 3,
   "metadata": {},
   "outputs": [
    {
     "name": "stdout",
     "output_type": "stream",
     "text": [
      "The proposed plaintext is: \"Padova rocks\" corresponding to key: 10\n",
      "The proposed plaintext is: \"Ðáäïöá òïãëó\" corresponding to key: 138\n"
     ]
    }
   ],
   "source": [
    "#Decompose message and remove noice\n",
    "message = 'K]amua!trgpy'\n",
    "chars = [ord(c)-i-5 for (i,c) in enumerate(message)]\n",
    "\n",
    "suitable_plaintexts = []\n",
    "\n",
    "#Apply all possible keys and get (filtered) outputs\n",
    "for j in range(256):\n",
    "  test = chars.copy()\n",
    "  test = [chr((test[i] + j) % 256) for i in range(len(test))]\n",
    "  test_string = ''.join(test)\n",
    "  if all(x.isalpha() or x.isspace() for x in test_string):\n",
    "    suitable_plaintexts.append((test_string,j))\n",
    "\n",
    "for (text,key) in suitable_plaintexts:\n",
    "  print('The proposed plaintext is: \"' + text + '\" corresponding to key: ' + str(key))"
   ]
  },
  {
   "cell_type": "markdown",
   "metadata": {
    "id": "NSq9_-bDw1uJ"
   },
   "source": [
    "\n",
    "\n",
    " As a result, without any doubts we can state that the original message is **Padova rocks**! This corresponds to the shift key $k=10$ (or $k=246$ shifting in the opposite direction)."
   ]
  },
  {
   "cell_type": "markdown",
   "metadata": {
    "id": "mlTDAngGHXWe"
   },
   "source": [
    "# Exercise 3\n",
    "### 3.1"
   ]
  },
  {
   "cell_type": "markdown",
   "metadata": {},
   "source": [
    "This exercise is about a hash function which distributes a series of files in input to a certain number of hard disks. In particular it is a flat map so the probability of sending a file into a HD is equal for every HDs. The only parameter that we have modified during the analysis is the dimension of the files that have to be distributed, instead the dimension of the HDs and the number of these has been kept constant. In particular we simulated 10 HDs with a capacity of 1TB each. (Note: here we report the code used but in order to save computational time we did not compile again these cells, presenting the results of the previous run)."
   ]
  },
  {
   "cell_type": "code",
   "execution_count": null,
   "metadata": {
    "id": "klwV75j6JIk1"
   },
   "outputs": [],
   "source": [
    "import numpy as np\n",
    "import matplotlib.pyplot as plt\n",
    "from random import randint"
   ]
  },
  {
   "cell_type": "code",
   "execution_count": null,
   "metadata": {
    "id": "fh2CbJfcJLM9"
   },
   "outputs": [],
   "source": [
    "def hash_func(n, space, t, start=0): # this function performs the simulation, it takes:\n",
    "    \n",
    "                                                     #     n: the number of HDs\n",
    "                                                     # space: the number of file that fill the HD\n",
    "                                                     #     t: the number of iterations to build statistics\n",
    "                                                     # start: where the function starts to search the file that fill the first HD\n",
    "                    \n",
    "    mean = []\n",
    "    std = []\n",
    "    \n",
    "    for index in range(0,t):                        # first for loop to build statistics\n",
    "        \n",
    "        a = np.random.randint(1,n+1,n*space)        #  a random series of integer \n",
    "        \n",
    "        for i in range(start,len(a)):               # the loop that search for the file which fill the first HD\n",
    "            stop, _ = np.histogram(a[0:i],bins=n)   # this line creates the histogram \n",
    "            if any(stop >= space):                  # this line looks in the histogram and checks that all the HDs are not full\n",
    "                stop, _ = np.histogram(a[0:i-1],bins=n)\n",
    "                break                               # the loop ends if one of the HDs is full\n",
    "        mean.append(i)                              # then this line compute the mean occupied space and append it\n",
    "        std.append(np.std(stop/(n*space)))          # and this one compute the standard deviation and append it\n",
    "        \n",
    "        \n",
    "    media = np.mean(mean)/(n*space)                 # the mean of the means\n",
    "    std_dev  = np.mean(std)                         # the mean of the standard deviations\n",
    "    \n",
    "    return(media, std_dev, a,i)"
   ]
  },
  {
   "cell_type": "markdown",
   "metadata": {
    "id": "AW0C_3cGHgD9"
   },
   "source": [
    "The simulation starts generating random numbers from one to ten, and it ends when one of the HDs is full. To understand what is happening a histogram plot is a natural choice to visualize the simulation results: "
   ]
  },
  {
   "cell_type": "code",
   "execution_count": null,
   "metadata": {
    "colab": {
     "base_uri": "https://localhost:8080/",
     "height": 478
    },
    "id": "IyU5R-EXJFCI",
    "outputId": "3c08be7f-f5f3-4f37-f369-56f15bad0d06"
   },
   "outputs": [
    {
     "name": "stdout",
     "output_type": "stream",
     "text": [
      "Mean =  0.5996666666666667\n",
      "Std.dev =  0.019836923122771927\n"
     ]
    },
    {
     "data": {
      "image/png": "[encoded data removed]",
      "text/plain": [
       "<Figure size 640x480 with 1 Axes>"
      ]
     },
     "metadata": {
      "needs_background": "light",
      "tags": []
     },
     "output_type": "display_data"
    }
   ],
   "source": [
    "mean0 , std0, a0 , stop0 = hash_func(10,10,30)\n",
    "\n",
    "plt.figure(figsize=(8, 6), dpi=80)\n",
    "plt.hist(a0[0:stop0], color = \"red\")\n",
    "plt.xlabel(\"# Hard Disk\")\n",
    "plt.ylabel(\"Number of files allocated\")\n",
    "plt.title(\"100 GB files\")\n",
    "print(\"Mean = \", mean0)\n",
    "print(\"Std.dev = \", std0)"
   ]
  },
  {
   "cell_type": "markdown",
   "metadata": {
    "id": "qmBbctSbJi-W"
   },
   "source": [
    "This histogram is the result of a simulation with file of a fixed size of 100GB. This means that once the random generator gives for ten times the same number associated with a certain HD, this one will be full and the simulation ends. Running this simulation for 30 times to reduce statistical fluctuation, the average space used is:\n",
    "\n",
    "\\begin{equation*}\n",
    "    \\begin{array}{c|c|c|c} \\hline\n",
    "  \titeration\t&\tmean \t\t\t&\t\\sigma\t& file \\ size\t \\\\ \\hline\n",
    "       \t30\t&\t60 \\%\t&\t2\\% & 100 \\ GB\t\\\\ \n",
    "    \\end{array}\n",
    "\\end{equation*}\n",
    "\n",
    "In particular the analysis has been done for three other possible dimensions of file, respectively 10GB, 1GB, 4MB. The idea is that using files with small dimension (with respect to the total size of the HDs) is more efficent form the point of view of the used space before completely fill the first HD. The results are the following:\n",
    "\n",
    "\n",
    "\\begin{equation*}\n",
    "    \\begin{array}{c|c|c|c} \\hline\n",
    "  \titeration\t&\tmean \t\t\t&\t\\sigma\t& file \\ size\t \\\\ \\hline\n",
    "       \t30\t&\t85.5\\%\t&\t0.8\\% & 10 \\ GB\t\\\\ \n",
    "       \t10\t&\t94.6\\%\t&\t0.3\\% & 1 \\ GB\t\\\\ \n",
    "       \t5\t&\t99.69\\%\t&\t0.02\\% & 4 \\ MB\t\\\\ \n",
    "    \\end{array}\n",
    "\\end{equation*}\n",
    "\n",
    "It is pretty interesting to look also at the histograms:\n",
    "\n"
   ]
  },
  {
   "cell_type": "code",
   "execution_count": null,
   "metadata": {
    "colab": {
     "base_uri": "https://localhost:8080/",
     "height": 478
    },
    "id": "b7-YWX64Jumi",
    "outputId": "11cc16df-ff6f-42c7-95c3-49109a47cf04"
   },
   "outputs": [
    {
     "name": "stdout",
     "output_type": "stream",
     "text": [
      "Mean =  0.8546333333333334\n",
      "Std.dev =  0.008330155120020093\n"
     ]
    },
    {
     "data": {
      "image/png": "[encoded data removed]",
      "text/plain": [
       "<Figure size 640x480 with 1 Axes>"
      ]
     },
     "metadata": {
      "needs_background": "light",
      "tags": []
     },
     "output_type": "display_data"
    }
   ],
   "source": [
    "mean1 , std1, a1 , stop1 = hash_func(10,100,30)\n",
    "\n",
    "plt.figure(figsize=(8, 6), dpi=80)\n",
    "plt.hist(a1[0:stop1], color = \"red\")\n",
    "plt.xlabel(\"# Hard Disk\")\n",
    "plt.ylabel(\"Number of files allocated\")\n",
    "plt.title(\"10 GB files\")\n",
    "print(\"Mean = \", mean1)\n",
    "print(\"Std.dev = \", std1)"
   ]
  },
  {
   "cell_type": "code",
   "execution_count": null,
   "metadata": {
    "colab": {
     "base_uri": "https://localhost:8080/",
     "height": 478
    },
    "id": "UcisUNGMJ37a",
    "outputId": "7e917310-8cda-4c77-b6e0-99c9963e5ccb"
   },
   "outputs": [
    {
     "name": "stdout",
     "output_type": "stream",
     "text": [
      "Mean =  0.9460200000000001\n",
      "Std.dev =  0.0032299333402569423\n"
     ]
    },
    {
     "data": {
      "image/png": "[encoded data removed]",
      "text/plain": [
       "<Figure size 640x480 with 1 Axes>"
      ]
     },
     "metadata": {
      "needs_background": "light",
      "tags": []
     },
     "output_type": "display_data"
    }
   ],
   "source": [
    "mean2 , std2, a2, stop2 = hash_func(10,1000,10)\n",
    "\n",
    "plt.figure(figsize=(8, 6), dpi=80)\n",
    "plt.hist(a2[0:stop2], color = \"red\")\n",
    "plt.xlabel(\"# Hard Disk\")\n",
    "plt.ylabel(\"Number of files allocated\")\n",
    "plt.title(\"1 GB files\")\n",
    "print(\"Mean = \", mean2)\n",
    "print(\"Std.dev = \", std2)"
   ]
  },
  {
   "cell_type": "code",
   "execution_count": null,
   "metadata": {
    "colab": {
     "base_uri": "https://localhost:8080/",
     "height": 478
    },
    "id": "lMfbbAfLJ4Ik",
    "outputId": "b1acb350-b67f-4d21-dfc8-17f5e83a9bb3"
   },
   "outputs": [
    {
     "name": "stdout",
     "output_type": "stream",
     "text": [
      "Mean =  0.9969010937499999\n",
      "Std.dev =  0.0001865817122622155\n"
     ]
    },
    {
     "data": {
      "image/png": "[encoded data removed]",
      "text/plain": [
       "<Figure size 640x480 with 1 Axes>"
      ]
     },
     "metadata": {
      "needs_background": "light",
      "tags": []
     },
     "output_type": "display_data"
    }
   ],
   "source": [
    "mean3 , std3, a3, stop3 = hash_func(10,256000,5, start = 2548500 )\n",
    "\n",
    "plt.figure(figsize=(8, 6), dpi=80)\n",
    "plt.hist(a3[0:stop3], color = \"red\")\n",
    "plt.xlabel(\"# Hard Disk\")\n",
    "plt.ylabel(\"Number of files allocated\")\n",
    "plt.title(\"4 MB files\")\n",
    "print(\"Mean = \", mean3)\n",
    "print(\"Std.dev = \", std3)"
   ]
  },
  {
   "cell_type": "markdown",
   "metadata": {
    "id": "8PLSXtiPKJcZ"
   },
   "source": [
    "It is clear how decreasing the dimesion of the files the plot seems more a flat distibution over the HDs. \n",
    "We are not surprised by this. Without entering in sophisticated statistical calculations, it is straightfoward to understand that the number of iterations N needed to fill an HD is much greater if the size of the files is smaller. According to the Law of large numbers, the bigger N is and the more the histograms in the previous figures will tend to the uniform distribution.\n",
    "Thus, the occupation differences among HDs will be significantly smaller for large number of files, reducing as well the standard deviation."
   ]
  },
  {
   "cell_type": "markdown",
   "metadata": {
    "id": "9tKb6WqnKUcU"
   },
   "source": [
    "### 3.2 Increasing the number of HDs"
   ]
  },
  {
   "cell_type": "code",
   "execution_count": null,
   "metadata": {
    "id": "djouDo7-L7U0"
   },
   "outputs": [],
   "source": [
    "def gauss(x, mean, sigma):\n",
    "    dummy1 = np.exp(-(x-mean)**2 / (2*sigma**2) )\n",
    "    dummy2 = (2 * np.pi * sigma**2)**(-0.5)\n",
    "    \n",
    "    return(dummy1*dummy2)"
   ]
  },
  {
   "cell_type": "markdown",
   "metadata": {
    "id": "W2_quXzuLcNk"
   },
   "source": [
    "With the same code it is possible to look to how the simulation runs using a different number of HDs. The code that we have implemented concerns a simulation with 1000 HDs and file size of 10GB. The next figure shows the results obtained. "
   ]
  },
  {
   "cell_type": "code",
   "execution_count": null,
   "metadata": {
    "colab": {
     "base_uri": "https://localhost:8080/",
     "height": 922
    },
    "id": "zkcNJepfLw8P",
    "outputId": "4c39d960-3e33-430e-d865-3cbfaccce3e0"
   },
   "outputs": [
    {
     "name": "stdout",
     "output_type": "stream",
     "text": [
      "Mean =  0.65936\n",
      "Std.dev =  0.08134365617551254\n"
     ]
    },
    {
     "data": {
      "text/plain": [
       "<matplotlib.legend.Legend at 0x7f4ef4bd49d0>"
      ]
     },
     "execution_count": 13,
     "metadata": {
      "tags": []
     },
     "output_type": "execute_result"
    },
    {
     "data": {
      "image/png": "[encoded data removed]",
      "text/plain": [
       "<Figure size 640x480 with 1 Axes>"
      ]
     },
     "metadata": {
      "needs_background": "light",
      "tags": []
     },
     "output_type": "display_data"
    },
    {
     "data": {
      "image/png": "[encoded data removed]",
      "text/plain": [
       "<Figure size 640x480 with 1 Axes>"
      ]
     },
     "metadata": {
      "needs_background": "light",
      "tags": []
     },
     "output_type": "display_data"
    }
   ],
   "source": [
    "mean1000 , std1000, a1000 , stop1000 = hash_func(1000,100,1)\n",
    "\n",
    "stop, _ = np.histogram(a1000[0:stop1000 ],bins=1000)\n",
    "plt.figure(figsize=(8, 6), dpi=80)\n",
    "plt.plot(stop)\n",
    "plt.xlabel(\"# Hard Disk\")\n",
    "plt.ylabel(\"Number of files allocated\")\n",
    "plt.title(\"1000 HDs\")\n",
    "print(\"Mean = \", np.mean(stop/100))\n",
    "print(\"Std.dev = \", np.std(stop/100))\n",
    "\n",
    "\n",
    "x = np.linspace(0,100,100)\n",
    "gaussian = gauss(x,np.mean(stop),np.std(stop) )*1000\n",
    "\n",
    "plt.figure(figsize=(8, 6), dpi=80)\n",
    "plt.plot(gaussian,color = \"red\", label = \"Gaussian\")\n",
    "plt.hist(stop, bins = 55, label = \"Histogram\")\n",
    "plt.xlabel(\"Number of files allocated\")\n",
    "plt.ylabel(\" Number of HDs  \")\n",
    "plt.title(\"1000 HDs\")\n",
    "plt.legend()\n"
   ]
  },
  {
   "cell_type": "markdown",
   "metadata": {
    "id": "3MC72iveM2Jl"
   },
   "source": [
    "Using a greater number of HDs, the simulation ends with an average occupation of $68\\%$ and a standard deviation of $ 8 \\%$ and the distribution of the occupation over HDs is similar to a gaussian with these paremeters. The average value of occupied space with files of 10 GB is less in the case of a huge number of HDs. This could be due to the fact that at the end of the simulation, in the case of many HDs, there are a lot of them with few files. "
   ]
  },
  {
   "cell_type": "markdown",
   "metadata": {
    "id": "Ia3hhV0Q0w3E"
   },
   "source": [
    "# Exercise 4\n"
   ]
  },
  {
   "cell_type": "markdown",
   "metadata": {
    "id": "00IwJ4bRFuBU"
   },
   "source": [
    "## 4.1.1 Use the REST API\n",
    "The following code steals 100 coins to all the accounts possessing more than 500 coins. Our account is 'LuPi AndAle'."
   ]
  },
  {
   "cell_type": "code",
   "execution_count": 4,
   "metadata": {
    "id": "aQL3PYtQzt-H"
   },
   "outputs": [],
   "source": [
    "import requests\n",
    "import time\n",
    "import json\n",
    "from timeit import timeit\n",
    "import matplotlib.pyplot as plt"
   ]
  },
  {
   "cell_type": "code",
   "execution_count": 5,
   "metadata": {
    "id": "1zQiBFyJ01JH"
   },
   "outputs": [],
   "source": [
    "url = 'https://pansophy.app:8443'"
   ]
  },
  {
   "cell_type": "code",
   "execution_count": 6,
   "metadata": {
    "id": "Wq0em08I1Dk_"
   },
   "outputs": [
    {
     "name": "stderr",
     "output_type": "stream",
     "text": [
      "/usr/local/lib/python3.9/site-packages/urllib3/connectionpool.py:1013: InsecureRequestWarning: Unverified HTTPS request is being made to host 'pansophy.app'. Adding certificate verification is strongly advised. See: https://urllib3.readthedocs.io/en/latest/advanced-usage.html#ssl-warnings\n",
      "  warnings.warn(\n"
     ]
    },
    {
     "name": "stdout",
     "output_type": "stream",
     "text": [
      "ACCOUNTS          | COINS\n",
      "----------------------------------\n",
      "21centurysboys    | 1701\n",
      "AC Milan          | 1\n",
      "Andreas J. Peters | 1\n",
      "BellaFra          | 1\n",
      "BellaZio          | 1\n",
      "CANE              | 996510\n",
      "FaoTom            | 1\n",
      "Fogliame          | 1\n",
      "Giovanni          | 1\n",
      "GitPush           | 1\n",
      "LuPi AndAle       | 1766\n",
      "Oesais            | 1\n",
      "PM                | 1\n",
      "PaoloMuschio      | 1\n",
      "Team1             | 1\n",
      "bellaZio          | 1\n",
      "genesis           | 10\n",
      "\n",
      "\n",
      "Last three transactions:\n"
     ]
    },
    {
     "data": {
      "text/plain": [
       "{'coins': 100,\n",
       " 'debit': '21centurysboys',\n",
       " 'index': 2525,\n",
       " 'my_hash': 'af565539d68c201ccc143dfd44256d2e6d9a88cd29a512859f4d15a35e9dc33d',\n",
       " 'prev_hash': 'f1f5f0d74fe7e9faff9f3e4b3938ffa33008974793d334069e285b7417c69223',\n",
       " 'team': 'LuPi AndAle',\n",
       " 'timestamp': 1623317693.85744}"
      ]
     },
     "metadata": {},
     "output_type": "display_data"
    },
    {
     "data": {
      "text/plain": [
       "{'coins': 100,\n",
       " 'debit': '21centurysboys',\n",
       " 'index': 2526,\n",
       " 'my_hash': '4cdac5eaab44f330d186a59f4bccc18e96610a59ba130ecb912c9506b4f516fd',\n",
       " 'prev_hash': 'af565539d68c201ccc143dfd44256d2e6d9a88cd29a512859f4d15a35e9dc33d',\n",
       " 'team': 'LuPi AndAle',\n",
       " 'timestamp': 1623317707.317521}"
      ]
     },
     "metadata": {},
     "output_type": "display_data"
    },
    {
     "data": {
      "text/plain": [
       "{'coins': 100,\n",
       " 'debit': '21centurysboys',\n",
       " 'index': 2527,\n",
       " 'my_hash': '025da6a05e8314a96d03ddce03d9b160a1d39ff2a900c854e320f65bc632f314',\n",
       " 'prev_hash': '4cdac5eaab44f330d186a59f4bccc18e96610a59ba130ecb912c9506b4f516fd',\n",
       " 'team': 'LuPi AndAle',\n",
       " 'timestamp': 1623317721.013779}"
      ]
     },
     "metadata": {},
     "output_type": "display_data"
    },
    {
     "name": "stdout",
     "output_type": "stream",
     "text": [
      "\n",
      "Number of transactions made by us: 254\n"
     ]
    }
   ],
   "source": [
    "# Printing a summary of the chain\n",
    "r = requests.get(url, verify=False)\n",
    "response=r.json()                                                          #saving the GET response \n",
    "accounts = [key for key in response['accounts'].keys()]                    #Saving a vector of all the accounts\n",
    "coins = [response['accounts'][key] for key in response['accounts'].keys()] #Saving a vector of all the accounts\n",
    "                                                                           # coins\n",
    "\n",
    "\n",
    "#printing a recap table of the accounts and their coins   \n",
    "lenmax= 0\n",
    "\n",
    "for account in accounts:\n",
    "    if len(account)>lenmax: lenmax=len(account)\n",
    "\n",
    "print('ACCOUNTS'+' '*(lenmax-len(account)-1),'|','COINS')\n",
    "print('-'*2*lenmax)\n",
    "for i,account in enumerate(accounts):\n",
    "    print('{}'.format(account)+' '*(lenmax-len(account)),'|',coins[i])\n",
    "#printing the last three transactions\n",
    "print('\\n\\nLast three transactions:')\n",
    "for i in (-3,-2,-1):\n",
    "    display(response['chain'][i])\n",
    "\n",
    "#printing the number of transactions made by us\n",
    "count = 0\n",
    "for block in response['chain']:\n",
    "    if block['team']=='LuPi AndAle':\n",
    "        count = count +1\n",
    "\n",
    "print('\\nNumber of transactions made by us: {}'.format(count))"
   ]
  },
  {
   "cell_type": "code",
   "execution_count": 7,
   "metadata": {
    "id": "kYlsYFuZCzHO"
   },
   "outputs": [],
   "source": [
    "#getting a list of the accounts without ours (competitors) and their coins (competitors_coin)\n",
    "competitors = []\n",
    "competitors_coins = []\n",
    "for element in accounts:\n",
    "    if element != 'LuPi AndAle':\n",
    "        competitors.append(element)\n",
    "        competitors_coins.append(response['accounts'][element])"
   ]
  },
  {
   "cell_type": "code",
   "execution_count": 9,
   "metadata": {},
   "outputs": [
    {
     "name": "stderr",
     "output_type": "stream",
     "text": [
      "/usr/local/lib/python3.9/site-packages/urllib3/connectionpool.py:1013: InsecureRequestWarning: Unverified HTTPS request is being made to host 'pansophy.app'. Adding certificate verification is strongly advised. See: https://urllib3.readthedocs.io/en/latest/advanced-usage.html#ssl-warnings\n",
      "  warnings.warn(\n",
      "/usr/local/lib/python3.9/site-packages/urllib3/connectionpool.py:1013: InsecureRequestWarning: Unverified HTTPS request is being made to host 'pansophy.app'. Adding certificate verification is strongly advised. See: https://urllib3.readthedocs.io/en/latest/advanced-usage.html#ssl-warnings\n",
      "  warnings.warn(\n",
      "/usr/local/lib/python3.9/site-packages/urllib3/connectionpool.py:1013: InsecureRequestWarning: Unverified HTTPS request is being made to host 'pansophy.app'. Adding certificate verification is strongly advised. See: https://urllib3.readthedocs.io/en/latest/advanced-usage.html#ssl-warnings\n",
      "  warnings.warn(\n",
      "/usr/local/lib/python3.9/site-packages/urllib3/connectionpool.py:1013: InsecureRequestWarning: Unverified HTTPS request is being made to host 'pansophy.app'. Adding certificate verification is strongly advised. See: https://urllib3.readthedocs.io/en/latest/advanced-usage.html#ssl-warnings\n",
      "  warnings.warn(\n"
     ]
    }
   ],
   "source": [
    "for i,competitor in enumerate(competitors):\n",
    "    if competitors_coins[i]>500:\n",
    "        post_data = {\n",
    "            \"operation\": \"merit\",\n",
    "            \"team\": \"LuPi AndAle\",\n",
    "            \"coin\": 100,\n",
    "            \"stealfrom\":competitor\n",
    "        }\n",
    "        \n",
    "        r_post = requests.post(url,json=post_data,verify=False)   # calling the merit function\n",
    "        \n",
    "        time.sleep(10.5)                                          # waiting the proof of time\n",
    "        \n",
    "        claim_data = {\n",
    "            \"operation\": \"claim\",\n",
    "            \"team\": \"LuPi AndAle\"\n",
    "        }\n",
    "        \n",
    "        r_claim = requests.post(url,json=claim_data,verify=False) #calling the claim function"
   ]
  },
  {
   "cell_type": "code",
   "execution_count": 10,
   "metadata": {
    "id": "-3lvYmmVE6-S"
   },
   "outputs": [
    {
     "name": "stderr",
     "output_type": "stream",
     "text": [
      "/usr/local/lib/python3.9/site-packages/urllib3/connectionpool.py:1013: InsecureRequestWarning: Unverified HTTPS request is being made to host 'pansophy.app'. Adding certificate verification is strongly advised. See: https://urllib3.readthedocs.io/en/latest/advanced-usage.html#ssl-warnings\n",
      "  warnings.warn(\n"
     ]
    },
    {
     "name": "stdout",
     "output_type": "stream",
     "text": [
      "ACCOUNTS          | COINS\n",
      "----------------------------------\n",
      "21centurysboys    | 1601\n",
      "AC Milan          | 1\n",
      "Andreas J. Peters | 1\n",
      "BellaFra          | 1\n",
      "BellaZio          | 1\n",
      "CANE              | 996410\n",
      "FaoTom            | 1\n",
      "Fogliame          | 1\n",
      "Giovanni          | 1\n",
      "GitPush           | 1\n",
      "LuPi AndAle       | 1966\n",
      "Oesais            | 1\n",
      "PM                | 1\n",
      "PaoloMuschio      | 1\n",
      "Team1             | 1\n",
      "bellaZio          | 1\n",
      "genesis           | 10\n",
      "\n",
      "\n",
      "Last three transactions:\n"
     ]
    },
    {
     "data": {
      "text/plain": [
       "{'coins': 100,\n",
       " 'debit': '21centurysboys',\n",
       " 'index': 2527,\n",
       " 'my_hash': '025da6a05e8314a96d03ddce03d9b160a1d39ff2a900c854e320f65bc632f314',\n",
       " 'prev_hash': '4cdac5eaab44f330d186a59f4bccc18e96610a59ba130ecb912c9506b4f516fd',\n",
       " 'team': 'LuPi AndAle',\n",
       " 'timestamp': 1623317721.013779}"
      ]
     },
     "metadata": {},
     "output_type": "display_data"
    },
    {
     "data": {
      "text/plain": [
       "{'coins': 100,\n",
       " 'debit': '21centurysboys',\n",
       " 'index': 2528,\n",
       " 'my_hash': 'ada53898825e2883cd3e298e0aca9e1f6c794250b90b40fad25b741d237a3cfe',\n",
       " 'prev_hash': '025da6a05e8314a96d03ddce03d9b160a1d39ff2a900c854e320f65bc632f314',\n",
       " 'team': 'LuPi AndAle',\n",
       " 'timestamp': 1623321087.839084}"
      ]
     },
     "metadata": {},
     "output_type": "display_data"
    },
    {
     "data": {
      "text/plain": [
       "{'coins': 100,\n",
       " 'debit': 'CANE',\n",
       " 'index': 2529,\n",
       " 'my_hash': 'c24d87651332e71072f67ec2d5f3ccdec8425af1dabc76576da42ca2f45ae404',\n",
       " 'prev_hash': 'ada53898825e2883cd3e298e0aca9e1f6c794250b90b40fad25b741d237a3cfe',\n",
       " 'team': 'LuPi AndAle',\n",
       " 'timestamp': 1623321098.716694}"
      ]
     },
     "metadata": {},
     "output_type": "display_data"
    },
    {
     "name": "stdout",
     "output_type": "stream",
     "text": [
      "\n",
      "Number of transactions made by us: 256\n"
     ]
    }
   ],
   "source": [
    "# Printing a summary of the chain\n",
    "r = requests.get(url, verify=False)\n",
    "response=r.json()                                                          #saving the GET response \n",
    "accounts = [key for key in response['accounts'].keys()]                    #Saving a vector of all the accounts\n",
    "coins = [response['accounts'][key] for key in response['accounts'].keys()] #Saving a vector of all the accounts\n",
    "                                                                           # coins\n",
    "\n",
    "\n",
    "#printing a recap table of the accounts and their coins   \n",
    "lenmax= 0\n",
    "\n",
    "for account in accounts:\n",
    "    if len(account)>lenmax: lenmax=len(account)\n",
    "\n",
    "print('ACCOUNTS'+' '*(lenmax-len(account)-1),'|','COINS')\n",
    "print('-'*2*lenmax)\n",
    "for i,account in enumerate(accounts):\n",
    "    print('{}'.format(account)+' '*(lenmax-len(account)),'|',coins[i])\n",
    "#printing the last three transactions\n",
    "print('\\n\\nLast three transactions:')\n",
    "for i in (-3,-2,-1):\n",
    "    display(response['chain'][i])\n",
    "\n",
    "#printing the number of transactions made by us\n",
    "count = 0\n",
    "for block in response['chain']:\n",
    "    if block['team']=='LuPi AndAle':\n",
    "        count = count +1\n",
    "\n",
    "print('\\nNumber of transactions made by us: {}'.format(count))"
   ]
  },
  {
   "cell_type": "markdown",
   "metadata": {
    "id": "nWoMLqdBF-4s"
   },
   "source": [
    "## 4.1.2 What is the maximum number of transactions one given team can add to the Block Chain in one day?\n",
    "\n",
    "Given the fact that the server implements a Proof-of-Time algorithm which prevents to send a claim request before at least 10 seconds are passed from the merit request, the maximum number of transactions a team can add to the block chain are (in the ideal limit of zero-time request address):\n",
    " $$\\dfrac{seconds\\:in\\:a\\:day}{Proof\\:of\\:Time\\:wait}=\\dfrac{24\\cdot60\\cdot60}{10}=\\dfrac{86400}{10}=8640\\;transactions/day$$"
   ]
  },
  {
   "cell_type": "markdown",
   "metadata": {
    "id": "e2lB96e9I9uE"
   },
   "source": [
    "## 4.2.1 Explain what the function that computes the hash of a block does and why is this ‘the key’ for Block Chain technology.\n",
    "\n",
    "This function computes the cryptografic hash of the contents of a block.\n",
    "In particular, the function at first puts all the blocks informations into a 'block_of_string' string. Then the 'block_of_string' is encoded by representing each character of the string with 1 byte (UTF-8 encoding). Finally the hexadecimal digest computed by sha-256 algorithm is returned. \n",
    "\n",
    "This function is the key of the block chain technology because it allows to achieve security in blockchains: every block is characterized by an hash that relies on the hash of the previous block.\n",
    "This mechanism allows to avoid the tempering of any block of the chain since every change in the block leads to a completely new hash. Hence, it is straightforward to evaluate the validity of the chain by checking that in the sequence of hashes each element relies well on the previous one. "
   ]
  },
  {
   "cell_type": "markdown",
   "metadata": {
    "id": "xoiZOdloQrmN"
   },
   "source": [
    "## 4.2.2 If you have the knowledge of the hash function, how can you validate the contents of the Block Chain you received using a GET request to make sure, nobody has tampered with it?\n",
    "\n",
    "Having the knoledge of the hash function we can verify the Block Chain going trough all blocks and verifying the consistency of the included hash value in the block with the one of its predecessors. Practically speaking we go down trough the chain starting from the bottom and check the agreement of the hash function of a block and the one of its predecessor (this check can be done for instance by means of an if statement). "
   ]
  },
  {
   "cell_type": "markdown",
   "metadata": {
    "id": "NPkZNhvuo8JB"
   },
   "source": [
    "## 4.2.3 Why might the GET REST API run into scalability problems? Express the scalability behaviour of execution times of GET and POST requests in Big O notation in relation to the number of transactions recorded in the Block Chain! Draw execution time vs transactions for GET and POST requests.\n",
    "\n",
    "The GET REST API returns the whole set of transactions that have occured in the chain, with detailed data. As a result, the longer the chain gets the more data will be available and hence the larger amount of resources and time will be needed to perform this operation. From a technical point of view, the execution time of GET grows linearly with the length $N$ of the chain ($\\mathcal{O}(N)$). \n",
    "\n",
    "On the other hand, the POST operation regards the single transaction we want to submit and therefore the execution time is independent of the chain length ($\\mathcal{O}(1)$). \\\n",
    "\\\n",
    "The following graphs is obtained by doing 100 transactions: each transaction steals 10 coins to \"genesis\". At every iteration we measure GET and POST execution time and store them. We then plot both of them as a function of chain length.\\\n",
    "We show the code we used below the graph."
   ]
  },
  {
   "cell_type": "code",
   "execution_count": null,
   "metadata": {
    "id": "KeW5k-2Y_9Rf"
   },
   "outputs": [],
   "source": [
    "url = 'https://pansophy.app:8443'\n",
    "\n",
    "post_times = []            #list of POST execution times\n",
    "get_times = []             #list of GET execution times\n",
    "transactions_indexes = []  #list of blocks indexes\n",
    "for i in range (0,150):\n",
    "    print(i)\n",
    "    post_data = {\n",
    "            \"operation\": \"merit\",\n",
    "            \"team\": \"LuPi AndAle\",\n",
    "            \"coin\": 10,\n",
    "            \"stealfrom\": \"genesis\"\n",
    "    }\n",
    "        \n",
    "    start_time_post = time.time()                           #\n",
    "    r_post = requests.post(url,json=post_data,verify=False) #Measurign POST execution time\n",
    "    end_time_post = time.time()                             #\n",
    "    post_times.append(end_time_post-start_time_post)        #Saving POST execution time\n",
    "        \n",
    "    time.sleep(10)\n",
    "        \n",
    "    claim_data = {\n",
    "        \"operation\": \"claim\",\n",
    "        \"team\": \"LuPi AndAle\"\n",
    "    }\n",
    "        \n",
    "    r_claim = requests.post(url,json=claim_data,verify=False)\n",
    "        \n",
    "    start_time_get = time.time()                  #\n",
    "    r_get = requests.get(url, verify=False)       #Measuring GET execution time\n",
    "    end_time_get = time.time()                    #\n",
    "        \n",
    "    get_times.append(end_time_get-start_time_get) #Saving GET execution time\n",
    "    transactions_indexes.append(r_get.json()['chain'][-1]['index'])"
   ]
  },
  {
   "cell_type": "code",
   "execution_count": null,
   "metadata": {
    "id": "y6NKpH70ATFk"
   },
   "outputs": [],
   "source": [
    "#Plotting the graph\n",
    "fig = plt.figure(figsize=(12,8))\n",
    "plt.plot(transactions_indexes,post_times,label='POST execution time')\n",
    "plt.plot(transactions_indexes,get_times,label='GET execution time')\n",
    "plt.xlabel('#Number of transactions',size=20)\n",
    "plt.ylabel('seconds',size=20)\n",
    "plt.legend(loc='best',title=\"Execution Times\",title_fontsize= 18,prop={'size':16})\n",
    "plt.tick_params(axis='both', which='major', labelsize=20)\n",
    "plt.grid(linestyle='--')\n",
    "plt.show()"
   ]
  },
  {
   "cell_type": "markdown",
   "metadata": {},
   "source": [
    "Here the plot we obtained together with the theoretical expectations (note: performing the GET and POST operations 100 times requires a non trivial amount of time, hence we report in here the plot obtained by a previous run of the code above).\n",
    "\n",
    "![Execution time vs chain length and expectations](Exe_times.png)"
   ]
  },
  {
   "cell_type": "markdown",
   "metadata": {
    "id": "q0PnnjVC4ke0"
   },
   "source": [
    "## 4.2.4 If the Crypto server goes down, the way it is implemented it loses the current account balances. How can the server recompute the account balances after a restart from the saved Block Chain?\n",
    "\n",
    "Assuming that the Block Chain is available, the account balances at a certain point of the chain can simply be reconstructed by the server by running across the chain again from the very beginning. This can be done if the initial conditions are known (i.e., 1M coins stored in the \"genesis\" team for this example) and if the chain is uncorrupted (or eventually restored). Given the fact that also in our personal experience while preparing this project the server has been down multiple times, we believe the wallets at the end of the chain have been recollected in this way."
   ]
  },
  {
   "cell_type": "markdown",
   "metadata": {
    "id": "4yFZJsyM6m7M"
   },
   "source": [
    "## 4.2.5 What are the advantages of using a REST API and JSON in a client-server architecture? What are possible disadvantages?\n",
    "\n",
    "A REST API is expecially powerful because of its scalability, which is enhanced in a separed server-client framework. Moreover, in this scenario it also helps running the protocol on various platforms and projects. Finally, it is also relatively easy to learn and use, deals well with high loads and supports the standard HTTP. On the other hand, it lacks the presence of stateful mechanisms and more importantly is weak when it comes to security (hence, is not optimal when dealing with confidential data). As for JSON, it can count on simple usage because of the user-friendly sintax which results in code which is easily readable from both the human and machine points of view. It is also easy to interface this format with several languages for data management and it supports arrays. Cons are the fact that it only supports UTF-8 encoding and that it offers little protection to data."
   ]
  }
 ],
 "metadata": {
  "colab": {
   "collapsed_sections": [],
   "name": "MAPDB.ipynb",
   "provenance": [],
   "toc_visible": true
  },
  "kernelspec": {
   "display_name": "Python 3",
   "language": "python",
   "name": "python3"
  },
  "language_info": {
   "codemirror_mode": {
    "name": "ipython",
    "version": 3
   },
   "file_extension": ".py",
   "mimetype": "text/x-python",
   "name": "python",
   "nbconvert_exporter": "python",
   "pygments_lexer": "ipython3",
   "version": "3.9.2"
  }
 },
 "nbformat": 4,
 "nbformat_minor": 1
}

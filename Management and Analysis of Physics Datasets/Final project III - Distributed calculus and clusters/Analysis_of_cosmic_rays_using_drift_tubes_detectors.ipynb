{
 "cells": [
  {
   "cell_type": "markdown",
   "id": "667b0575",
   "metadata": {},
   "source": [
    "# Batch analysis of cosmic rays using Drift Tubes detectors\n",
    "Edited by `Group 10`:\n",
    "- Alessandro Marcomini (2024286)\n",
    "- Andrea Scanu (2022460)\n",
    "- Luca Castelli (1243439)\n",
    "- Pietro Miglioranza (2029265)\n",
    "\n",
    "This project aims to reconstruct a series of muons trajectories which pass through four different detectors. Every detector is composed by 4 layers and every layer is composed by 16 cells, this means 64 cells per detector. Each cell measures the time arrival of the electronic signal released at the passage of a charged particle: the particle ionizes the cell content and the produced electrons drift at constant velocity towards the anodic wire at the center of the cell.\n",
    "The other goal of this project is to exploit the capability of the Daks distributed framework to enhance the performances of a Python-based analysis code: in particular, we run the code on a Dask cluster built over four virtual machines provided by CloudVeneto. Also, using the Dask framework we minimize the computation in our machines and we distribuite the tasks that can be parallelized over the VMs in order to decrease computation times. "
   ]
  },
  {
   "cell_type": "markdown",
   "id": "9010a1ed",
   "metadata": {},
   "source": [
    "## 0.1 Cluster Settings\n",
    "\n",
    "We choose Dask to improve our project because it is designed to work with big and distributed datasets using a Python-based language. The native similarity to Pandas library and the compatibility with Python make Dask a convenient choice on the basis of our knowledge and the one of potential readers.  \n",
    "\n",
    "The first part of the configuration that we make is the clustering of the four VMs that we used: we connect 16 workers along the virtual machines on CloudVeneto servers. We set up one of the machines as the scheduler and also as a worker, the other ones as workers only. The bash commands to do so are: `dask-scheduler` to start the scheduler and `dask-worker IP:PORT --nprocs 4` to start a worker with 4 processors and automatic (balanced) assignment of memory and threads.\n",
    "In particular we choose the following configuration:\n",
    "\n",
    "- scheduler on first VM;\n",
    "- 4 workes with 1 thread and 2 GiB of memory for each worker on all VMs;\n",
    "\n",
    "In the end we create a cluster with 16 workers, 16 cores and 32.80 GiB of memory. This is the configuration that we select as the best to run our project on, but we previously tried different configurations in order to optimize the times of computation and to exploit all of the possibilities offered by our machines. We have verified what the Dask documentation suggests to do while working with Python code: Python is not optimized for working on multiple threads, so the best way is to have as many workers as possible with just one thread each. \n",
    "A test was run with 81 files ($\\sim 81$ MB) on the four VMs and we have seen that the total time needed to run the algorithm is about:\n",
    "- 430s with 16 workers, 1 thread each;\n",
    "- 830s with 8 workers, 2 threads each;\n",
    "- 2090s with 4 workers, 4 threads each.\n",
    "\n",
    "Once the machinery is configured, it is sufficient to start the Client (which is in our case the same VM that hosts the scheduler)."
   ]
  },
  {
   "cell_type": "code",
   "execution_count": 1,
   "id": "71ca721b",
   "metadata": {},
   "outputs": [],
   "source": [
    "#importing the useful libraries\n",
    "import dask\n",
    "from dask.bytes import read_bytes\n",
    "from dask.distributed import Client\n",
    "from dask_ml.linear_model import LinearRegression\n",
    "import dask.dataframe as dd\n",
    "import pandas as pd\n",
    "import numpy as np\n",
    "import time\n",
    "from itertools import product\n",
    "import matplotlib.pyplot as plt\n",
    "from matplotlib.patches import Rectangle\n",
    "from numpy.polynomial import polynomial as P\n",
    "start_time = time.time()"
   ]
  },
  {
   "cell_type": "code",
   "execution_count": 2,
   "id": "9ca443d9",
   "metadata": {},
   "outputs": [
    {
     "data": {
      "text/html": [
       "<table style=\"border: 2px solid white;\">\n",
       "<tr>\n",
       "<td style=\"vertical-align: top; border: 0px solid white\">\n",
       "<h3 style=\"text-align: left;\">Client</h3>\n",
       "<ul style=\"text-align: left; list-style: none; margin: 0; padding: 0;\">\n",
       "  <li><b>Scheduler: </b>tcp://10.67.22.186:8786</li>\n",
       "  <li><b>Dashboard: </b><a href='http://10.67.22.186:8787/status' target='_blank'>http://10.67.22.186:8787/status</a></li>\n",
       "</ul>\n",
       "</td>\n",
       "<td style=\"vertical-align: top; border: 0px solid white\">\n",
       "<h3 style=\"text-align: left;\">Cluster</h3>\n",
       "<ul style=\"text-align: left; list-style:none; margin: 0; padding: 0;\">\n",
       "  <li><b>Workers: </b>16</li>\n",
       "  <li><b>Cores: </b>16</li>\n",
       "  <li><b>Memory: </b>32.80 GB</li>\n",
       "</ul>\n",
       "</td>\n",
       "</tr>\n",
       "</table>"
      ],
      "text/plain": [
       "<Client: 'tcp://10.67.22.186:8786' processes=16 threads=16, memory=32.80 GB>"
      ]
     },
     "execution_count": 2,
     "metadata": {},
     "output_type": "execute_result"
    }
   ],
   "source": [
    "#connecting the client to the scheduler\n",
    "client = Client('10.67.22.186:8786')\n",
    "client"
   ]
  },
  {
   "cell_type": "markdown",
   "id": "dd37a319",
   "metadata": {},
   "source": [
    "## 1.1 Collecting data\n",
    "In the following we gather the data which are stored in an s3 bucket by the means of the Dask function `read_bytes`. This returns a list of delayed objects that will turn into one bit string each, encoding the datasets.  "
   ]
  },
  {
   "cell_type": "code",
   "execution_count": 3,
   "id": "154efe98",
   "metadata": {
    "scrolled": true
   },
   "outputs": [],
   "source": [
    "#Gather data from the cloud\n",
    "pub = #CENSORED\n",
    "priv = #CENSORED\n",
    "_ , raw_data = read_bytes('s3://MAPD_miniDT_batch/*.dat',sample=False, delimiter = b\"\\n\",\n",
    "                 **{\n",
    "                     'use_ssl':False,\n",
    "                     'key':pub,\n",
    "                     'secret':priv,\n",
    "                     'client_kwargs':{\n",
    "                         'endpoint_url':'https://cloud-areapd.pd.infn.it:5210',\n",
    "                         'verify':False\n",
    "                     }\n",
    "                 })\n",
    "\n",
    "L = len(raw_data)"
   ]
  },
  {
   "cell_type": "markdown",
   "id": "1511c7cd",
   "metadata": {},
   "source": [
    "## 1.2 Decoding data\n",
    "As mentioned before the collected hits are encoded as 64bit words and each of them represents a row in a DataFrame with data respecting the following structure:\n",
    "\n",
    "- 0-4 $\\color{#58D68D}{\\text{(5 bits)}}$ → $\\color{#58D68D}{\\textbf{TDC}}$\n",
    "- 5-16 $\\color{#F39C12}{\\text{(12 bits)}}$ → $\\color{#F39C12}{\\textbf{BX}}$\n",
    "- 17-48 $\\color{#A569BD}{\\text{(32 bits)}}$ → $\\color{#A569BD}{\\textbf{ORBIT}}$\n",
    "- 49-57 $\\color{#2E86C1}{\\text{(9 bits)}}$ → $\\color{#2E86C1}{\\textbf{CHAN}}$\n",
    "- 58-60 $\\color{#E74C3C}{\\text{(3 bits)}}$ → $\\color{#E74C3C}{\\textbf{FPGA}}$\n",
    "- 61-63 $\\color{#1C2833}{\\text{(3 bits)}}$ → $\\color{#1C2833}{\\textbf{HEAD}}$\n",
    "\n",
    "As the bit position inside the string can be easily mistaken because of the lack of information regarding the endianess of encoding, we have performed a trial-and-error approach and investigated multiple configurations and responses to the native Python deconding functions to retreive the best decoding: this has been chosen as the one whose results seemed the most reasonable to us, given the fact that we expect a large amount of rows with values such as `HEAD=2` and `FPGA<4`. In the end, for an example 64bit word, we divide the six categories as follows:\n",
    "\n",
    "\\begin{equation}\n",
    "  \\color{#1C2833}{010} \\color{#E74C3C  }{000} \\color{#2E86C1}{111100100} \\color{#A569BD}{00011100001011010011110010111001} \\color{#F39C12}{000001011101} \\color{#58D68D}{10101}\n",
    "\\end{equation}\n",
    "\n",
    "The function below is able to decode the strings with the previous scheme and return a Pandas dataframe. We apply it to the dataset via the delayed Dask method: this ensures that at this point no real computation on the data is made, but everything is set to execute once we trigger opertions by the `.compute()` method. Finally, since it exists a huge compatibility between Dask DataFrames and Pandas ones, we can move to a Dask Dataframe to perform all the distributed computations over the workers."
   ]
  },
  {
   "cell_type": "code",
   "execution_count": 4,
   "id": "82adad02",
   "metadata": {},
   "outputs": [],
   "source": [
    "#Function to turn a sequence of bits to a dataframe with the right encoding\n",
    "def data_decoding(fp):\n",
    "    words = np.fromstring(fp, dtype = '<u8')\n",
    "    data = np.zeros((words.shape[0], 6), dtype = \"u4\") \n",
    "    data[:,0] =  words & 0b11111 # TDC\n",
    "    data[:,1] = (words & 0b11111111111100000) >> 5 # BX\n",
    "    data[:,2] = (words & 0b1111111111111111111111111111111100000000000000000) >> 17 # ORBIT\n",
    "    data[:,3] = (words & 0b1111111110000000000000000000000000000000000000000000000000) >> 49 # CHAN\n",
    "    data[:,4] = (words & 0b1110000000000000000000000000000000000000000000000000000000000) >> 58 # FPGA\n",
    "    data[:,5] =  words >> 61 #HEAD\n",
    "    return pd.DataFrame(data=data, columns=['TDC','BX','ORBIT','CHAN','FPGA','HEAD'])"
   ]
  },
  {
   "cell_type": "code",
   "execution_count": 5,
   "id": "289732e8",
   "metadata": {},
   "outputs": [],
   "source": [
    "z = [dask.delayed(data_decoding)(raw_data[i][0]) for i in range(L)]\n",
    "\n",
    "data_types = {'TDC':'uint8', 'BX':'uint16', 'ORBIT':'uint32', 'CHAN':'uint16', 'FPGA':'uint8', 'HEAD':'uint8'}\n",
    "df = dd.from_delayed(z, meta=data_types)"
   ]
  },
  {
   "cell_type": "markdown",
   "id": "8781d646",
   "metadata": {},
   "source": [
    "## 1.3 Preparing the DataFrame: removal of accessory data and absolute time calculation\n",
    "\n",
    "The following cells remove all data not pertaining to the TDC hits. Following the project documentation, we are removing all the rows which do not have compatible values of HEAD, FPGA, TDC and CHAN. In particular, to work on data concerning the experiment under investigation we impose:\n",
    "\n",
    "* HEAD = 2\n",
    "* FPGA < 2\n",
    "* CHAN < 129\n",
    "\n",
    "From the theory, we also know that the features `ORBIT`, `BX` and `TDC` allow us to reconstruct the absolute time in nanoseconds of muon detections (from a given zero-point) by the means of the following formula:\n",
    "\n",
    "$$\n",
    "t_{abs} = 25 \\cdot \\left(3564\\cdot\\text{ORBIT} + \\text{BX} + \\frac{\\text{TDC}}{30}\\right)\n",
    "$$\n",
    "\n",
    "Hence, we compute the absolute time and remove from the dataset the columns storing useless information for the trajectorties determination. \n",
    "\n",
    "Finally, we also create of a new column which contains a boolean value marking the scintillator signals (which allow us to affirm that a muon has hit the detector)."
   ]
  },
  {
   "cell_type": "code",
   "execution_count": 6,
   "id": "4859badc",
   "metadata": {},
   "outputs": [],
   "source": [
    "# drop head!=2 and unused channels\n",
    "df = df[(df['HEAD']==2) & (df['FPGA']<2) & (df['CHAN']<129)]\n",
    "#Computation of the absolute time: add a correspondig column\n",
    "df['ABS_TIME'] = 25.*(df['ORBIT']*3564. + df['BX'] + df['TDC']/30.)\n",
    "#From the informations about the channel and the fpga we reconstruct the number of the chamber\n",
    "df['CHAMBER'] = (df['CHAN'] // 64) + 2*df['FPGA']\n",
    "#We add a columun marking the scintillators signals\n",
    "df['VALID'] = (df['FPGA']==1)&(df['CHAN']==128)"
   ]
  },
  {
   "cell_type": "code",
   "execution_count": 7,
   "id": "0d05c64b",
   "metadata": {},
   "outputs": [],
   "source": [
    "#We drop the column we are not interested anymore\n",
    "df = df.drop('TDC', axis=1)\n",
    "df = df.drop('BX', axis=1)\n",
    "df = df.drop('FPGA', axis=1)\n",
    "df = df.drop('HEAD', axis=1)"
   ]
  },
  {
   "cell_type": "code",
   "execution_count": 8,
   "id": "6b6d4096",
   "metadata": {},
   "outputs": [
    {
     "data": {
      "text/html": [
       "<div>\n",
       "<style scoped>\n",
       "    .dataframe tbody tr th:only-of-type {\n",
       "        vertical-align: middle;\n",
       "    }\n",
       "\n",
       "    .dataframe tbody tr th {\n",
       "        vertical-align: top;\n",
       "    }\n",
       "\n",
       "    .dataframe thead th {\n",
       "        text-align: right;\n",
       "    }\n",
       "</style>\n",
       "<table border=\"1\" class=\"dataframe\">\n",
       "  <thead>\n",
       "    <tr style=\"text-align: right;\">\n",
       "      <th></th>\n",
       "      <th>ORBIT</th>\n",
       "      <th>CHAN</th>\n",
       "      <th>ABS_TIME</th>\n",
       "      <th>CHAMBER</th>\n",
       "      <th>VALID</th>\n",
       "    </tr>\n",
       "  </thead>\n",
       "  <tbody>\n",
       "    <tr>\n",
       "      <th>4</th>\n",
       "      <td>3387200947</td>\n",
       "      <td>75</td>\n",
       "      <td>3.017996e+14</td>\n",
       "      <td>1</td>\n",
       "      <td>False</td>\n",
       "    </tr>\n",
       "    <tr>\n",
       "      <th>5</th>\n",
       "      <td>3387200955</td>\n",
       "      <td>105</td>\n",
       "      <td>3.017996e+14</td>\n",
       "      <td>1</td>\n",
       "      <td>False</td>\n",
       "    </tr>\n",
       "    <tr>\n",
       "      <th>6</th>\n",
       "      <td>3387200955</td>\n",
       "      <td>107</td>\n",
       "      <td>3.017996e+14</td>\n",
       "      <td>1</td>\n",
       "      <td>False</td>\n",
       "    </tr>\n",
       "    <tr>\n",
       "      <th>7</th>\n",
       "      <td>3387200973</td>\n",
       "      <td>126</td>\n",
       "      <td>3.017996e+14</td>\n",
       "      <td>1</td>\n",
       "      <td>False</td>\n",
       "    </tr>\n",
       "    <tr>\n",
       "      <th>8</th>\n",
       "      <td>3387200955</td>\n",
       "      <td>55</td>\n",
       "      <td>3.017996e+14</td>\n",
       "      <td>2</td>\n",
       "      <td>False</td>\n",
       "    </tr>\n",
       "  </tbody>\n",
       "</table>\n",
       "</div>"
      ],
      "text/plain": [
       "        ORBIT  CHAN      ABS_TIME  CHAMBER  VALID\n",
       "4  3387200947    75  3.017996e+14        1  False\n",
       "5  3387200955   105  3.017996e+14        1  False\n",
       "6  3387200955   107  3.017996e+14        1  False\n",
       "7  3387200973   126  3.017996e+14        1  False\n",
       "8  3387200955    55  3.017996e+14        2  False"
      ]
     },
     "execution_count": 8,
     "metadata": {},
     "output_type": "execute_result"
    }
   ],
   "source": [
    "df.head()"
   ]
  },
  {
   "cell_type": "markdown",
   "id": "2f924037",
   "metadata": {},
   "source": [
    "# 2 Data analysis\n",
    "\n",
    "## 2.1 Filtering suitable orbits\n",
    "\n",
    "At this point of the code, if we look at the Dataframes we notice that there are some chunks of data that are difficult to analyse: e.g., there are orbits with too many hits that belong to different muons trajectories or noisy hits. The idea is to drop all of the portion of dataset that could increase computing time or produce misleading results. The choices that we have made are:\n",
    "\n",
    "* Orbits with less than 3 hits or more than 17 (boundaries to be able to perform a linear fit and be sure to have no more than one event per orbit)\n",
    "* Orbits with more than one scintillator signal\n",
    "* Drop the rows with the signal of the scintillator\n",
    "\n",
    "This operations allow us to get rid of extra data\n",
    "\n",
    "## 2.1 Determining Left/Right positions (unsolved ambiguity)\n",
    "\n",
    "With the filtered Dataframe it is possible to estimate the coordinates of every hit. The information about the muons trajectories is stored inside the columns with the drift times (since it is related to the spatial coordinates of the hits) that we compute below. It is worth recollecting that the `ORBIT` counter is set so that no more than one muon per orbit is expected. As reported above, we want to keep all and only rows corresponding to and orbit where a single muon count has been register and hence the scintillator can provide unambiguous information regarding its arrival time. \n",
    "\\\n",
    "The code below updates the Dataframe following this instructions:\n",
    "\n",
    "* Group the events by `ORBIT` and check if there is one and only scintillator click inside that orbit \n",
    "* Collect the time pedestal $t_0$ as the absolut time of arrival inside the scintillator channel\n",
    "* Create an additional column in the Dataframe with the relative time (`DIFF_TIME`) as $t_{abs} - t_0$\n",
    "\n",
    "Afterwards, we proceed by translating the time information into a spatial one as follows:\n",
    "\n",
    "* Drop the rows with the signal of the scintillator\n",
    "* By the means of the expression below, evaluate the left/right coordinates for every hit\n",
    "* Create an additional column for each of them and get rid of no more useful data\n",
    "\n",
    "The formula used to evaluate the spatial coordinates is:\n",
    "\n",
    "\\begin{equation}\n",
    "x_{L,R} = \\pm v_{drift} \\ ( t_{absolute} - t_0 + t_{shift} ) + x_{shift}\n",
    "\\end{equation}\n",
    "\n",
    "The $\\pm$ sign is set to get the left/right expected coordinate, respectively. The expression above takes into account two different corrections: a time shift and a spatial shift.\n",
    "The former is due to the scintillator error on the measure of the first hit, which has an intrinsic delay due to electronics. The latter is the correction due to the position of the cell that measured the hit (corresponding to its horizontal position in a frame of reference where the leftmost point of each layer is aligned with the vertical axis).\n",
    "\n",
    "To perform the linear fit in the chambers it is necessary to have also the $z$ coordinate, i.e. the height of the layer where a hit has been measured. \n",
    "The vertical configuration of the apparatus is described in the assignment document and, assuming that each cell is hit at the center of its vertical extension, it is thus sufficient to create a column in which we store all of the $z$ values.\n",
    "\\\n",
    "At the end of this section the dataframe is ready for further analysis."
   ]
  },
  {
   "cell_type": "code",
   "execution_count": 9,
   "id": "d5cfd869",
   "metadata": {},
   "outputs": [],
   "source": [
    "#Define functions for relative time computations and to move to spatial coordinates \n",
    "\n",
    "def space_shift(chamber):\n",
    "    shift_list = np.array([219.8,977.3,1035.6,1819.8])\n",
    "    return shift_list[chamber]\n",
    "\n",
    "def time_shift(chamber):\n",
    "    shift_list = np.array([95.0-1.1,95.0+6.4,95.0+0.5,95.0-2.6])\n",
    "    return shift_list[chamber]\n",
    "\n",
    "def x_trasl(n_cell):\n",
    "    #Shift of 8*42 to the left to avoid signed\n",
    "    x_cell = (n_cell//4)*42 + ((n_cell%4)//2)*21+21 \n",
    "    return x_cell\n",
    "\n",
    "def z_trasl(n_cell):\n",
    "    z_cell = 19.5 - 26*(n_cell%2) - 13*((n_cell%4)//2)\n",
    "    return(z_cell)"
   ]
  },
  {
   "cell_type": "code",
   "execution_count": 10,
   "id": "1b34a5cf",
   "metadata": {},
   "outputs": [],
   "source": [
    "#Keep only suitable orbits\n",
    "def orbit_filters(df):\n",
    "    # Checking the scintillator activation\n",
    "    if df.VALID.any():\n",
    "        val = df.VALID.sum()\n",
    "        # Discards orbits with multiple scintillator activations\n",
    "        if val<2:\n",
    "            L = df.size//5 # dd.DataFrame.size returns the product column x rows of the dataframe\n",
    "            accepted_hits = (L > 2) and (L < 18)\n",
    "            # Filtering w.r.t. the number of hits\n",
    "            if accepted_hits:\n",
    "                t0 = float(df[df['VALID']==True]['ABS_TIME'])\n",
    "                df = df.assign(DIFF_TIME = df['ABS_TIME']-t0)\n",
    "                return df"
   ]
  },
  {
   "cell_type": "code",
   "execution_count": 11,
   "id": "399c8f5b",
   "metadata": {},
   "outputs": [],
   "source": [
    "data_types = {'ORBIT':'uint32', 'CHAN':'uint16', 'ABS_TIME':'float64', 'CHAMBER':'uint8', 'VALID':'bool', 'DIFF_TIME':'float64'}\n",
    "df1 = df.groupby('ORBIT').apply(orbit_filters,meta = data_types).dropna()\n",
    "df1 = df1.reset_index(drop=True).persist()"
   ]
  },
  {
   "cell_type": "code",
   "execution_count": 12,
   "id": "549be7f4",
   "metadata": {},
   "outputs": [
    {
     "data": {
      "text/html": [
       "<div>\n",
       "<style scoped>\n",
       "    .dataframe tbody tr th:only-of-type {\n",
       "        vertical-align: middle;\n",
       "    }\n",
       "\n",
       "    .dataframe tbody tr th {\n",
       "        vertical-align: top;\n",
       "    }\n",
       "\n",
       "    .dataframe thead th {\n",
       "        text-align: right;\n",
       "    }\n",
       "</style>\n",
       "<table border=\"1\" class=\"dataframe\">\n",
       "  <thead>\n",
       "    <tr style=\"text-align: right;\">\n",
       "      <th></th>\n",
       "      <th>ORBIT</th>\n",
       "      <th>CHAN</th>\n",
       "      <th>ABS_TIME</th>\n",
       "      <th>CHAMBER</th>\n",
       "      <th>VALID</th>\n",
       "      <th>DIFF_TIME</th>\n",
       "    </tr>\n",
       "  </thead>\n",
       "  <tbody>\n",
       "    <tr>\n",
       "      <th>0</th>\n",
       "      <td>2399681</td>\n",
       "      <td>48</td>\n",
       "      <td>2.138116e+11</td>\n",
       "      <td>2</td>\n",
       "      <td>False</td>\n",
       "      <td>-41.666656</td>\n",
       "    </tr>\n",
       "    <tr>\n",
       "      <th>1</th>\n",
       "      <td>2399681</td>\n",
       "      <td>122</td>\n",
       "      <td>2.138116e+11</td>\n",
       "      <td>3</td>\n",
       "      <td>False</td>\n",
       "      <td>55.833344</td>\n",
       "    </tr>\n",
       "    <tr>\n",
       "      <th>2</th>\n",
       "      <td>2399681</td>\n",
       "      <td>47</td>\n",
       "      <td>2.138116e+11</td>\n",
       "      <td>2</td>\n",
       "      <td>False</td>\n",
       "      <td>157.500000</td>\n",
       "    </tr>\n",
       "    <tr>\n",
       "      <th>3</th>\n",
       "      <td>2399681</td>\n",
       "      <td>128</td>\n",
       "      <td>2.138116e+11</td>\n",
       "      <td>4</td>\n",
       "      <td>True</td>\n",
       "      <td>0.000000</td>\n",
       "    </tr>\n",
       "    <tr>\n",
       "      <th>4</th>\n",
       "      <td>2399681</td>\n",
       "      <td>49</td>\n",
       "      <td>2.138116e+11</td>\n",
       "      <td>2</td>\n",
       "      <td>False</td>\n",
       "      <td>20.000000</td>\n",
       "    </tr>\n",
       "  </tbody>\n",
       "</table>\n",
       "</div>"
      ],
      "text/plain": [
       "     ORBIT  CHAN      ABS_TIME  CHAMBER  VALID   DIFF_TIME\n",
       "0  2399681    48  2.138116e+11        2  False  -41.666656\n",
       "1  2399681   122  2.138116e+11        3  False   55.833344\n",
       "2  2399681    47  2.138116e+11        2  False  157.500000\n",
       "3  2399681   128  2.138116e+11        4   True    0.000000\n",
       "4  2399681    49  2.138116e+11        2  False   20.000000"
      ]
     },
     "execution_count": 12,
     "metadata": {},
     "output_type": "execute_result"
    }
   ],
   "source": [
    "df1.head()"
   ]
  },
  {
   "cell_type": "code",
   "execution_count": 13,
   "id": "ef710480",
   "metadata": {},
   "outputs": [],
   "source": [
    "#dropping the rows which contain scintillator hits\n",
    "df1 = df1[df1['CHAN']!=128]"
   ]
  },
  {
   "cell_type": "code",
   "execution_count": 14,
   "id": "4c646855",
   "metadata": {},
   "outputs": [],
   "source": [
    "#applying the time correction w.r.t. the chamber\n",
    "df1['DIFF_TIME'] = df1['DIFF_TIME']+df1['CHAMBER'].map_partitions(time_shift).persist()"
   ]
  },
  {
   "cell_type": "code",
   "execution_count": 15,
   "id": "62188153",
   "metadata": {},
   "outputs": [],
   "source": [
    "#removing non physical results (we must have a time difference between absolute time and t_0 less then 400 ns, due to cells dimension) \n",
    "df1 = df1[(df1['DIFF_TIME']>0) & (df1['DIFF_TIME']<400)]"
   ]
  },
  {
   "cell_type": "code",
   "execution_count": 16,
   "id": "dd601f98",
   "metadata": {},
   "outputs": [
    {
     "data": {
      "text/html": [
       "<div>\n",
       "<style scoped>\n",
       "    .dataframe tbody tr th:only-of-type {\n",
       "        vertical-align: middle;\n",
       "    }\n",
       "\n",
       "    .dataframe tbody tr th {\n",
       "        vertical-align: top;\n",
       "    }\n",
       "\n",
       "    .dataframe thead th {\n",
       "        text-align: right;\n",
       "    }\n",
       "</style>\n",
       "<table border=\"1\" class=\"dataframe\">\n",
       "  <thead>\n",
       "    <tr style=\"text-align: right;\">\n",
       "      <th></th>\n",
       "      <th>ORBIT</th>\n",
       "      <th>CHAN</th>\n",
       "      <th>ABS_TIME</th>\n",
       "      <th>CHAMBER</th>\n",
       "      <th>VALID</th>\n",
       "      <th>DIFF_TIME</th>\n",
       "    </tr>\n",
       "  </thead>\n",
       "  <tbody>\n",
       "    <tr>\n",
       "      <th>0</th>\n",
       "      <td>2399681</td>\n",
       "      <td>48</td>\n",
       "      <td>2.138116e+11</td>\n",
       "      <td>2</td>\n",
       "      <td>False</td>\n",
       "      <td>53.833344</td>\n",
       "    </tr>\n",
       "    <tr>\n",
       "      <th>1</th>\n",
       "      <td>2399681</td>\n",
       "      <td>122</td>\n",
       "      <td>2.138116e+11</td>\n",
       "      <td>3</td>\n",
       "      <td>False</td>\n",
       "      <td>148.233344</td>\n",
       "    </tr>\n",
       "    <tr>\n",
       "      <th>2</th>\n",
       "      <td>2399681</td>\n",
       "      <td>47</td>\n",
       "      <td>2.138116e+11</td>\n",
       "      <td>2</td>\n",
       "      <td>False</td>\n",
       "      <td>253.000000</td>\n",
       "    </tr>\n",
       "    <tr>\n",
       "      <th>4</th>\n",
       "      <td>2399681</td>\n",
       "      <td>49</td>\n",
       "      <td>2.138116e+11</td>\n",
       "      <td>2</td>\n",
       "      <td>False</td>\n",
       "      <td>115.500000</td>\n",
       "    </tr>\n",
       "    <tr>\n",
       "      <th>5</th>\n",
       "      <td>2399681</td>\n",
       "      <td>120</td>\n",
       "      <td>2.138116e+11</td>\n",
       "      <td>3</td>\n",
       "      <td>False</td>\n",
       "      <td>284.900031</td>\n",
       "    </tr>\n",
       "  </tbody>\n",
       "</table>\n",
       "</div>"
      ],
      "text/plain": [
       "     ORBIT  CHAN      ABS_TIME  CHAMBER  VALID   DIFF_TIME\n",
       "0  2399681    48  2.138116e+11        2  False   53.833344\n",
       "1  2399681   122  2.138116e+11        3  False  148.233344\n",
       "2  2399681    47  2.138116e+11        2  False  253.000000\n",
       "4  2399681    49  2.138116e+11        2  False  115.500000\n",
       "5  2399681   120  2.138116e+11        3  False  284.900031"
      ]
     },
     "execution_count": 16,
     "metadata": {},
     "output_type": "execute_result"
    }
   ],
   "source": [
    "df1.head()"
   ]
  },
  {
   "cell_type": "code",
   "execution_count": 17,
   "id": "8ca54921",
   "metadata": {},
   "outputs": [],
   "source": [
    "#dropping the valid column\n",
    "df1 = df1.drop('VALID', axis=1)\n",
    "#passing from CHAN number to CELL number\n",
    "df1['CELL']=df1['CHAN']%64\n",
    "#getting rid of the CHANNEL column\n",
    "df1 = df1.drop('CHAN', axis=1)"
   ]
  },
  {
   "cell_type": "code",
   "execution_count": 18,
   "id": "ce9f8d65",
   "metadata": {},
   "outputs": [],
   "source": [
    "#making the columns with the two possibile x coordinates for each cell \n",
    "x_r = 0.0538*(df1['DIFF_TIME']) + x_trasl(df1['CELL'])\n",
    "x_l = -0.0538*(df1['DIFF_TIME']) + x_trasl(df1['CELL'])\n",
    "df1['X_L'] = x_l\n",
    "df1['X_R'] = x_r\n",
    "#making the column with the z coordinate for each cell\n",
    "z = df1['CHAMBER'].map_partitions(space_shift) + z_trasl(df1['CELL'])\n",
    "df1['Z'] = z"
   ]
  },
  {
   "cell_type": "code",
   "execution_count": 19,
   "id": "03de7bfc",
   "metadata": {},
   "outputs": [
    {
     "data": {
      "text/html": [
       "<div>\n",
       "<style scoped>\n",
       "    .dataframe tbody tr th:only-of-type {\n",
       "        vertical-align: middle;\n",
       "    }\n",
       "\n",
       "    .dataframe tbody tr th {\n",
       "        vertical-align: top;\n",
       "    }\n",
       "\n",
       "    .dataframe thead th {\n",
       "        text-align: right;\n",
       "    }\n",
       "</style>\n",
       "<table border=\"1\" class=\"dataframe\">\n",
       "  <thead>\n",
       "    <tr style=\"text-align: right;\">\n",
       "      <th></th>\n",
       "      <th>ORBIT</th>\n",
       "      <th>ABS_TIME</th>\n",
       "      <th>CHAMBER</th>\n",
       "      <th>DIFF_TIME</th>\n",
       "      <th>CELL</th>\n",
       "      <th>X_L</th>\n",
       "      <th>X_R</th>\n",
       "      <th>Z</th>\n",
       "    </tr>\n",
       "  </thead>\n",
       "  <tbody>\n",
       "    <tr>\n",
       "      <th>0</th>\n",
       "      <td>2399681</td>\n",
       "      <td>2.138116e+11</td>\n",
       "      <td>2</td>\n",
       "      <td>53.833344</td>\n",
       "      <td>48</td>\n",
       "      <td>522.103766</td>\n",
       "      <td>527.896234</td>\n",
       "      <td>1055.1</td>\n",
       "    </tr>\n",
       "    <tr>\n",
       "      <th>1</th>\n",
       "      <td>2399681</td>\n",
       "      <td>2.138116e+11</td>\n",
       "      <td>3</td>\n",
       "      <td>148.233344</td>\n",
       "      <td>58</td>\n",
       "      <td>622.025046</td>\n",
       "      <td>637.974954</td>\n",
       "      <td>1826.3</td>\n",
       "    </tr>\n",
       "    <tr>\n",
       "      <th>2</th>\n",
       "      <td>2399681</td>\n",
       "      <td>2.138116e+11</td>\n",
       "      <td>2</td>\n",
       "      <td>253.000000</td>\n",
       "      <td>47</td>\n",
       "      <td>490.388600</td>\n",
       "      <td>517.611400</td>\n",
       "      <td>1016.1</td>\n",
       "    </tr>\n",
       "    <tr>\n",
       "      <th>4</th>\n",
       "      <td>2399681</td>\n",
       "      <td>2.138116e+11</td>\n",
       "      <td>2</td>\n",
       "      <td>115.500000</td>\n",
       "      <td>49</td>\n",
       "      <td>518.786100</td>\n",
       "      <td>531.213900</td>\n",
       "      <td>1029.1</td>\n",
       "    </tr>\n",
       "    <tr>\n",
       "      <th>5</th>\n",
       "      <td>2399681</td>\n",
       "      <td>2.138116e+11</td>\n",
       "      <td>3</td>\n",
       "      <td>284.900031</td>\n",
       "      <td>56</td>\n",
       "      <td>593.672378</td>\n",
       "      <td>624.327622</td>\n",
       "      <td>1839.3</td>\n",
       "    </tr>\n",
       "  </tbody>\n",
       "</table>\n",
       "</div>"
      ],
      "text/plain": [
       "     ORBIT      ABS_TIME  CHAMBER   DIFF_TIME  CELL         X_L         X_R  \\\n",
       "0  2399681  2.138116e+11        2   53.833344    48  522.103766  527.896234   \n",
       "1  2399681  2.138116e+11        3  148.233344    58  622.025046  637.974954   \n",
       "2  2399681  2.138116e+11        2  253.000000    47  490.388600  517.611400   \n",
       "4  2399681  2.138116e+11        2  115.500000    49  518.786100  531.213900   \n",
       "5  2399681  2.138116e+11        3  284.900031    56  593.672378  624.327622   \n",
       "\n",
       "        Z  \n",
       "0  1055.1  \n",
       "1  1826.3  \n",
       "2  1016.1  \n",
       "4  1029.1  \n",
       "5  1839.3  "
      ]
     },
     "execution_count": 19,
     "metadata": {},
     "output_type": "execute_result"
    }
   ],
   "source": [
    "df1.head()"
   ]
  },
  {
   "cell_type": "markdown",
   "id": "a104dfcc",
   "metadata": {},
   "source": [
    "# 3 Linear fit and resolution\n",
    "\n",
    "The linear fit is the method we use to find the trajectory of muons. We assume that muons travel through the detectors without curving their trajectory during this path and move on a straight line. At this point of the code we did not solve the L/R ambiguity yet, so we cannot just operate a single linear fit. Hence, The choice that we make is to investigate all the possible path combinations (LLLL, LLLR, LLRL,..., RRRR) and take as the most probable combination of left/right positions the one with the best score provided by a $\\chi^2$ test."
   ]
  },
  {
   "cell_type": "markdown",
   "id": "efecb851",
   "metadata": {},
   "source": [
    "## 3.1 Resolving L/R ambiguity\n",
    "\n",
    "Since the detectors aren't able to recognise if a hit has been measured on the left or on the right of the cell (they only register the distance from the center of the cell), we define the following function that operates the fit and returns the optimal (lowest $\\chi^2$) L/R pattern. We apply this function on a Dataframe grouped by orbit and chamber: as a result, three possible scenarios arise:\n",
    "- In a given orbit, the chamber registers two or less hits: in this case the data are unsufficient to solve the L/R ambiguity (two simmetric, perfect regressions arise and there is no way to choose among them), and the fit is not performed;\n",
    "- In a given orbit, the chamber registers three or four hits: this is the optimal case, since it means that 3/4 or 4/4 of the four layers in the chamber have registered and event. The fit is hence regularly performed;\n",
    "- In a given orbit, the chamber registers more than four hits: this means that there are some extra counts due to potential noise or multiple events. Since this will unavoidably affect our performances and there is no way for us to distinguish between signal and non-signal clicks, we do not perform the fit.\n",
    "\n",
    "At the end of this code section, the Dataframe is reduced so that each rows contains some index variables and the correct $x$ and $z$ positions, in our absolute frame of reference."
   ]
  },
  {
   "cell_type": "code",
   "execution_count": 20,
   "id": "63b81c30",
   "metadata": {},
   "outputs": [],
   "source": [
    "#function for the local fit that will be performed on each chamber\n",
    "def ambiguity_solve(DF):\n",
    "    fit_params = []\n",
    "    #reading inputs\n",
    "    x_l = np.array(DF.X_L)\n",
    "    x_r = np.array(DF.X_R)\n",
    "    z = np.array(DF.Z)\n",
    "    scoremax = 100\n",
    "    best_x = []\n",
    "    #case of four hits on a chamber\n",
    "    if len(x_l)==4 :\n",
    "        x_0 = (x_l[0], x_r[0])\n",
    "        x_1 = (x_l[1], x_r[1])\n",
    "        x_2 = (x_l[2], x_r[2])\n",
    "        x_3 = (x_l[3], x_r[3])\n",
    "        #computing all the possible left-right combinations\n",
    "        X = np.array(list(product(x_0, x_1, x_2, x_3)))\n",
    "        #fitting with a line and finding which combination gives the minimum chi-square\n",
    "        fitted = np.apply_along_axis(lambda x : fit(x,z), 1, X) #Returns coeffs ([:,0]) and scores ([:,1])\n",
    "        best_x = X[np.argmin(fitted[:,1])]\n",
    "        DF = DF.assign(best_X = np.array(best_x))\n",
    "        return DF\n",
    "    #case of three hits on a chamber, same as above\n",
    "    if len(x_l)==3 :\n",
    "        x_0 = (x_l[0], x_r[0])\n",
    "        x_1 = (x_l[1], x_r[1])\n",
    "        x_2 = (x_l[2], x_r[2])\n",
    "        X = np.array(list(product(x_0, x_1, x_2)))\n",
    "        fitted = np.apply_along_axis(lambda x : fit(x,z), 1, X) #Returns coeffs ([:,0]) and scores ([:,1])\n",
    "        best_x = X[np.argmin(fitted[:,1])]\n",
    "        DF = DF.assign(best_X = np.array(best_x))\n",
    "        return DF\n",
    "    else: pass\n",
    "\n",
    "#function to compute the chi square    \n",
    "def chi_squared(x,y,coef):\n",
    "    calc = coef[0]+coef[1]*x\n",
    "    chi2 = ((y-calc)**2)/y\n",
    "    return sum(chi2)/(len(y)-2)\n",
    "\n",
    "def fit(x,z):\n",
    "    coef = P.polyfit(x,z,1)\n",
    "    score = chi_squared(x,z,coef)\n",
    "    return coef, score"
   ]
  },
  {
   "cell_type": "code",
   "execution_count": 21,
   "id": "0a42b8b1",
   "metadata": {},
   "outputs": [],
   "source": [
    "#setting the format for the output dataframe\n",
    "data_types = {'ORBIT':'uint32','ABS_TIME':'float64', 'CHAMBER':'uint8','DIFF_TIME':'float64','CELL':'uint16',\n",
    "               'X_L':'float64', 'X_R':'float64', 'Z':'float64', 'best_X':'float64'}\n",
    "\n",
    "#performing the local fit on each chamber, for each orbit\n",
    "dfk = df1.groupby(['ORBIT','CHAMBER']).apply(ambiguity_solve, meta=data_types).reset_index(drop=True).persist()"
   ]
  },
  {
   "cell_type": "code",
   "execution_count": 22,
   "id": "3be0a8f0",
   "metadata": {},
   "outputs": [],
   "source": [
    "#dropping columns we do not need anymore\n",
    "dfk = dfk.drop('X_L', axis=1)\n",
    "dfk = dfk.drop('X_R', axis=1)\n",
    "dfk = dfk.drop('ABS_TIME', axis=1)"
   ]
  },
  {
   "cell_type": "code",
   "execution_count": 23,
   "id": "497ffa44",
   "metadata": {},
   "outputs": [
    {
     "data": {
      "text/html": [
       "<div>\n",
       "<style scoped>\n",
       "    .dataframe tbody tr th:only-of-type {\n",
       "        vertical-align: middle;\n",
       "    }\n",
       "\n",
       "    .dataframe tbody tr th {\n",
       "        vertical-align: top;\n",
       "    }\n",
       "\n",
       "    .dataframe thead th {\n",
       "        text-align: right;\n",
       "    }\n",
       "</style>\n",
       "<table border=\"1\" class=\"dataframe\">\n",
       "  <thead>\n",
       "    <tr style=\"text-align: right;\">\n",
       "      <th></th>\n",
       "      <th>ORBIT</th>\n",
       "      <th>CHAMBER</th>\n",
       "      <th>DIFF_TIME</th>\n",
       "      <th>CELL</th>\n",
       "      <th>Z</th>\n",
       "      <th>best_X</th>\n",
       "    </tr>\n",
       "  </thead>\n",
       "  <tbody>\n",
       "    <tr>\n",
       "      <th>0</th>\n",
       "      <td>1135298</td>\n",
       "      <td>2</td>\n",
       "      <td>20.500000</td>\n",
       "      <td>47</td>\n",
       "      <td>1016.1</td>\n",
       "      <td>502.897100</td>\n",
       "    </tr>\n",
       "    <tr>\n",
       "      <th>1</th>\n",
       "      <td>1135298</td>\n",
       "      <td>2</td>\n",
       "      <td>154.666656</td>\n",
       "      <td>46</td>\n",
       "      <td>1042.1</td>\n",
       "      <td>512.321066</td>\n",
       "    </tr>\n",
       "    <tr>\n",
       "      <th>2</th>\n",
       "      <td>1135298</td>\n",
       "      <td>2</td>\n",
       "      <td>167.999985</td>\n",
       "      <td>48</td>\n",
       "      <td>1055.1</td>\n",
       "      <td>515.961601</td>\n",
       "    </tr>\n",
       "    <tr>\n",
       "      <th>3</th>\n",
       "      <td>1135298</td>\n",
       "      <td>2</td>\n",
       "      <td>321.333328</td>\n",
       "      <td>49</td>\n",
       "      <td>1029.1</td>\n",
       "      <td>507.712267</td>\n",
       "    </tr>\n",
       "    <tr>\n",
       "      <th>4</th>\n",
       "      <td>1206251</td>\n",
       "      <td>3</td>\n",
       "      <td>89.066672</td>\n",
       "      <td>60</td>\n",
       "      <td>1839.3</td>\n",
       "      <td>646.208213</td>\n",
       "    </tr>\n",
       "  </tbody>\n",
       "</table>\n",
       "</div>"
      ],
      "text/plain": [
       "     ORBIT  CHAMBER   DIFF_TIME  CELL       Z      best_X\n",
       "0  1135298        2   20.500000    47  1016.1  502.897100\n",
       "1  1135298        2  154.666656    46  1042.1  512.321066\n",
       "2  1135298        2  167.999985    48  1055.1  515.961601\n",
       "3  1135298        2  321.333328    49  1029.1  507.712267\n",
       "4  1206251        3   89.066672    60  1839.3  646.208213"
      ]
     },
     "execution_count": 23,
     "metadata": {},
     "output_type": "execute_result"
    }
   ],
   "source": [
    "dfk.head()"
   ]
  },
  {
   "cell_type": "markdown",
   "id": "fd039a3b",
   "metadata": {},
   "source": [
    "## 3.2 Estimation of the angular resolution\n",
    "\n",
    "Using two different kind of fits for every orbit and comparing the two angular coefficient it is possible to estimate the angular resolution. In particular, we focus on the local fit performed on the chamber number 2 (middle one) and a global fit within the entire apparatus (chambers 1,2 and 4). There colud be potential issues in the case in which there are not enough hits in the second chamber: in this cases we just discard the orbit and we don't use it to perform the estimation (eventually, this is the case of not enough \"vertical\" muons that fail to cross properly the entire apparatus)."
   ]
  },
  {
   "cell_type": "markdown",
   "id": "0101c4af",
   "metadata": {},
   "source": [
    "### 3.2.1 Local Fit\n",
    "\n",
    "To go through the local fit operation we have to extract from the dataset only the hits in the second chamber and then fit them."
   ]
  },
  {
   "cell_type": "code",
   "execution_count": 24,
   "id": "fbe4927f",
   "metadata": {},
   "outputs": [],
   "source": [
    "#function to find the trajectories after resolving the left-right ambiguity\n",
    "def fit_func(df):\n",
    "    x = np.array(df.best_X)\n",
    "    y = np.array(df.Z)\n",
    "    coef = P.polyfit(x,y,1)\n",
    "    return coef    "
   ]
  },
  {
   "cell_type": "code",
   "execution_count": 25,
   "id": "7ecc955d",
   "metadata": {},
   "outputs": [],
   "source": [
    "def LocalFit(df):\n",
    "    x = np.array(df.best_X)\n",
    "    y = np.array(df.Z)\n",
    "    coef = P.polyfit(x,y,1)\n",
    "    d = {'a_local':[float(coef[1])],'b_local':[float(coef[0])]}\n",
    "    return pd.DataFrame(data = d)"
   ]
  },
  {
   "cell_type": "code",
   "execution_count": 26,
   "id": "08a3ce4f",
   "metadata": {},
   "outputs": [],
   "source": [
    "#we compute the so-called \"Local track\" using only the hits from Chamber 2\n",
    "df_ch2 = dfk[dfk[\"CHAMBER\"]==2]\n",
    "fit = df_ch2.groupby('ORBIT').apply(LocalFit,meta={'a_local':'float','b_local':'float'})                                                                                         "
   ]
  },
  {
   "cell_type": "code",
   "execution_count": 27,
   "id": "eeb08114",
   "metadata": {},
   "outputs": [
    {
     "data": {
      "text/html": [
       "<div>\n",
       "<style scoped>\n",
       "    .dataframe tbody tr th:only-of-type {\n",
       "        vertical-align: middle;\n",
       "    }\n",
       "\n",
       "    .dataframe tbody tr th {\n",
       "        vertical-align: top;\n",
       "    }\n",
       "\n",
       "    .dataframe thead th {\n",
       "        text-align: right;\n",
       "    }\n",
       "</style>\n",
       "<table border=\"1\" class=\"dataframe\">\n",
       "  <thead>\n",
       "    <tr style=\"text-align: right;\">\n",
       "      <th></th>\n",
       "      <th></th>\n",
       "      <th>a_local</th>\n",
       "      <th>b_local</th>\n",
       "    </tr>\n",
       "    <tr>\n",
       "      <th>ORBIT</th>\n",
       "      <th></th>\n",
       "      <th></th>\n",
       "      <th></th>\n",
       "    </tr>\n",
       "  </thead>\n",
       "  <tbody>\n",
       "    <tr>\n",
       "      <th>2399681</th>\n",
       "      <th>0</th>\n",
       "      <td>8.155917</td>\n",
       "      <td>-3204.406635</td>\n",
       "    </tr>\n",
       "    <tr>\n",
       "      <th>2698072</th>\n",
       "      <th>0</th>\n",
       "      <td>-3.529065</td>\n",
       "      <td>2651.487662</td>\n",
       "    </tr>\n",
       "    <tr>\n",
       "      <th>5046279</th>\n",
       "      <th>0</th>\n",
       "      <td>-0.899929</td>\n",
       "      <td>1479.573974</td>\n",
       "    </tr>\n",
       "    <tr>\n",
       "      <th>5226862</th>\n",
       "      <th>0</th>\n",
       "      <td>10.281819</td>\n",
       "      <td>-4273.065088</td>\n",
       "    </tr>\n",
       "    <tr>\n",
       "      <th>5722385</th>\n",
       "      <th>0</th>\n",
       "      <td>0.907694</td>\n",
       "      <td>606.856907</td>\n",
       "    </tr>\n",
       "  </tbody>\n",
       "</table>\n",
       "</div>"
      ],
      "text/plain": [
       "             a_local      b_local\n",
       "ORBIT                            \n",
       "2399681 0   8.155917 -3204.406635\n",
       "2698072 0  -3.529065  2651.487662\n",
       "5046279 0  -0.899929  1479.573974\n",
       "5226862 0  10.281819 -4273.065088\n",
       "5722385 0   0.907694   606.856907"
      ]
     },
     "execution_count": 27,
     "metadata": {},
     "output_type": "execute_result"
    }
   ],
   "source": [
    "fit.head()"
   ]
  },
  {
   "cell_type": "markdown",
   "id": "bb9fb9fe",
   "metadata": {},
   "source": [
    "### 3.2.2 Global fit\n",
    "Using the same approach as before, we perform a linear regression on all the hits in a given orbit, belonging to chambers 0,2,3 (the aligned ones)."
   ]
  },
  {
   "cell_type": "code",
   "execution_count": 28,
   "id": "f7b88c8f",
   "metadata": {},
   "outputs": [],
   "source": [
    "#to performe the global fit we exclude Chamber 1\n",
    "dfk2 = dfk[dfk['CHAMBER']!=1]\n",
    "#fitting and storing the results for both local and global fit in the same dataframe\n",
    "fit_global = dfk2.groupby('ORBIT').apply(LocalFit,meta={'a_local':'float','b_local':'float'})\n",
    "fit[\"a_global\"] = fit_global['a_local']\n",
    "fit['b_global'] = fit_global['b_local']\n",
    "fit = fit.persist()"
   ]
  },
  {
   "cell_type": "code",
   "execution_count": 29,
   "id": "a3e890dc",
   "metadata": {},
   "outputs": [
    {
     "data": {
      "text/html": [
       "<div>\n",
       "<style scoped>\n",
       "    .dataframe tbody tr th:only-of-type {\n",
       "        vertical-align: middle;\n",
       "    }\n",
       "\n",
       "    .dataframe tbody tr th {\n",
       "        vertical-align: top;\n",
       "    }\n",
       "\n",
       "    .dataframe thead th {\n",
       "        text-align: right;\n",
       "    }\n",
       "</style>\n",
       "<table border=\"1\" class=\"dataframe\">\n",
       "  <thead>\n",
       "    <tr style=\"text-align: right;\">\n",
       "      <th></th>\n",
       "      <th></th>\n",
       "      <th>a_local</th>\n",
       "      <th>b_local</th>\n",
       "      <th>a_global</th>\n",
       "      <th>b_global</th>\n",
       "    </tr>\n",
       "    <tr>\n",
       "      <th>ORBIT</th>\n",
       "      <th></th>\n",
       "      <th></th>\n",
       "      <th></th>\n",
       "      <th></th>\n",
       "      <th></th>\n",
       "    </tr>\n",
       "  </thead>\n",
       "  <tbody>\n",
       "    <tr>\n",
       "      <th>2399681</th>\n",
       "      <th>0</th>\n",
       "      <td>8.155917</td>\n",
       "      <td>-3204.406635</td>\n",
       "      <td>7.723254</td>\n",
       "      <td>-2979.468932</td>\n",
       "    </tr>\n",
       "    <tr>\n",
       "      <th>2698072</th>\n",
       "      <th>0</th>\n",
       "      <td>-3.529065</td>\n",
       "      <td>2651.487662</td>\n",
       "      <td>-3.186001</td>\n",
       "      <td>2494.436034</td>\n",
       "    </tr>\n",
       "    <tr>\n",
       "      <th>5046279</th>\n",
       "      <th>0</th>\n",
       "      <td>-0.899929</td>\n",
       "      <td>1479.573974</td>\n",
       "      <td>-12.268533</td>\n",
       "      <td>7132.477256</td>\n",
       "    </tr>\n",
       "    <tr>\n",
       "      <th>5226862</th>\n",
       "      <th>0</th>\n",
       "      <td>10.281819</td>\n",
       "      <td>-4273.065088</td>\n",
       "      <td>8.430385</td>\n",
       "      <td>-3317.186179</td>\n",
       "    </tr>\n",
       "    <tr>\n",
       "      <th>5722385</th>\n",
       "      <th>0</th>\n",
       "      <td>0.907694</td>\n",
       "      <td>606.856907</td>\n",
       "      <td>0.728224</td>\n",
       "      <td>283.654810</td>\n",
       "    </tr>\n",
       "  </tbody>\n",
       "</table>\n",
       "</div>"
      ],
      "text/plain": [
       "             a_local      b_local   a_global     b_global\n",
       "ORBIT                                                    \n",
       "2399681 0   8.155917 -3204.406635   7.723254 -2979.468932\n",
       "2698072 0  -3.529065  2651.487662  -3.186001  2494.436034\n",
       "5046279 0  -0.899929  1479.573974 -12.268533  7132.477256\n",
       "5226862 0  10.281819 -4273.065088   8.430385 -3317.186179\n",
       "5722385 0   0.907694   606.856907   0.728224   283.654810"
      ]
     },
     "execution_count": 29,
     "metadata": {},
     "output_type": "execute_result"
    }
   ],
   "source": [
    "fit.head()"
   ]
  },
  {
   "cell_type": "markdown",
   "id": "15d620f2",
   "metadata": {},
   "source": [
    "### 3.2.3 Angular resolution \n",
    "An estimate of the angular resolution of the detector can be found as the difference between the angle found by the local and the global fit, which can be obtained from the slope of the linear regressions (taking care of periodicity and relative sign).\n",
    "\n",
    "Finally, we plot the the distribution of the angular difference between the plot to visualize the detectors resolution."
   ]
  },
  {
   "cell_type": "code",
   "execution_count": 30,
   "id": "12a028a6",
   "metadata": {},
   "outputs": [],
   "source": [
    "fit['angles_diff'] = (np.heaviside(np.arctan(fit.a_local)-np.arctan(fit.a_global),0)*(np.arctan(fit.a_local)-np.arctan(fit.a_global)))%(np.pi/2)-(np.heaviside(-np.arctan(fit.a_local)+np.arctan(fit.a_global),0)*(-np.arctan(fit.a_local)+np.arctan(fit.a_global))%(np.pi/2))"
   ]
  },
  {
   "cell_type": "code",
   "execution_count": 31,
   "id": "8e2cc7d4",
   "metadata": {},
   "outputs": [
    {
     "data": {
      "text/html": [
       "<div>\n",
       "<style scoped>\n",
       "    .dataframe tbody tr th:only-of-type {\n",
       "        vertical-align: middle;\n",
       "    }\n",
       "\n",
       "    .dataframe tbody tr th {\n",
       "        vertical-align: top;\n",
       "    }\n",
       "\n",
       "    .dataframe thead th {\n",
       "        text-align: right;\n",
       "    }\n",
       "</style>\n",
       "<table border=\"1\" class=\"dataframe\">\n",
       "  <thead>\n",
       "    <tr style=\"text-align: right;\">\n",
       "      <th></th>\n",
       "      <th></th>\n",
       "      <th>a_local</th>\n",
       "      <th>b_local</th>\n",
       "      <th>a_global</th>\n",
       "      <th>b_global</th>\n",
       "      <th>angles_diff</th>\n",
       "    </tr>\n",
       "    <tr>\n",
       "      <th>ORBIT</th>\n",
       "      <th></th>\n",
       "      <th></th>\n",
       "      <th></th>\n",
       "      <th></th>\n",
       "      <th></th>\n",
       "      <th></th>\n",
       "    </tr>\n",
       "  </thead>\n",
       "  <tbody>\n",
       "    <tr>\n",
       "      <th>2399681</th>\n",
       "      <th>0</th>\n",
       "      <td>8.155917</td>\n",
       "      <td>-3204.406635</td>\n",
       "      <td>7.723254</td>\n",
       "      <td>-2979.468932</td>\n",
       "      <td>0.006761</td>\n",
       "    </tr>\n",
       "    <tr>\n",
       "      <th>2698072</th>\n",
       "      <th>0</th>\n",
       "      <td>-3.529065</td>\n",
       "      <td>2651.487662</td>\n",
       "      <td>-3.186001</td>\n",
       "      <td>2494.436034</td>\n",
       "      <td>-0.028013</td>\n",
       "    </tr>\n",
       "    <tr>\n",
       "      <th>5046279</th>\n",
       "      <th>0</th>\n",
       "      <td>-0.899929</td>\n",
       "      <td>1479.573974</td>\n",
       "      <td>-12.268533</td>\n",
       "      <td>7132.477256</td>\n",
       "      <td>0.756691</td>\n",
       "    </tr>\n",
       "    <tr>\n",
       "      <th>5226862</th>\n",
       "      <th>0</th>\n",
       "      <td>10.281819</td>\n",
       "      <td>-4273.065088</td>\n",
       "      <td>8.430385</td>\n",
       "      <td>-3317.186179</td>\n",
       "      <td>0.021113</td>\n",
       "    </tr>\n",
       "    <tr>\n",
       "      <th>5722385</th>\n",
       "      <th>0</th>\n",
       "      <td>0.907694</td>\n",
       "      <td>606.856907</td>\n",
       "      <td>0.728224</td>\n",
       "      <td>283.654810</td>\n",
       "      <td>0.107631</td>\n",
       "    </tr>\n",
       "  </tbody>\n",
       "</table>\n",
       "</div>"
      ],
      "text/plain": [
       "             a_local      b_local   a_global     b_global  angles_diff\n",
       "ORBIT                                                                 \n",
       "2399681 0   8.155917 -3204.406635   7.723254 -2979.468932     0.006761\n",
       "2698072 0  -3.529065  2651.487662  -3.186001  2494.436034    -0.028013\n",
       "5046279 0  -0.899929  1479.573974 -12.268533  7132.477256     0.756691\n",
       "5226862 0  10.281819 -4273.065088   8.430385 -3317.186179     0.021113\n",
       "5722385 0   0.907694   606.856907   0.728224   283.654810     0.107631"
      ]
     },
     "execution_count": 31,
     "metadata": {},
     "output_type": "execute_result"
    }
   ],
   "source": [
    "fit.head()"
   ]
  },
  {
   "cell_type": "code",
   "execution_count": 32,
   "id": "ce03ce15",
   "metadata": {},
   "outputs": [],
   "source": [
    "# Take the comlumn corresponding to the anguar difference between local and global fit\n",
    "computed_angles = fit.angles_diff.compute()\n",
    "# Get rid of the coincident ones \n",
    "computed_angles = computed_angles[computed_angles!=0]\n",
    "# Conversion from randiants to milliradiants\n",
    "computed_angles= computed_angles*1000"
   ]
  },
  {
   "cell_type": "code",
   "execution_count": 33,
   "id": "db4331a8",
   "metadata": {},
   "outputs": [
    {
     "data": {
      "image/png": "[encoded data removed]",
      "text/plain": [
       "<Figure size 720x720 with 1 Axes>"
      ]
     },
     "metadata": {
      "needs_background": "light"
     },
     "output_type": "display_data"
    }
   ],
   "source": [
    "fig, ax = plt.subplots(figsize=(10,10))\n",
    "computed_angles.hist(density=False,ax=ax,bins=101)\n",
    "plt.show()"
   ]
  },
  {
   "cell_type": "markdown",
   "id": "e418d303",
   "metadata": {},
   "source": [
    "The above plot depicts a main peak and some background noise. The overall spead of the central peak is about 60 mrad (stddev) while the mean value is close to 0 within one milliradiant. "
   ]
  },
  {
   "cell_type": "markdown",
   "id": "7f9266ef",
   "metadata": {},
   "source": [
    "# 4 Visualization \n",
    "\n",
    "Here we present the code which allows us to visualize events on the whole apparatus and plot some example events."
   ]
  },
  {
   "cell_type": "code",
   "execution_count": 34,
   "id": "3cde6efc",
   "metadata": {},
   "outputs": [],
   "source": [
    "#function to visualize an event\n",
    "def global_plot(DF_point, DF_fit, orbit):\n",
    "    x_sample = DF_point[DF_point['ORBIT']==orbit].best_X.compute()\n",
    "    y_sample = DF_point[DF_point['ORBIT']==orbit].Z.compute()\n",
    "    fig,ax = plt.subplots(figsize=(16,10))\n",
    "    ax.set_xlim((0,703))\n",
    "    ax.set_ylim((190,2000))\n",
    "    x_start = 26\n",
    "    y_start = 4\n",
    "    frame_shift=[219.8,1035.6,1819.8]\n",
    "    xr = np.linspace(0,800,800)\n",
    "    yr = float(DF_fit.loc[orbit].a_global.compute())*xr + float(DF_fit.loc[orbit].b_global.compute())\n",
    "    yr_loc = float(DF_fit.loc[orbit].a_local.compute())*xr + float(DF_fit.loc[orbit].b_local.compute())\n",
    "    for k in frame_shift:\n",
    "        for i in range(4):\n",
    "            for j in range (16):\n",
    "                x = x_start+42*j-(21*(i%2))\n",
    "                y = k + y_start+13*i-26\n",
    "                ax.add_patch(Rectangle((x, y), 42, 13,\n",
    "                         edgecolor = 'grey',\n",
    "                         facecolor = 'blue',\n",
    "                         fill=False,\n",
    "                         lw=1))\n",
    "                plt.plot(xr,yr,color='tab:blue',lw=0.8) #global track\n",
    "                plt.plot(xr,yr_loc,color='tab:red',lw=0.8) #local track\n",
    "                plt.scatter(x_sample,y_sample,color='tab:orange') #hits\n",
    "          \n",
    "\n",
    "\n",
    "\n",
    "    plt.axis('off')\n",
    "    plt.show()"
   ]
  },
  {
   "cell_type": "code",
   "execution_count": 35,
   "id": "ebd2029c",
   "metadata": {},
   "outputs": [
    {
     "data": {
      "image/png": "[encoded data removed]",
      "text/plain": [
       "<Figure size 1152x720 with 1 Axes>"
      ]
     },
     "metadata": {
      "needs_background": "light"
     },
     "output_type": "display_data"
    }
   ],
   "source": [
    "global_plot(dfk2, fit, 384402297)"
   ]
  },
  {
   "cell_type": "markdown",
   "id": "35b813f7",
   "metadata": {},
   "source": [
    "Here is an event for which the global and local fit are perfectly aligned, even though the L/R ambiguity in the last chamber looks solved suboptimally."
   ]
  },
  {
   "cell_type": "code",
   "execution_count": 36,
   "id": "ac717a40",
   "metadata": {},
   "outputs": [
    {
     "data": {
      "image/png": "[encoded data removed]",
      "text/plain": [
       "<Figure size 1152x720 with 1 Axes>"
      ]
     },
     "metadata": {
      "needs_background": "light"
     },
     "output_type": "display_data"
    }
   ],
   "source": [
    "global_plot(dfk2, fit, 44505976)"
   ]
  },
  {
   "cell_type": "markdown",
   "id": "cbedd814",
   "metadata": {},
   "source": [
    "Above, the case for two close tracks. Here we notice how the diagonal trajectory of the muon fails to intercept all three chambers."
   ]
  },
  {
   "cell_type": "code",
   "execution_count": 37,
   "id": "bbc36071",
   "metadata": {},
   "outputs": [
    {
     "data": {
      "image/png": "[encoded data removed]",
      "text/plain": [
       "<Figure size 1152x720 with 1 Axes>"
      ]
     },
     "metadata": {
      "needs_background": "light"
     },
     "output_type": "display_data"
    }
   ],
   "source": [
    "global_plot(dfk2,fit,97806014)"
   ]
  },
  {
   "cell_type": "markdown",
   "id": "69b59741",
   "metadata": {},
   "source": [
    "Finally, the plot above shows a perfectly reconstracted trajectory with absolute compatibility between local and global fits."
   ]
  },
  {
   "cell_type": "code",
   "execution_count": 38,
   "id": "04eede87",
   "metadata": {},
   "outputs": [
    {
     "name": "stdout",
     "output_type": "stream",
     "text": [
      "---571.5563061237335 seconds ---\n"
     ]
    }
   ],
   "source": [
    "print(\"---%s seconds ---\"%(time.time()-start_time))"
   ]
  },
  {
   "cell_type": "markdown",
   "id": "b4a88428",
   "metadata": {},
   "source": [
    "# 5 Track reconstruction issues \n",
    "In the case below, a clear difference appears between the two fits: the reason is likely to be a non-optimal analysis rather than a limited detector efficiency. In particular, we believe the algorithm fails to recognize the correct L/R pattern in the central cell (maybe due to the limited power of a simple $\\chi^2$ test)."
   ]
  },
  {
   "cell_type": "code",
   "execution_count": 39,
   "id": "50da1dfb",
   "metadata": {},
   "outputs": [
    {
     "data": {
      "image/png": "[encoded data removed]",
      "text/plain": [
       "<Figure size 1152x720 with 1 Axes>"
      ]
     },
     "metadata": {
      "needs_background": "light"
     },
     "output_type": "display_data"
    }
   ],
   "source": [
    "global_plot(dfk2, fit, 138714055)"
   ]
  },
  {
   "cell_type": "markdown",
   "id": "df15bfaf",
   "metadata": {},
   "source": [
    "# 6 Computational time optimization\n",
    "\n",
    "A fundamental tool in our algorithm is the \"persist()\" function, given by dask. It allows us to keep our data in memory and by doing so we speed up our algorithm. To save some time the study about the persist has been permormed with just 18 files. By using appropriately the function we passed from 23 minutes needed to run the whole algorithm to just 135 seconds. \n",
    "Once we found the right configuration we proceed to analyze the whole dataset."
   ]
  },
  {
   "cell_type": "markdown",
   "id": "5a7c28e9",
   "metadata": {},
   "source": [
    "# 7 Issues faced\n",
    "\n",
    "The algorithm presented in this notebook has been produced after several trials. The number of file quoted in the previous paragraph is not random. In a previous version of our code we implemented different instructions to filter our dataset and, in that configuration, we could only process 18 files. We talk about this because in that configuration (shown in the bottom of this notebook) the computational time of the whole algorithm was about 90 seconds. \n",
    "\n",
    "However, we have seen that a function essential to our code, namely \"value_counts()\" saturated the memory we had, even when we doubled our resources. It was quite strange, because the entire dataset can be held by just one processor. By calling the quoted function, several process occured, as we could seen from the dask dashboard. We were not able to solve this problem, so we need to change our code to the one presented above. \n",
    "\n",
    "In the present configuration the algorithm works, but we cannot state that the problem is entirly solved. Even if we can process the whole dataset, by looking at the dashboard we can still see that the memory of our workes is filled up to 17 Gb, while the total weight of the dataset is few Mb. \n",
    "\n",
    "Thus, we think that a better way to solve the problem can be achived, but it is beyond our capabilities. "
   ]
  }
 ],
 "metadata": {
  "kernelspec": {
   "display_name": "Python 3",
   "language": "python",
   "name": "python3"
  },
  "language_info": {
   "codemirror_mode": {
    "name": "ipython",
    "version": 3
   },
   "file_extension": ".py",
   "mimetype": "text/x-python",
   "name": "python",
   "nbconvert_exporter": "python",
   "pygments_lexer": "ipython3",
   "version": "3.9.1"
  }
 },
 "nbformat": 4,
 "nbformat_minor": 5
}

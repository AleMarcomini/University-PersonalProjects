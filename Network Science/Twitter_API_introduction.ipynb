{
  "nbformat": 4,
  "nbformat_minor": 0,
  "metadata": {
    "kernelspec": {
      "name": "python3",
      "display_name": "Python 3"
    },
    "colab": {
      "name": "Tweet_API.ipynb",
      "provenance": [],
      "collapsed_sections": []
    }
  },
  "cells": [
    {
      "cell_type": "markdown",
      "metadata": {
        "id": "v4bkwQoHr9i3"
      },
      "source": [
        "# Laboratory 1: setting up Twitter API"
      ]
    },
    {
      "cell_type": "markdown",
      "metadata": {
        "id": "21NaYdhRr9i7"
      },
      "source": [
        "## Set up"
      ]
    },
    {
      "cell_type": "code",
      "metadata": {
        "id": "gNFOaZPIxyS2"
      },
      "source": [
        "import os\n",
        "# Insert your own token (confidential)\n",
        "os.environ['TOKEN'] = 'AAAAAAAAAAAAAAAAAAAAALCiVQEAAAAALuYzm3TyinTDga%2B9R1KtxnEo5m8%3DmbwihHZTC4ZPKA1EBzMsKraMGOK6d65GThSfvtmwlQMJBXbH4w'"
      ],
      "execution_count": 4,
      "outputs": []
    },
    {
      "cell_type": "markdown",
      "metadata": {
        "id": "Nwy6MeGur9i-"
      },
      "source": [
        "### Import libraries"
      ]
    },
    {
      "cell_type": "code",
      "metadata": {
        "id": "8ge5EaEur9jA"
      },
      "source": [
        "import requests \n",
        "import pandas as pd \n",
        "import time"
      ],
      "execution_count": 5,
      "outputs": []
    },
    {
      "cell_type": "markdown",
      "metadata": {
        "id": "IYIP9Ta4r9jR"
      },
      "source": [
        "### Set up headers"
      ]
    },
    {
      "cell_type": "code",
      "metadata": {
        "id": "pKWoILn7AMzj"
      },
      "source": [
        "def create_headers(bearer_token):\n",
        "    headers = {\"Authorization\": \"Bearer {}\".format(bearer_token)}\n",
        "    return headers"
      ],
      "execution_count": 6,
      "outputs": []
    },
    {
      "cell_type": "code",
      "metadata": {
        "id": "W_buwaoAyPLM"
      },
      "source": [
        "headers = create_headers(os.environ['TOKEN'])"
      ],
      "execution_count": 7,
      "outputs": []
    },
    {
      "cell_type": "markdown",
      "metadata": {
        "id": "Q8Pb9MXWr9jd"
      },
      "source": [
        "## Download data"
      ]
    },
    {
      "cell_type": "code",
      "metadata": {
        "id": "90Ukr82M_N39"
      },
      "source": [
        "def create_url(keyword, start_date, end_date):\n",
        "    \n",
        "    search_url = \"https://api.twitter.com/1.1/tweets/search/fullarchive/FirstTrial.json\" #Change to the endpoint you want to collect data from\n",
        "\n",
        "    #change params based on the endpoint you are using\n",
        "    query_params = {'query': keyword, 'fromDate': start_date, 'toDate': end_date}\n",
        "    return (search_url, query_params)"
      ],
      "execution_count": 10,
      "outputs": []
    },
    {
      "cell_type": "code",
      "metadata": {
        "id": "AJD9pEHwAk84"
      },
      "source": [
        "def connect_to_endpoint(url, headers, params, next_token = None):\n",
        "    if next_token is not None and next_token != '':\n",
        "      params['next'] = next_token\n",
        "    response = requests.request(\"GET\", url, headers = headers, params = params)\n",
        "    if response.status_code != 200:\n",
        "        raise Exception(response.status_code, response.text)\n",
        "    return response.json()"
      ],
      "execution_count": 9,
      "outputs": []
    },
    {
      "cell_type": "code",
      "metadata": {
        "id": "2Jgw8uZd0K5u"
      },
      "source": [
        "def get_data(keyword, start_time, end_time, next_token):\n",
        "  results = []\n",
        "  \n",
        "  while next_token is not None: # i.e, while data arrive \n",
        "    url = create_url(keyword, start_time,end_time)\n",
        "    json_response = connect_to_endpoint(url[0], headers, url[1], next_token)\n",
        "    \n",
        "    if \"results\" in json_response:\n",
        "      results.extend(json_response[\"results\"])\n",
        "    \n",
        "    if \"next\" in json_response:\n",
        "        next_token = json_response[\"next\"]\n",
        "    else:\n",
        "      next_token = None\n",
        "    time.sleep(1)\n",
        "  \n",
        "  return results"
      ],
      "execution_count": 12,
      "outputs": []
    },
    {
      "cell_type": "code",
      "metadata": {
        "id": "vcJ4mF6d09-y"
      },
      "source": [
        "tweets = get_data(\"Sarajevo\", \"202002090000\", \"202002100000\", \"\")"
      ],
      "execution_count": 13,
      "outputs": []
    },
    {
      "cell_type": "markdown",
      "metadata": {
        "id": "2tQoczST6dQ8"
      },
      "source": [
        "### Inspect data"
      ]
    },
    {
      "cell_type": "code",
      "metadata": {
        "id": "qcWGG5Rz39Gr",
        "colab": {
          "base_uri": "https://localhost:8080/"
        },
        "outputId": "47be5a8f-9a85-43c7-9fc3-109688d59f5b"
      },
      "source": [
        "len(tweets)"
      ],
      "execution_count": 14,
      "outputs": [
        {
          "output_type": "execute_result",
          "data": {
            "text/plain": [
              "949"
            ]
          },
          "metadata": {},
          "execution_count": 14
        }
      ]
    },
    {
      "cell_type": "code",
      "metadata": {
        "id": "Qy1AZe4O4T7C",
        "colab": {
          "base_uri": "https://localhost:8080/"
        },
        "outputId": "bcb19da6-eb39-4a35-e4d1-c8e6852568dc"
      },
      "source": [
        "tweets[0]"
      ],
      "execution_count": 15,
      "outputs": [
        {
          "output_type": "execute_result",
          "data": {
            "text/plain": [
              "{'contributors': None,\n",
              " 'coordinates': None,\n",
              " 'created_at': 'Sun Feb 09 23:51:53 +0000 2020',\n",
              " 'entities': {'hashtags': [],\n",
              "  'symbols': [],\n",
              "  'urls': [],\n",
              "  'user_mentions': [{'id': 366401992,\n",
              "    'id_str': '366401992',\n",
              "    'indices': [3, 12],\n",
              "    'name': 'Velibor Božović',\n",
              "    'screen_name': 'vebahood'}]},\n",
              " 'favorite_count': 0,\n",
              " 'favorited': False,\n",
              " 'filter_level': 'low',\n",
              " 'geo': None,\n",
              " 'id': 1226654985099915265,\n",
              " 'id_str': '1226654985099915265',\n",
              " 'in_reply_to_screen_name': None,\n",
              " 'in_reply_to_status_id': None,\n",
              " 'in_reply_to_status_id_str': None,\n",
              " 'in_reply_to_user_id': None,\n",
              " 'in_reply_to_user_id_str': None,\n",
              " 'is_quote_status': False,\n",
              " 'lang': 'en',\n",
              " 'matching_rules': [{'tag': None}],\n",
              " 'place': None,\n",
              " 'quote_count': 0,\n",
              " 'reply_count': 0,\n",
              " 'retweet_count': 0,\n",
              " 'retweeted': False,\n",
              " 'retweeted_status': {'contributors': None,\n",
              "  'coordinates': None,\n",
              "  'created_at': 'Sat Feb 08 15:58:04 +0000 2020',\n",
              "  'display_text_range': [0, 140],\n",
              "  'entities': {'hashtags': [],\n",
              "   'symbols': [],\n",
              "   'urls': [{'display_url': 'twitter.com/i/web/status/1…',\n",
              "     'expanded_url': 'https://twitter.com/i/web/status/1226173358909349888',\n",
              "     'indices': [116, 139],\n",
              "     'url': 'https://t.co/CLUg8hXgiD'}],\n",
              "   'user_mentions': []},\n",
              "  'extended_tweet': {'display_text_range': [0, 146],\n",
              "   'entities': {'hashtags': [],\n",
              "    'media': [{'display_url': 'pic.twitter.com/jshID5MH7H',\n",
              "      'expanded_url': 'https://twitter.com/vebahood/status/1226173358909349888/photo/1',\n",
              "      'id': 1226170561384067073,\n",
              "      'id_str': '1226170561384067073',\n",
              "      'indices': [147, 170],\n",
              "      'media_url': 'http://pbs.twimg.com/media/EQQ7oQlWsAE1rOh.jpg',\n",
              "      'media_url_https': 'https://pbs.twimg.com/media/EQQ7oQlWsAE1rOh.jpg',\n",
              "      'sizes': {'large': {'h': 800, 'resize': 'fit', 'w': 550},\n",
              "       'medium': {'h': 800, 'resize': 'fit', 'w': 550},\n",
              "       'small': {'h': 680, 'resize': 'fit', 'w': 468},\n",
              "       'thumb': {'h': 150, 'resize': 'crop', 'w': 150}},\n",
              "      'type': 'photo',\n",
              "      'url': 'https://t.co/jshID5MH7H'},\n",
              "     {'display_url': 'pic.twitter.com/jshID5MH7H',\n",
              "      'expanded_url': 'https://twitter.com/vebahood/status/1226173358909349888/photo/1',\n",
              "      'id': 1226171563751374860,\n",
              "      'id_str': '1226171563751374860',\n",
              "      'indices': [147, 170],\n",
              "      'media_url': 'http://pbs.twimg.com/media/EQQ8imsWAAwCliK.jpg',\n",
              "      'media_url_https': 'https://pbs.twimg.com/media/EQQ8imsWAAwCliK.jpg',\n",
              "      'sizes': {'large': {'h': 800, 'resize': 'fit', 'w': 562},\n",
              "       'medium': {'h': 800, 'resize': 'fit', 'w': 562},\n",
              "       'small': {'h': 680, 'resize': 'fit', 'w': 478},\n",
              "       'thumb': {'h': 150, 'resize': 'crop', 'w': 150}},\n",
              "      'type': 'photo',\n",
              "      'url': 'https://t.co/jshID5MH7H'}],\n",
              "    'symbols': [],\n",
              "    'urls': [],\n",
              "    'user_mentions': []},\n",
              "   'extended_entities': {'media': [{'display_url': 'pic.twitter.com/jshID5MH7H',\n",
              "      'expanded_url': 'https://twitter.com/vebahood/status/1226173358909349888/photo/1',\n",
              "      'id': 1226170561384067073,\n",
              "      'id_str': '1226170561384067073',\n",
              "      'indices': [147, 170],\n",
              "      'media_url': 'http://pbs.twimg.com/media/EQQ7oQlWsAE1rOh.jpg',\n",
              "      'media_url_https': 'https://pbs.twimg.com/media/EQQ7oQlWsAE1rOh.jpg',\n",
              "      'sizes': {'large': {'h': 800, 'resize': 'fit', 'w': 550},\n",
              "       'medium': {'h': 800, 'resize': 'fit', 'w': 550},\n",
              "       'small': {'h': 680, 'resize': 'fit', 'w': 468},\n",
              "       'thumb': {'h': 150, 'resize': 'crop', 'w': 150}},\n",
              "      'type': 'photo',\n",
              "      'url': 'https://t.co/jshID5MH7H'},\n",
              "     {'display_url': 'pic.twitter.com/jshID5MH7H',\n",
              "      'expanded_url': 'https://twitter.com/vebahood/status/1226173358909349888/photo/1',\n",
              "      'id': 1226171563751374860,\n",
              "      'id_str': '1226171563751374860',\n",
              "      'indices': [147, 170],\n",
              "      'media_url': 'http://pbs.twimg.com/media/EQQ8imsWAAwCliK.jpg',\n",
              "      'media_url_https': 'https://pbs.twimg.com/media/EQQ8imsWAAwCliK.jpg',\n",
              "      'sizes': {'large': {'h': 800, 'resize': 'fit', 'w': 562},\n",
              "       'medium': {'h': 800, 'resize': 'fit', 'w': 562},\n",
              "       'small': {'h': 680, 'resize': 'fit', 'w': 478},\n",
              "       'thumb': {'h': 150, 'resize': 'crop', 'w': 150}},\n",
              "      'type': 'photo',\n",
              "      'url': 'https://t.co/jshID5MH7H'}]},\n",
              "   'full_text': \"36 incredible years have passed since the opening of Sarajevo Winter Olympics. Ismar Mujezinović's posters for the games are still something else. https://t.co/jshID5MH7H\"},\n",
              "  'favorite_count': 521,\n",
              "  'favorited': False,\n",
              "  'filter_level': 'low',\n",
              "  'geo': None,\n",
              "  'id': 1226173358909349888,\n",
              "  'id_str': '1226173358909349888',\n",
              "  'in_reply_to_screen_name': None,\n",
              "  'in_reply_to_status_id': None,\n",
              "  'in_reply_to_status_id_str': None,\n",
              "  'in_reply_to_user_id': None,\n",
              "  'in_reply_to_user_id_str': None,\n",
              "  'is_quote_status': False,\n",
              "  'lang': 'en',\n",
              "  'place': None,\n",
              "  'possibly_sensitive': False,\n",
              "  'quote_count': 11,\n",
              "  'reply_count': 10,\n",
              "  'retweet_count': 117,\n",
              "  'retweeted': False,\n",
              "  'source': '<a href=\"https://mobile.twitter.com\" rel=\"nofollow\">Twitter Web App</a>',\n",
              "  'text': \"36 incredible years have passed since the opening of Sarajevo Winter Olympics. Ismar Mujezinović's posters for the… https://t.co/CLUg8hXgiD\",\n",
              "  'truncated': True,\n",
              "  'user': {'contributors_enabled': False,\n",
              "   'created_at': 'Fri Sep 02 03:24:05 +0000 2011',\n",
              "   'default_profile': False,\n",
              "   'default_profile_image': False,\n",
              "   'description': 'Listening. Seeing.\\nArtist. PT Faculty @CU_FineArts\\n#YNWA / #GoHabsGo',\n",
              "   'favourites_count': 1392,\n",
              "   'follow_request_sent': None,\n",
              "   'followers_count': 635,\n",
              "   'following': None,\n",
              "   'friends_count': 472,\n",
              "   'geo_enabled': True,\n",
              "   'id': 366401992,\n",
              "   'id_str': '366401992',\n",
              "   'is_translator': False,\n",
              "   'lang': None,\n",
              "   'listed_count': 25,\n",
              "   'location': \"Island of Tioh'tiá:ke / Montréal, Sarajevo\",\n",
              "   'name': 'Velibor Božović',\n",
              "   'notifications': None,\n",
              "   'profile_background_color': 'C0DEED',\n",
              "   'profile_background_image_url': 'http://abs.twimg.com/images/themes/theme1/bg.png',\n",
              "   'profile_background_image_url_https': 'https://abs.twimg.com/images/themes/theme1/bg.png',\n",
              "   'profile_background_tile': True,\n",
              "   'profile_banner_url': 'https://pbs.twimg.com/profile_banners/366401992/1599444768',\n",
              "   'profile_image_url': 'http://pbs.twimg.com/profile_images/1369677648293724160/b1qa5RwJ_normal.jpg',\n",
              "   'profile_image_url_https': 'https://pbs.twimg.com/profile_images/1369677648293724160/b1qa5RwJ_normal.jpg',\n",
              "   'profile_link_color': '0084B4',\n",
              "   'profile_sidebar_border_color': 'FFFFFF',\n",
              "   'profile_sidebar_fill_color': 'DDEEF6',\n",
              "   'profile_text_color': '333333',\n",
              "   'profile_use_background_image': True,\n",
              "   'protected': False,\n",
              "   'screen_name': 'vebahood',\n",
              "   'statuses_count': 2496,\n",
              "   'time_zone': None,\n",
              "   'translator_type': 'none',\n",
              "   'url': 'http://veliborbozovic.com/',\n",
              "   'utc_offset': None,\n",
              "   'verified': False,\n",
              "   'withheld_in_countries': []}},\n",
              " 'source': '<a href=\"https://mobile.twitter.com\" rel=\"nofollow\">Twitter Web App</a>',\n",
              " 'text': \"RT @vebahood: 36 incredible years have passed since the opening of Sarajevo Winter Olympics. Ismar Mujezinović's posters for the games are…\",\n",
              " 'truncated': False,\n",
              " 'user': {'contributors_enabled': False,\n",
              "  'created_at': 'Fri Jul 22 13:51:14 +0000 2011',\n",
              "  'default_profile': False,\n",
              "  'default_profile_image': False,\n",
              "  'description': 'Wrote The End of Music (@BreakwaterBooks), a novel about old grudges and new dreams and big bands in small towns. Also CBC Radio host/producer/reporter',\n",
              "  'favourites_count': 2048,\n",
              "  'follow_request_sent': None,\n",
              "  'followers_count': 1071,\n",
              "  'following': None,\n",
              "  'friends_count': 957,\n",
              "  'geo_enabled': False,\n",
              "  'id': 340306161,\n",
              "  'id_str': '340306161',\n",
              "  'is_translator': False,\n",
              "  'lang': None,\n",
              "  'listed_count': 13,\n",
              "  'location': \"St. John's\",\n",
              "  'name': 'Jamie Fitzpatrick',\n",
              "  'notifications': None,\n",
              "  'profile_background_color': '131516',\n",
              "  'profile_background_image_url': 'http://abs.twimg.com/images/themes/theme14/bg.gif',\n",
              "  'profile_background_image_url_https': 'https://abs.twimg.com/images/themes/theme14/bg.gif',\n",
              "  'profile_background_tile': True,\n",
              "  'profile_image_url': 'http://pbs.twimg.com/profile_images/1001236515047997440/6b1_e_Ep_normal.jpg',\n",
              "  'profile_image_url_https': 'https://pbs.twimg.com/profile_images/1001236515047997440/6b1_e_Ep_normal.jpg',\n",
              "  'profile_link_color': '009999',\n",
              "  'profile_sidebar_border_color': 'EEEEEE',\n",
              "  'profile_sidebar_fill_color': 'EFEFEF',\n",
              "  'profile_text_color': '333333',\n",
              "  'profile_use_background_image': True,\n",
              "  'protected': False,\n",
              "  'screen_name': 'FitzpatJamie',\n",
              "  'statuses_count': 3674,\n",
              "  'time_zone': None,\n",
              "  'translator_type': 'none',\n",
              "  'url': None,\n",
              "  'utc_offset': None,\n",
              "  'verified': False,\n",
              "  'withheld_in_countries': []}}"
            ]
          },
          "metadata": {},
          "execution_count": 15
        }
      ]
    }
  ]
}
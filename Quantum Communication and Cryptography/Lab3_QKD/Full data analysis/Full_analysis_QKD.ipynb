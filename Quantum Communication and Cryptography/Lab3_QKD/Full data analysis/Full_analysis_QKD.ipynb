{
 "cells": [
  {
   "cell_type": "code",
   "execution_count": 1,
   "id": "6a9a6071",
   "metadata": {},
   "outputs": [],
   "source": [
    "import numpy as np\n",
    "import pandas as pd\n",
    "import matplotlib.pyplot as plt"
   ]
  },
  {
   "cell_type": "markdown",
   "id": "f0884d29",
   "metadata": {},
   "source": [
    "### Read and save data: never run again"
   ]
  },
  {
   "cell_type": "code",
   "execution_count": 2,
   "id": "320de416",
   "metadata": {},
   "outputs": [],
   "source": [
    "falice = 'QKD_Lab_data/input-keys.alice'\n",
    "fbob   = 'QKD_Lab_data/input-keys.bob'\n",
    "fdecoy = 'QKD_Lab_data/input-keys.decoy'\n",
    "\n",
    "encoding_big = {'0': 'H', '1': 'V', '2': 'D', '3': 'A'}\n",
    "encoding_lit = {'0': 'H', '1': 'D', '2': 'V', '3': 'A'}\n",
    "decoy_lit = {'0' : 'S', '2' : 'W'}\n",
    "\n",
    "acq_time = 3600 # change here\n",
    "\n",
    "def to_states(byte_input, encoding):\n",
    "    num = int.from_bytes(byte_input, byteorder='big', signed=False)\n",
    "    states = [(num & ii) >> jj for (ii,jj) in zip([192,48,12,3],[6,4,2,0])]\n",
    "    states = [encoding[str(states[i])] for i in range(len(states))]\n",
    "    states.reverse()\n",
    "    return states\n",
    "\n",
    "def decode(file, encoding, num=acq_time):\n",
    "    with open(file, 'rb') as f:\n",
    "        decoded = []\n",
    "        count = 0\n",
    "        while count < num:\n",
    "            N = f.read(8)\n",
    "            N = int.from_bytes(N, 'big')\n",
    "            for _ in range(N):\n",
    "                print(f'Processing block {count+1}/{num}')\n",
    "                decoded += to_states(f.read(1), encoding)\n",
    "            count += 1\n",
    "    return decoded\n",
    "\n",
    "\n",
    "def decode_N(file, encoding, block_sizes, num=acq_time):\n",
    "    with open(file, 'rb') as f:\n",
    "        decoded = []\n",
    "        count = 0\n",
    "        while count < num:\n",
    "            N = f.read(8)\n",
    "            N = int.from_bytes(N, 'big')\n",
    "            block_sizes.append(N)\n",
    "            for _ in range(N):\n",
    "                print(f'Processing block {count+1}/{num}')\n",
    "                decoded += to_states(f.read(1), encoding)\n",
    "            count += 1\n",
    "    return decoded"
   ]
  },
  {
   "cell_type": "code",
   "execution_count": 3,
   "id": "39f84b3b",
   "metadata": {},
   "outputs": [],
   "source": [
    "# print('Reading Alice ...')\n",
    "# alice_states = decode(falice, encoding_lit)\n",
    "# print('Reading Bob ...')\n",
    "# bob_states   = decode(fbob, encoding_lit)\n",
    "\n",
    "# block_sizes = []\n",
    "# print('Reading decoy ...')\n",
    "# decoy_states = decode_N(fdecoy, decoy_lit, block_sizes)"
   ]
  },
  {
   "cell_type": "markdown",
   "id": "a968d279",
   "metadata": {},
   "source": [
    "### Divide in chunks"
   ]
  },
  {
   "cell_type": "code",
   "execution_count": 4,
   "id": "423b739d",
   "metadata": {},
   "outputs": [],
   "source": [
    "size = 200\n",
    "\n",
    "def divide(file, encoding, name, size = size):\n",
    "    blocksizes = np.loadtxt('block_sizes.txt')\n",
    "    chunksizes = [sum( blocksizes[i*size:(i+1)*size] ) for i in range(int(len(blocksizes)/size))]\n",
    "\n",
    "    with open(file, 'rb') as f:\n",
    "        for numchunk, chunk in enumerate(chunksizes):\n",
    "            decoded = []\n",
    "            count = 0\n",
    "            while count < chunk:\n",
    "                N = f.read(8)\n",
    "                N = int.from_bytes(N, 'big')\n",
    "                \n",
    "                for _ in range(N):\n",
    "                    decoded += to_states(f.read(1), encoding)\n",
    "                    count += 1\n",
    "            filename = 'results/{}_{}.csv'.format(name, numchunk)\n",
    "            a = np.asarray([ decoded ])\n",
    "            np.savetxt(filename, a, delimiter=\"\\n\", fmt=\"%s\")\n"
   ]
  },
  {
   "cell_type": "code",
   "execution_count": 5,
   "id": "3673cca0",
   "metadata": {},
   "outputs": [],
   "source": [
    "# SCOMMENTA QUA PER COSTRUIRE I FILES\n",
    "\n",
    "# divide(falice, encoding_lit, 'alice')\n",
    "# divide(fbob, encoding_lit, 'bob')\n",
    "# divide(fdecoy, decoy_lit, 'decoy')"
   ]
  },
  {
   "cell_type": "code",
   "execution_count": 6,
   "id": "524834ec",
   "metadata": {},
   "outputs": [],
   "source": [
    "p_t_HV = .90\n",
    "p_t_D  = .10\n",
    "\n",
    "p_r_HV = .50\n",
    "p_r_DA = .50\n",
    "\n",
    "p_d_S  = .70\n",
    "p_d_W  = .30\n",
    "\n",
    "mu1 = 0.4699\n",
    "mu2 = 0.1093"
   ]
  },
  {
   "cell_type": "code",
   "execution_count": 7,
   "id": "ff5a1353",
   "metadata": {},
   "outputs": [],
   "source": [
    "def count_Z(df):\n",
    "    n_Z    = sum(df['B_basis_Z'])\n",
    "    df_mZ  = df[(df['A_basis_Z']) & (df['B_basis_Z'])]\n",
    "    m_Z    = len(df_mZ[df_mZ['A']!= df_mZ['B']])\n",
    "    \n",
    "    return n_Z, m_Z\n",
    "\n",
    "def compute_QBER_Z(df):\n",
    "    n_Z, m_Z = count_Z(df)\n",
    "    QBER_Z = m_Z / n_Z\n",
    "\n",
    "    return QBER_Z\n",
    "    \n",
    "def count_X(df):\n",
    "    n_X    = len(df) - sum(df['B_basis_Z'])\n",
    "    df_mX  = df[ ~ ((df['A_basis_Z']) | (df['B_basis_Z']))]\n",
    "    m_X    = len(df_mX[df_mX['A'] != df_mX['B']])\n",
    "    \n",
    "    return n_X, m_X\n",
    "\n",
    "def compute_QBER_X(df):\n",
    "    n_X, m_X = count_X(df)\n",
    "    QBER_X = m_X / n_X\n",
    "                 \n",
    "    return QBER_X"
   ]
  },
  {
   "cell_type": "markdown",
   "id": "845818ad",
   "metadata": {},
   "source": [
    "### Load and process files"
   ]
  },
  {
   "cell_type": "code",
   "execution_count": 8,
   "id": "bbbcca4a",
   "metadata": {},
   "outputs": [],
   "source": [
    "blocksizes = np.loadtxt('block_sizes.txt')\n",
    "n_points = int(len(blocksizes)/size)\n",
    "chunksizes = [sum( blocksizes[i*size:(i+1)*size] ) for i in range(n_points)]\n",
    "\n",
    "n_Z_list = np.array([5875048., 5714369., 5717431., 5744896., 5757869., 5780753.,\n",
    "       5721273., 6286339., 7760382., 7822475., 7852461., 7882148.,\n",
    "       7947703., 8100780., 8137429., 8054261., 8058419., 4774662.])\n",
    "\n",
    "m_Z_list = np.array([ 92364.,  90972.,  93874.,  95823.,  97328., 105939., 114998.,\n",
    "       128827., 152995., 164311., 174465., 177907., 179530., 182573.,\n",
    "       186480., 188921., 188488., 113278.])\n",
    "n_X_list = np.array([631531., 616261., 617663., 620534., 621702., 627146., 608931.,\n",
    "       662056., 816654., 834749., 841172., 842758., 851083., 862799.,\n",
    "       861733., 852588., 856007., 508573.])\n",
    "m_X_list = np.array([ 7402.,  7049.,  6729.,  7180.,  7288.,  7060.,  6846.,  8050.,\n",
    "        8768.,  8828.,  9533.,  9837.,  9522.,  9672., 10287., 10706.,\n",
    "       10068.,  6140.])\n",
    "\n",
    "n_Z_S_list = np.array([5340798., 5197333., 5199984., 5226004., 5238527., 5258420.,\n",
    "       5205156., 5713980., 7048228., 7105884., 7142800., 7171606.,\n",
    "       7232398., 7374698., 7406179., 7320651., 7321717., 4337901.])\n",
    "m_Z_S_list = np.array([ 77380.,  76541.,  78836.,  80589.,  82035.,  89688.,  98001.,\n",
    "       110630., 132094., 142214., 151426., 154526., 156199., 159199.,\n",
    "       162577., 164686., 164061.,  98551.])\n",
    "n_Z_W_list = np.array([534250., 517036., 517447., 518892., 519342., 522333., 516117.,\n",
    "       572359., 712154., 716591., 709661., 710542., 715305., 726082.,\n",
    "       731250., 733610., 736702., 436761.])\n",
    "m_Z_W_list = np.array([14984., 14431., 15038., 15234., 15293., 16251., 16997., 18197.,\n",
    "       20901., 22097., 23039., 23381., 23331., 23374., 23903., 24235.,\n",
    "       24427., 14727.])\n",
    "n_X_S_list = np.array([574453., 560713., 561947., 564325., 565749., 570604., 554287.,\n",
    "       601444., 741997., 758576., 765329., 767087., 774468., 785090.,\n",
    "       784120., 775325., 777817., 462340.])\n",
    "m_X_S_list = np.array([6119., 5777., 5480., 5885., 5982., 5780., 5624., 6731., 7276.,\n",
    "       7269., 7944., 8260., 7958., 8038., 8569., 8960., 8450., 5116.])\n",
    "n_X_W_list = np.array([57078., 55548., 55716., 56209., 55953., 56542., 54644., 60612.,\n",
    "       74657., 76173., 75843., 75671., 76615., 77709., 77613., 77263.,\n",
    "       78190., 46233.])\n",
    "m_X_W_list = np.array([1283., 1272., 1249., 1295., 1306., 1280., 1222., 1319., 1492.,\n",
    "       1559., 1589., 1577., 1564., 1634., 1718., 1746., 1618., 1024.])\n",
    "\n",
    "QBER_Z = np.array([0.0157214 , 0.01591987, 0.01641891, 0.01667968, 0.01690348,\n",
    "       0.01832616, 0.02010007, 0.02049317, 0.01971488, 0.02100499,\n",
    "       0.02221788, 0.02257088, 0.02258892, 0.02253771, 0.02291633,\n",
    "       0.02345603, 0.0233902 , 0.02372482])\n",
    "QBER_X = np.array([0.01172072, 0.01143834, 0.01089429, 0.01157068, 0.01172266,\n",
    "       0.01125735, 0.01124265, 0.01215909, 0.01073649, 0.01057563,\n",
    "       0.011333  , 0.01167239, 0.0111881 , 0.01121003, 0.01193757,\n",
    "       0.01255706, 0.01176159, 0.012073  ])\n",
    "\n",
    "chunksizes = n_Z_list + n_X_list"
   ]
  },
  {
   "cell_type": "code",
   "execution_count": 9,
   "id": "7559c037",
   "metadata": {},
   "outputs": [],
   "source": [
    "# blocksizes = np.loadtxt('block_sizes.txt')\n",
    "# n_points = int(len(blocksizes)/size)\n",
    "# chunksizes = [sum( blocksizes[i*size:(i+1)*size] ) for i in range(n_points)]\n",
    "\n",
    "# n_Z_list = np.zeros(n_points)\n",
    "# # m_Z_list = np.zeros(n_points)\n",
    "# n_X_list = np.zeros(n_points)\n",
    "# m_X_list = np.zeros(n_points)\n",
    "\n",
    "# n_Z_S_list = np.zeros(n_points)\n",
    "# m_Z_S_list = np.zeros(n_points)\n",
    "# n_Z_W_list = np.zeros(n_points)\n",
    "# m_Z_W_list = np.zeros(n_points)\n",
    "# n_X_S_list = np.zeros(n_points)\n",
    "# m_X_S_list = np.zeros(n_points)\n",
    "# n_X_W_list = np.zeros(n_points)\n",
    "# m_X_W_list = np.zeros(n_points)\n",
    "\n",
    "# QBER_Z = np.zeros(n_points)\n",
    "# QBER_X = np.zeros(n_points)\n",
    "\n",
    "# for i in range(n_points):\n",
    "#     print(f'Working on block #{i} ...')\n",
    "    \n",
    "#     alice = pd.read_csv('results/alice_{}.csv'.format(i), names=['A'], dtype=object)\n",
    "#     bob = pd.read_csv('results/bob_{}.csv'.format(i), names=['B'], dtype=object)\n",
    "#     decoy = pd.read_csv('results/decoy_{}.csv'.format(i), names=['D'], dtype=object)\n",
    "#     df = pd.concat([alice, bob, decoy], axis=1)\n",
    "\n",
    "#     df['A_basis_Z'] = (df['A']=='H') | (df['A']=='V')\n",
    "#     df['B_basis_Z'] = (df['B']=='H') | (df['B']=='V')\n",
    "#     df = df[df['A_basis_Z'] == df['B_basis_Z']]\n",
    "\n",
    "#     # compute m_Z_k\n",
    "#     n_Z_S_list[i], m_Z_S_list[i] = count_Z(df[df['D']=='S'])\n",
    "#     n_Z_W_list[i], m_Z_W_list[i] = count_Z(df[df['D']=='W'])\n",
    "#     # compute m_X_k\n",
    "#     n_X_S_list[i], m_X_S_list[i] = count_X(df[df['D']=='S'])\n",
    "#     n_X_W_list[i], m_X_W_list[i] = count_X(df[df['D']=='W'])\n",
    "\n",
    "#     # compute n_Z, m_Z, QBER_Z\n",
    "#     n_Z_list[i], m_Z_list[i] = count_Z(df)\n",
    "#     QBER_Z[i] = compute_QBER_Z(df)\n",
    "#     # compute n_X, m_X, QBER_X\n",
    "#     n_X_list[i], m_X_list[i] = count_X(df)\n",
    "#     QBER_X[i] = compute_QBER_X(df)"
   ]
  },
  {
   "cell_type": "markdown",
   "id": "8c5384aa",
   "metadata": {},
   "source": [
    "### Analysis"
   ]
  },
  {
   "cell_type": "code",
   "execution_count": 10,
   "id": "7886deb0",
   "metadata": {},
   "outputs": [],
   "source": [
    "def delta(n,eps):\n",
    "    return np.sqrt(n*np.log(1/eps)*0.5)\n",
    "\n",
    "def tau(n):\n",
    "    strong_term = (p_d_S * np.exp(-mu1) * mu1**n) / np.math.factorial(n)\n",
    "    weak_term = (p_d_W * np.exp(-mu2) * mu2**n) / np.math.factorial(n)\n",
    "    return strong_term + weak_term\n",
    "\n",
    "def gamma(a,b,c,d):\n",
    "    fact1 = ((c+d)*(1-b)*b) / (c*d*np.log(2))\n",
    "    fact2 = ((c+d)*21**2) / ((c*d)*(1-b)*b*a**2)\n",
    "    return np.sqrt(fact1 * np.log2(fact2))"
   ]
  },
  {
   "cell_type": "code",
   "execution_count": 11,
   "id": "94a78ced",
   "metadata": {},
   "outputs": [],
   "source": [
    "eps_sec = 1e-9\n",
    "eps_cor = 1e-15\n",
    "eps1    = 1/19 * eps_sec # define once for all\n",
    "eps2    = 1/19 * eps_sec\n",
    "\n",
    "# A16 + A14\n",
    "def esse_u_basis_0(n_Z, m_Z, m_Z_mu1, m_Z_mu2):\n",
    "    suz01 = 2 * ( tau(0) * (np.exp(mu1)/p_d_S) * (m_Z_mu1 + delta(m_Z, eps2)) + delta(n_Z, eps1) )\n",
    "    suz02 = 2 * ( tau(0) * (np.exp(mu2)/p_d_W) * (m_Z_mu2 + delta(m_Z, eps2)) + delta(n_Z, eps1) )\n",
    "    suz03 = 2 * ( m_Z + delta(n_Z, eps1) )\n",
    "    \n",
    "    return min(suz01, suz02, suz03)\n",
    "\n",
    "# A17\n",
    "def esse_l_basis_1(n_Z_mu1, n_Z_mu2, n_Z, suz0):\n",
    "    return (tau(1)*mu1)/(mu2*(mu1-mu2)) * ( (n_Z_mu2 - delta(n_Z, eps1))                     \\\n",
    "                                            - (mu2**2/mu1**2) * (n_Z_mu1 + delta(n_Z, eps1)) \\\n",
    "                                            - (mu1**2-mu2**2)/(mu1**2) * (suz0 / tau(0)) )\n",
    "\n",
    "# A19\n",
    "def esse_l_basis_0(n_Z, n_Z_mu1, n_Z_mu2):\n",
    "    res = (tau(0)/(mu1 - mu2)) * (mu1*(n_Z_mu2 - delta(n_Z, eps1)) - mu2*(n_Z_mu1 + delta(n_Z, eps1)))\n",
    "    return max(res, 0)\n",
    "\n",
    "# A22\n",
    "def vi_u_X_1(m_X, m_X_mu1, m_X_mu2):\n",
    "    return (tau(1)/(mu1 - mu2)) * ((m_X_mu1 + delta(m_X, eps2)) - (m_X_mu2 - delta(m_X, eps2)))\n",
    "\n",
    "# A23\n",
    "def phi_u_Z(v_x, s_x, s_z):\n",
    "    r = v_x / s_x\n",
    "    return r + gamma(eps_sec, r, s_z, s_x)\n",
    "\n",
    "def h_2(x):\n",
    "    return - x * np.log2(x) - (1-x) * np.log2(1-x)\n",
    "\n",
    "# EQ1 : SKL\n",
    "def ell(s0, s1, phi, QBER_Z):\n",
    "    f = 1.5 # from 1.3 to 1.8\n",
    "    lambda_EC = f * h_2(QBER_Z)\n",
    "    return s0 + s1*(1 - h_2(phi)) - lambda_EC - 6 * np.log2(19 / eps_sec) - np.log2(2 / eps_cor)"
   ]
  },
  {
   "cell_type": "code",
   "execution_count": 12,
   "id": "6597e966",
   "metadata": {},
   "outputs": [
    {
     "name": "stdout",
     "output_type": "stream",
     "text": [
      "Working on block #0 ...\n",
      "Working on block #1 ...\n",
      "Working on block #2 ...\n",
      "Working on block #3 ...\n",
      "Working on block #4 ...\n",
      "Working on block #5 ...\n",
      "Working on block #6 ...\n",
      "Working on block #7 ...\n",
      "Working on block #8 ...\n",
      "Working on block #9 ...\n",
      "Working on block #10 ...\n",
      "Working on block #11 ...\n",
      "Working on block #12 ...\n",
      "Working on block #13 ...\n",
      "Working on block #14 ...\n",
      "Working on block #15 ...\n",
      "Working on block #16 ...\n",
      "Working on block #17 ...\n"
     ]
    }
   ],
   "source": [
    "ell_list = []\n",
    "\n",
    "for i in range(n_points):\n",
    "    print(f'Working on block #{i} ...')\n",
    "    \n",
    "    # compute m_Z_k\n",
    "    n_Z_S, m_Z_S = n_Z_S_list[i], m_Z_S_list[i]\n",
    "    n_Z_W, m_Z_W = n_Z_W_list[i], m_Z_W_list[i]\n",
    "    # compute m_X_k\n",
    "    n_X_S, m_X_S = n_X_S_list[i], m_X_S_list[i]\n",
    "    n_X_W, m_X_W = n_X_W_list[i], m_X_W_list[i]\n",
    "\n",
    "    # compute n_Z, m_Z\n",
    "    n_Z, m_Z = n_Z_list[i], m_Z_list[i]\n",
    "    # compute n_X, m_X\n",
    "    n_X, m_X = n_X_list[i], m_X_list[i]\n",
    "\n",
    "    params_suz0 = {\n",
    "    'n_Z': n_Z,\n",
    "    'm_Z': m_Z,\n",
    "    'm_Z_mu1' : m_Z_S,\n",
    "    'm_Z_mu2' : m_Z_W,\n",
    "    }\n",
    "    \n",
    "    params_sux0 = {\n",
    "    'n_Z': n_X,\n",
    "    'm_Z': m_X,\n",
    "    'm_Z_mu1' : m_X_S,\n",
    "    'm_Z_mu2' : m_X_W,\n",
    "    }\n",
    "\n",
    "    suz0 = esse_u_basis_0(**params_suz0)\n",
    "    \n",
    "    s_z = esse_l_basis_1(n_Z_S, n_Z_W, n_Z, suz0)\n",
    "    s0 = esse_l_basis_0(n_Z, n_Z_S, n_Z_W)\n",
    "    v_x = vi_u_X_1(m_X, m_X_S, m_X_W)\n",
    "\n",
    "    sux0 = esse_u_basis_0(**params_sux0)\n",
    "    s_x = esse_l_basis_1(n_X_S, n_X_W, n_X, sux0)\n",
    "\n",
    "    phi = phi_u_Z(v_x, s_x, s_z)\n",
    "\n",
    "    ell_list.append(ell(s0, s_z, phi, QBER_Z[i]))"
   ]
  },
  {
   "cell_type": "code",
   "execution_count": 13,
   "id": "b6c11642",
   "metadata": {},
   "outputs": [
    {
     "data": {
      "image/png": "[encoded data removed]",
      "text/plain": [
       "<Figure size 432x288 with 2 Axes>"
      ]
     },
     "metadata": {
      "needs_background": "light"
     },
     "output_type": "display_data"
    }
   ],
   "source": [
    "y = [e/size for e in ell_list]\n",
    "y[-1] *= 200/119\n",
    "y_2 = [nz/size for nz in n_Z_list]\n",
    "y_2[-1] *= 200/119\n",
    "x = np.array([i*200/60 for i in range(1,19)]) - 100/60\n",
    "\n",
    "avg = np.mean(y)\n",
    "std = np.std(y)\n",
    "bc = [sum( blocksizes[i*size:(i+1)*size]/(size) ) for i in range(n_points)]\n",
    "\n",
    "fig, ax1 = plt.subplots()\n",
    "\n",
    "color = 'm'\n",
    "ax1.set_xlabel('Time (min)')\n",
    "ax1.plot(x, y, color=color, marker='D', markersize=4)\n",
    "ax1.fill_between(x, y1=y+std, y2=y-std, alpha=0.25, color=color, label='$\\mathrm{SKR}\\pm\\sigma$')\n",
    "ax1.axhline(avg, color = 'm', linestyle = '--', label='avg SKR')\n",
    "ax1.tick_params(axis='y', labelcolor=color)\n",
    "ax1.set_ylabel('SKR (bit/s)', color=color)\n",
    "ax1.legend(loc='upper left')\n",
    "\n",
    "ax2 = ax1.twinx()\n",
    "color = 'b'\n",
    "ax2.plot(x, y_2, color=color)\n",
    "ax2.tick_params(axis='y', labelcolor=color)\n",
    "ax2.set_ylabel('Raw key rate (bit/s)', color=color)\n",
    "ax2.ticklabel_format(axis='y', style='sci', scilimits=(0,0))\n",
    "#ax2.legend(loc='lower right')\n",
    "\n",
    "plt.xlabel('Time (min)')\n",
    "plt.title('SKR and raw key rate vs time')\n",
    "\n",
    "plt.grid(linestyle=':', linewidth=1)\n",
    "plt.savefig('non_cum_SKR.pdf')"
   ]
  },
  {
   "cell_type": "code",
   "execution_count": 14,
   "metadata": {},
   "outputs": [
    {
     "data": {
      "image/png": "[encoded data removed]",
      "text/plain": [
       "<Figure size 432x288 with 2 Axes>"
      ]
     },
     "metadata": {
      "needs_background": "light"
     },
     "output_type": "display_data"
    }
   ],
   "source": [
    "y = np.array(n_Z_list)/200\n",
    "y[-1] *= 200/119\n",
    "y_2 = np.array(n_X_list)/200\n",
    "y_2[-1] *= 200/119\n",
    "x = np.array([i*200/60 for i in range(1,19)]) - 100/60\n",
    "\n",
    "avg1 = np.mean(y)\n",
    "std1 = np.std(y)\n",
    "\n",
    "avg2 = np.mean(y_2)\n",
    "std2 = np.std(y_2)\n",
    "\n",
    "fig, ax1 = plt.subplots()\n",
    "\n",
    "color = 'm'\n",
    "ax1.set_xlabel('Time (min)')\n",
    "lns1 = ax1.plot(x, y, color=color, marker='D', markersize=4.5, label='Z basis')\n",
    "#ax1.fill_between(x, y1=y+std1, y2=y-std1, alpha=0.25, color=color, label='$\\mathrm{SKR}\\pm\\sigma$')\n",
    "ax1.axhline(avg1, color = 'm', linestyle = '--', label='avg SKR')\n",
    "ax1.tick_params(axis='y', labelcolor=color)\n",
    "ax1.set_ylabel('bit/s', color=color)\n",
    "\n",
    "\n",
    "ax2 = ax1.twinx()\n",
    "color = 'g'\n",
    "ax2.set_xlabel('Time (min)')\n",
    "lns2 = ax2.plot(x, y_2, color=color, marker='D', markersize=4.5, label='X basis')\n",
    "#ax2.fill_between(x, y1=y_2+std2, y2=y_2-std2, alpha=0.25, color=color, label='$\\mathrm{SKR}\\pm\\sigma$')\n",
    "ax2.axhline(avg2, color = color, linestyle = '--', label='avg SKR')\n",
    "ax2.tick_params(axis='y', labelcolor=color)\n",
    "ax2.set_ylabel('bit/s', color=color)\n",
    "#ax2.legend(loc='upper left')\n",
    "\n",
    "lns = lns1+lns2\n",
    "labs = [l.get_label() for l in lns]\n",
    "ax1.legend(lns, labs, loc=0)\n",
    "\n",
    "plt.xlabel('Time (min)')\n",
    "plt.title('Average amount of sifted bits per second on X, Z basis')\n",
    "\n",
    "plt.grid(linestyle=':', linewidth=1)\n",
    "plt.savefig('SiftedBitsPerSecond.pdf', bbox_inches='tight')"
   ]
  },
  {
   "cell_type": "code",
   "execution_count": 15,
   "id": "63d20267",
   "metadata": {},
   "outputs": [
    {
     "data": {
      "text/plain": [
       "9.364809605816337"
      ]
     },
     "execution_count": 15,
     "metadata": {},
     "output_type": "execute_result"
    }
   ],
   "source": [
    "np.mean(y) / np.mean(y_2)"
   ]
  },
  {
   "cell_type": "code",
   "execution_count": 16,
   "id": "50aa9335",
   "metadata": {},
   "outputs": [],
   "source": [
    "cum_ell_list = []\n",
    "\n",
    "n_Z_S_cum = np.cumsum(n_Z_S_list)\n",
    "m_Z_S_cum = np.cumsum(m_Z_S_list)\n",
    "n_Z_W_cum = np.cumsum(n_Z_W_list)\n",
    "m_Z_W_cum = np.cumsum(m_Z_W_list)\n",
    "n_X_S_cum = np.cumsum(n_X_S_list)\n",
    "m_X_S_cum = np.cumsum(m_X_S_list)\n",
    "n_X_W_cum = np.cumsum(n_X_W_list)\n",
    "m_X_W_cum = np.cumsum(m_X_W_list)\n",
    "n_Z_cum = np.cumsum(n_Z_list)\n",
    "m_Z_cum = np.cumsum(m_Z_list)\n",
    "n_X_cum = np.cumsum(n_X_list)\n",
    "m_X_cum = np.cumsum(m_X_list)\n",
    "QBER_Z_cum = m_Z_cum / n_Z_cum\n",
    "\n",
    "for i in range(len(ell_list)):\n",
    "\n",
    "    # compute m_Z_k\n",
    "    n_Z_S, m_Z_S = n_Z_S_cum[i], m_Z_S_cum[i]\n",
    "    n_Z_W, m_Z_W = n_Z_W_cum[i], m_Z_W_cum[i]\n",
    "    # compute m_X_k\n",
    "    n_X_S, m_X_S = n_X_S_cum[i], m_X_S_cum[i]\n",
    "    n_X_W, m_X_W = n_X_W_cum[i], m_X_W_cum[i]\n",
    "\n",
    "    # compute n_Z, m_Z\n",
    "    n_Z, m_Z = n_Z_cum[i], m_Z_cum[i]\n",
    "    # compute n_X, m_X\n",
    "    n_X, m_X = n_X_cum[i], m_X_cum[i]\n",
    "\n",
    "    params_suz0 = {\n",
    "    'n_Z': n_Z,\n",
    "    'm_Z': m_Z,\n",
    "    'm_Z_mu1' : m_Z_S,\n",
    "    'm_Z_mu2' : m_Z_W,\n",
    "    }\n",
    "    \n",
    "    params_sux0 = {\n",
    "    'n_Z': n_X,\n",
    "    'm_Z': m_X,\n",
    "    'm_Z_mu1' : m_X_S,\n",
    "    'm_Z_mu2' : m_X_W,\n",
    "    }\n",
    "\n",
    "    suz0 = esse_u_basis_0(**params_suz0)\n",
    "    \n",
    "    s_z = esse_l_basis_1(n_Z_S, n_Z_W, n_Z, suz0)\n",
    "    s0 = esse_l_basis_0(n_Z, n_Z_S, n_Z_W)\n",
    "    v_x = vi_u_X_1(m_X, m_X_S, m_X_W)\n",
    "\n",
    "    sux0 = esse_u_basis_0(**params_sux0)\n",
    "    s_x = esse_l_basis_1(n_X_S, n_X_W, n_X, sux0)\n",
    "\n",
    "    phi = phi_u_Z(v_x, s_x, s_z)\n",
    "\n",
    "    cum_ell_list.append(ell(s0, s_z, phi, QBER_Z_cum[i]))"
   ]
  },
  {
   "cell_type": "code",
   "execution_count": 17,
   "id": "2da03026",
   "metadata": {},
   "outputs": [
    {
     "data": {
      "text/plain": [
       "array([3219824., 3218457., 3217491., ...,       0.,       0.,       0.])"
      ]
     },
     "execution_count": 17,
     "metadata": {},
     "output_type": "execute_result"
    }
   ],
   "source": [
    "\n",
    "filesizes = np.array([sum(blocksizes[i:i+200]) for i in range(len(blocksizes))])\n",
    "filesizes\n"
   ]
  },
  {
   "cell_type": "code",
   "execution_count": 18,
   "id": "edbc847f",
   "metadata": {},
   "outputs": [
    {
     "data": {
      "image/png": "[encoded data removed]",
      "text/plain": [
       "<Figure size 432x288 with 1 Axes>"
      ]
     },
     "metadata": {
      "needs_background": "light"
     },
     "output_type": "display_data"
    }
   ],
   "source": [
    "c_sizes = np.arange(len(chunksizes))\n",
    "x = np.cumsum(n_Z_list) / 1e6\n",
    "y = [e/(1e3*size*(c+1)) for e,c in zip(cum_ell_list,c_sizes)]\n",
    "y[-1] *= 200*18/(200*17+119)\n",
    "\n",
    "avg_asym = 1.3458169769951538\n",
    "std = np.std(y)\n",
    "\n",
    "plt.plot(x, y, color='m', marker = \"D\", markersize = 4)\n",
    "plt.axhline(avg_asym, color = 'b', linestyle = '--', label='$\\infty$ - limit')\n",
    "plt.fill_between(x, y1=y+std, y2=y-std, alpha=0.25, color='m', label='$\\mathrm{SKR}\\pm\\sigma$')\n",
    "\n",
    "plt.title('Secret Key Rate vs raw key')\n",
    "plt.xlabel('Raw key length (Mbit)')\n",
    "plt.ylabel('SKR (kbit/s)')\n",
    "plt.legend(loc='lower right')\n",
    "plt.grid(linestyle=':', linewidth=1)\n",
    "#plt.show()\n",
    "plt.savefig('cumulative.pdf')"
   ]
  },
  {
   "cell_type": "code",
   "execution_count": 19,
   "id": "dfd3de03",
   "metadata": {},
   "outputs": [],
   "source": [
    "QBER_X_LIST = np.loadtxt('QBER_X_3519.dat')\n",
    "QBER_Z_LIST = np.loadtxt('QBER_Z_3519.dat')"
   ]
  },
  {
   "cell_type": "code",
   "execution_count": 20,
   "id": "e9f367f7",
   "metadata": {},
   "outputs": [
    {
     "data": {
      "text/plain": [
       "array([ 0,  1,  2,  3,  4,  5,  6,  7,  8,  9, 10, 11, 12, 13, 14, 15, 16,\n",
       "       17])"
      ]
     },
     "execution_count": 20,
     "metadata": {},
     "output_type": "execute_result"
    }
   ],
   "source": [
    "np.arange(n_points)"
   ]
  },
  {
   "cell_type": "code",
   "execution_count": 21,
   "id": "ce81c88c",
   "metadata": {},
   "outputs": [],
   "source": [
    "# QBER_X_LIST = []\n",
    "# QBER_Z_LIST = []\n",
    "\n",
    "# break_all = False\n",
    "\n",
    "# for i in np.arange(n_points):\n",
    "#     print(f'Processing file #{i} ...')\n",
    "#     alice = pd.read_csv('results/alice_{}.csv'.format(i), names=['A'], dtype=object)\n",
    "#     bob = pd.read_csv('results/bob_{}.csv'.format(i), names=['B'], dtype=object)\n",
    "#     decoy = pd.read_csv('results/decoy_{}.csv'.format(i), names=['D'], dtype=object)\n",
    "#     df = pd.concat([alice, bob, decoy], axis=1)\n",
    "\n",
    "#     df['A_basis_Z'] = (df['A']=='H') | (df['A']=='V')\n",
    "#     df['B_basis_Z'] = (df['B']=='H') | (df['B']=='V')\n",
    "\n",
    "#     QBER_Z = np.zeros(size)\n",
    "#     QBER_X = np.zeros(size)\n",
    "\n",
    "#     initial = 0\n",
    "#     final = blocksizes[i*size]\n",
    "    \n",
    "    \n",
    "#     for j,block in enumerate(blocksizes[ ((size*i)+1) : (size*(i+1)) ]):\n",
    "#         df_sliced = df.iloc[int(initial):int(final)]\n",
    "#         df_sliced = df_sliced[df_sliced['A_basis_Z'] == df_sliced['B_basis_Z']]\n",
    "#         if len(df_sliced) < 1:\n",
    "#             break_all = True\n",
    "#             break\n",
    "\n",
    "#         QBER_Z[j] = compute_QBER_Z(df_sliced)\n",
    "#         QBER_X[j] = compute_QBER_X(df_sliced)\n",
    "\n",
    "#         initial = final\n",
    "#         final += block\n",
    "\n",
    "#     if break_all: \n",
    "#         QBER_X_LIST += list(QBER_X)\n",
    "#         QBER_Z_LIST += list(QBER_Z)\n",
    "#         break\n",
    "    \n",
    "#     else: \n",
    "#         df_sliced = df.iloc[int(initial):int(final)]\n",
    "#         df_sliced = df_sliced[df_sliced['A_basis_Z'] == df_sliced['B_basis_Z']]\n",
    "#         QBER_Z[199] = compute_QBER_Z(df_sliced)\n",
    "#         QBER_X[199] = compute_QBER_X(df_sliced)\n",
    "\n",
    "#         QBER_X_LIST += list(QBER_X)\n",
    "#         QBER_Z_LIST += list(QBER_Z)\n",
    "    "
   ]
  },
  {
   "cell_type": "code",
   "execution_count": 22,
   "id": "52dd1f46",
   "metadata": {},
   "outputs": [],
   "source": [
    "# np.savetxt('QBER_X_3519.dat',QBER_X_LIST)\n",
    "# np.savetxt('QBER_Z_3519.dat',QBER_Z_LIST)"
   ]
  },
  {
   "cell_type": "code",
   "execution_count": 23,
   "id": "203d1163",
   "metadata": {},
   "outputs": [
    {
     "data": {
      "image/png": "[encoded data removed]",
      "text/plain": [
       "<Figure size 432x288 with 1 Axes>"
      ]
     },
     "metadata": {
      "needs_background": "light"
     },
     "output_type": "display_data"
    }
   ],
   "source": [
    "QBER_X_LIST = np.array(QBER_X_LIST[QBER_X_LIST>0])\n",
    "QBER_Z_LIST = np.array(QBER_Z_LIST[QBER_Z_LIST>0])\n",
    "\n",
    "x = np.array([i/60 for i in range(len(QBER_X_LIST))])\n",
    "plt.plot(x,100*QBER_X_LIST, label='X basis', color='g', linewidth=0.5, alpha = 0.62)\n",
    "plt.axhline(100*np.mean(QBER_X_LIST), color = 'g', linestyle = '--')\n",
    "plt.plot(x,100*QBER_Z_LIST, label='Z basis', color='m', linewidth=0.5, alpha = 0.62)\n",
    "plt.axhline(100*np.mean(QBER_Z_LIST), color = 'm', linestyle = '--')\n",
    "plt.xlabel('Time (min)')\n",
    "plt.ylabel('QBER (%)')\n",
    "plt.xlim([0,60])\n",
    "plt.title('Quantum Bit Error Rate over time')\n",
    "leg = plt.legend(loc='upper left')\n",
    "for line in leg.get_lines():\n",
    "    line.set_linewidth(4.0)\n",
    "plt.grid(linestyle=':', linewidth=1)\n",
    "plt.savefig('QBER.pdf')"
   ]
  },
  {
   "cell_type": "code",
   "execution_count": 24,
   "id": "d97d10be",
   "metadata": {},
   "outputs": [
    {
     "data": {
      "text/plain": [
       "3519"
      ]
     },
     "execution_count": 24,
     "metadata": {},
     "output_type": "execute_result"
    }
   ],
   "source": [
    "len(QBER_X_LIST[QBER_X_LIST>0])"
   ]
  },
  {
   "cell_type": "code",
   "execution_count": 25,
   "id": "2609f933",
   "metadata": {},
   "outputs": [
    {
     "data": {
      "text/plain": [
       "2.2687981730763545"
      ]
     },
     "execution_count": 25,
     "metadata": {},
     "output_type": "execute_result"
    }
   ],
   "source": [
    "np.mean(QBER_Z_LIST[-20:])*100"
   ]
  },
  {
   "cell_type": "code",
   "execution_count": 26,
   "id": "aa0df413",
   "metadata": {},
   "outputs": [
    {
     "data": {
      "text/plain": [
       "2.2687981730763545"
      ]
     },
     "execution_count": 26,
     "metadata": {},
     "output_type": "execute_result"
    }
   ],
   "source": [
    "np.mean(QBER_Z_LIST[-20:])*100"
   ]
  },
  {
   "cell_type": "code",
   "execution_count": 27,
   "id": "15a0e669",
   "metadata": {},
   "outputs": [
    {
     "data": {
      "text/plain": [
       "2.354844945529332"
      ]
     },
     "execution_count": 27,
     "metadata": {},
     "output_type": "execute_result"
    }
   ],
   "source": [
    "np.mean(QBER_Z_LIST[-40:-20])*100"
   ]
  },
  {
   "cell_type": "code",
   "execution_count": 28,
   "id": "aa85cb12",
   "metadata": {},
   "outputs": [
    {
     "data": {
      "text/plain": [
       "1.0225474383503863"
      ]
     },
     "execution_count": 28,
     "metadata": {},
     "output_type": "execute_result"
    }
   ],
   "source": [
    "np.mean(QBER_X_LIST[-40:-20])*100"
   ]
  },
  {
   "cell_type": "code",
   "execution_count": null,
   "id": "8e18c334",
   "metadata": {},
   "outputs": [],
   "source": []
  }
 ],
 "metadata": {
  "kernelspec": {
   "display_name": "Python 3 (ipykernel)",
   "language": "python",
   "name": "python3"
  },
  "language_info": {
   "codemirror_mode": {
    "name": "ipython",
    "version": 3
   },
   "file_extension": ".py",
   "mimetype": "text/x-python",
   "name": "python",
   "nbconvert_exporter": "python",
   "pygments_lexer": "ipython3",
   "version": "3.8.8"
  }
 },
 "nbformat": 4,
 "nbformat_minor": 5
}

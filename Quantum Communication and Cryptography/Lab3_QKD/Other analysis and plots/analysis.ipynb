{
 "cells": [
  {
   "cell_type": "code",
   "execution_count": 9,
   "id": "6a9a6071",
   "metadata": {},
   "outputs": [],
   "source": [
    "import numpy as np\n",
    "import pandas as pd\n",
    "import matplotlib.pyplot as plt\n",
    "from tqdm import tqdm"
   ]
  },
  {
   "cell_type": "markdown",
   "id": "f0884d29",
   "metadata": {},
   "source": [
    "## Read and save data"
   ]
  },
  {
   "cell_type": "code",
   "execution_count": 10,
   "id": "320de416",
   "metadata": {},
   "outputs": [
    {
     "name": "stderr",
     "output_type": "stream",
     "text": [
      "  0%|          | 0/10 [00:00<?, ?it/s]"
     ]
    },
    {
     "name": "stdout",
     "output_type": "stream",
     "text": [
      "a 86447\n",
      "b 43401\n"
     ]
    },
    {
     "name": "stderr",
     "output_type": "stream",
     "text": [
      " 20%|██        | 2/10 [00:03<00:14,  1.82s/it]"
     ]
    },
    {
     "name": "stdout",
     "output_type": "stream",
     "text": [
      "a 85194\n",
      "b 42782\n"
     ]
    },
    {
     "name": "stderr",
     "output_type": "stream",
     "text": [
      " 30%|███       | 3/10 [00:05<00:11,  1.64s/it]"
     ]
    },
    {
     "name": "stdout",
     "output_type": "stream",
     "text": [
      "a 82502\n",
      "b 41837\n"
     ]
    },
    {
     "name": "stderr",
     "output_type": "stream",
     "text": [
      " 40%|████      | 4/10 [00:06<00:09,  1.52s/it]"
     ]
    },
    {
     "name": "stdout",
     "output_type": "stream",
     "text": [
      "a 84509\n",
      "b 42878\n"
     ]
    },
    {
     "name": "stderr",
     "output_type": "stream",
     "text": [
      " 50%|█████     | 5/10 [00:08<00:08,  1.60s/it]"
     ]
    },
    {
     "name": "stdout",
     "output_type": "stream",
     "text": [
      "a 84599\n",
      "b 42587\n"
     ]
    },
    {
     "name": "stderr",
     "output_type": "stream",
     "text": [
      " 60%|██████    | 6/10 [00:09<00:06,  1.51s/it]"
     ]
    },
    {
     "name": "stdout",
     "output_type": "stream",
     "text": [
      "a 82696\n",
      "b 41402\n"
     ]
    },
    {
     "name": "stderr",
     "output_type": "stream",
     "text": [
      " 70%|███████   | 7/10 [00:10<00:04,  1.43s/it]"
     ]
    },
    {
     "name": "stdout",
     "output_type": "stream",
     "text": [
      "a 82898\n",
      "b 41811\n"
     ]
    },
    {
     "name": "stderr",
     "output_type": "stream",
     "text": [
      " 80%|████████  | 8/10 [00:11<00:02,  1.36s/it]"
     ]
    },
    {
     "name": "stdout",
     "output_type": "stream",
     "text": [
      "a 82316\n",
      "b 41381\n"
     ]
    },
    {
     "name": "stderr",
     "output_type": "stream",
     "text": [
      " 90%|█████████ | 9/10 [00:13<00:01,  1.33s/it]"
     ]
    },
    {
     "name": "stdout",
     "output_type": "stream",
     "text": [
      "a 83702\n",
      "b 41954\n"
     ]
    },
    {
     "name": "stderr",
     "output_type": "stream",
     "text": [
      "100%|██████████| 10/10 [00:14<00:00,  1.44s/it]"
     ]
    },
    {
     "name": "stdout",
     "output_type": "stream",
     "text": [
      "a 78756\n",
      "b 39747\n"
     ]
    },
    {
     "name": "stderr",
     "output_type": "stream",
     "text": [
      "\n"
     ]
    }
   ],
   "source": [
    "acq_time = 50 # change here\n",
    "acq_time_steps = 5\n",
    "output_filename = 'alldata5.csv'\n",
    "\n",
    "falice = 'QKD_Lab_data/input-keys.alice'\n",
    "fbob   = 'QKD_Lab_data/input-keys.bob'\n",
    "fdecoy = 'QKD_Lab_data/input-keys.decoy'\n",
    "\n",
    "read_f_alice = open(falice, \"rb\")\n",
    "read_f_bob = open(fbob, \"rb\")\n",
    "read_f_decoy = open(fdecoy, \"rb\")\n",
    "\n",
    "encoding_big = {'0': 'H', '1': 'V', '2': 'D', '3': 'A'}\n",
    "encoding_lit = {'0': 'H', '1': 'D', '2': 'V', '3': 'A'}\n",
    "decoy_lit = {'0' : 'S', '2' : 'W'}\n",
    "\n",
    "def to_states(byte_input, encoding):\n",
    "    num = int.from_bytes(byte_input, byteorder='big', signed=False)\n",
    "    states = [(num & ii) >> jj for (ii,jj) in zip([192,48,12,3],[6,4,2,0])]\n",
    "    states = [encoding[str(states[i])] for i in range(len(states))]\n",
    "    states.reverse()\n",
    "    return states\n",
    "\n",
    "def decode(f, encoding, num=acq_time):\n",
    "    decoded = []\n",
    "    count = 0\n",
    "    while count < num:\n",
    "        N = f.read(8)\n",
    "        N = int.from_bytes(N, 'big')\n",
    "\n",
    "        for _ in range(N):\n",
    "            decoded += to_states(f.read(1), encoding)\n",
    "        count += 1\n",
    "    return decoded\n",
    "\n",
    "\n",
    "def decode_N(f, encoding, block_sizes, num=acq_time):\n",
    "    decoded = []\n",
    "    count = 0\n",
    "    while count < num:\n",
    "        N = f.read(8)\n",
    "        N = int.from_bytes(N, 'big')\n",
    "        block_sizes.append(N)\n",
    "#             pbar = tqdm(range(N))\n",
    "\n",
    "        for _ in range(N):\n",
    "#                 pbar.set_description(f'Processing block {count+1}')\n",
    "            decoded += to_states(f.read(1), encoding)\n",
    "        count += 1\n",
    "    return decoded\n",
    "\n",
    "\n",
    "\n",
    "\n",
    "\n",
    "\n",
    "\n",
    "\n",
    "#LOOP\n",
    "\n",
    "for k in tqdm(np.arange(int(acq_time/acq_time_steps))):\n",
    "    #print('---------- ITERATION %i of %i ----------' % (k+1, acq_time/acq_time_steps))\n",
    "\n",
    "    #print('Reading Alice:')\n",
    "    alice_states = decode(read_f_alice, encoding_lit, num=acq_time_steps)\n",
    "    #print('Reading Bob:')\n",
    "    bob_states   = decode(read_f_bob, encoding_lit, num=acq_time_steps)\n",
    "\n",
    "    block_sizes = []\n",
    "    #print('Reading decoy:')\n",
    "    decoy_states = decode_N(read_f_decoy, decoy_lit, block_sizes, num=acq_time_steps)\n",
    "\n",
    "    column = np.array([])\n",
    "    for (i, bs) in enumerate(block_sizes):\n",
    "        column = np.concatenate([column, np.repeat(i + 1 + k*acq_time_steps, bs)]) \n",
    "\n",
    "    dataset = pd.DataFrame(list(zip(alice_states, bob_states, decoy_states, column)), columns=['A', 'B', 'D', 'N'])\n",
    "    dataset = dataset.astype({'N': 'int16'}) # cast to int\n",
    "    print('a',len(dataset))\n",
    "\n",
    "    #Sifting\n",
    "    dataset['A_basis_Z'] = (dataset['A']=='H') | (dataset['A']=='V')\n",
    "    dataset['B_basis_Z'] = (dataset['B']=='H') | (dataset['B']=='V')\n",
    "    dataset = dataset[dataset['A_basis_Z'] == dataset['B_basis_Z']]\n",
    "    print('b',len(dataset))\n",
    "\n",
    "    dataset.to_csv(output_filename, mode='a', header=False, index=False)\n",
    "    c_names = dataset.columns\n",
    "\n",
    "\n",
    "read_f_alice.close()\n",
    "read_f_bob.close()\n",
    "read_f_decoy.close()"
   ]
  },
  {
   "cell_type": "code",
   "execution_count": 11,
   "id": "7ea566b6",
   "metadata": {},
   "outputs": [
    {
     "name": "stderr",
     "output_type": "stream",
     "text": [
      "  0%|          | 0/5 [00:00<?, ?it/s]"
     ]
    },
    {
     "name": "stdout",
     "output_type": "stream",
     "text": [
      "a 171641\n",
      "b 86397\n"
     ]
    },
    {
     "name": "stderr",
     "output_type": "stream",
     "text": [
      " 20%|██        | 1/5 [00:02<00:11,  2.78s/it]"
     ]
    },
    {
     "name": "stdout",
     "output_type": "stream",
     "text": [
      "a 167011\n",
      "b 84588\n"
     ]
    },
    {
     "name": "stderr",
     "output_type": "stream",
     "text": [
      " 40%|████      | 2/5 [00:05<00:08,  2.77s/it]"
     ]
    },
    {
     "name": "stdout",
     "output_type": "stream",
     "text": [
      "a 167295\n",
      "b 84399\n"
     ]
    },
    {
     "name": "stderr",
     "output_type": "stream",
     "text": [
      " 60%|██████    | 3/5 [00:08<00:05,  2.71s/it]"
     ]
    },
    {
     "name": "stdout",
     "output_type": "stream",
     "text": [
      "a 165214\n",
      "b 83551\n"
     ]
    },
    {
     "name": "stderr",
     "output_type": "stream",
     "text": [
      " 80%|████████  | 4/5 [00:10<00:02,  2.73s/it]"
     ]
    },
    {
     "name": "stdout",
     "output_type": "stream",
     "text": [
      "a 162458\n",
      "b 81676\n"
     ]
    },
    {
     "name": "stderr",
     "output_type": "stream",
     "text": [
      "100%|██████████| 5/5 [00:14<00:00,  2.83s/it]\n"
     ]
    }
   ],
   "source": [
    "acq_time = 50 # change here\n",
    "acq_time_steps = 10\n",
    "output_filename = 'alldata10.csv'\n",
    "\n",
    "falice = 'QKD_Lab_data/input-keys.alice'\n",
    "fbob   = 'QKD_Lab_data/input-keys.bob'\n",
    "fdecoy = 'QKD_Lab_data/input-keys.decoy'\n",
    "\n",
    "read_f_alice = open(falice, \"rb\")\n",
    "read_f_bob = open(fbob, \"rb\")\n",
    "read_f_decoy = open(fdecoy, \"rb\")\n",
    "\n",
    "encoding_big = {'0': 'H', '1': 'V', '2': 'D', '3': 'A'}\n",
    "encoding_lit = {'0': 'H', '1': 'D', '2': 'V', '3': 'A'}\n",
    "decoy_lit = {'0' : 'S', '2' : 'W'}\n",
    "\n",
    "def to_states(byte_input, encoding):\n",
    "    num = int.from_bytes(byte_input, byteorder='big', signed=False)\n",
    "    states = [(num & ii) >> jj for (ii,jj) in zip([192,48,12,3],[6,4,2,0])]\n",
    "    states = [encoding[str(states[i])] for i in range(len(states))]\n",
    "    states.reverse()\n",
    "    return states\n",
    "\n",
    "def decode(f, encoding, num=acq_time):\n",
    "    decoded = []\n",
    "    count = 0\n",
    "    while count < num:\n",
    "        N = f.read(8)\n",
    "        N = int.from_bytes(N, 'big')\n",
    "\n",
    "        for _ in range(N):\n",
    "            decoded += to_states(f.read(1), encoding)\n",
    "        count += 1\n",
    "    return decoded\n",
    "\n",
    "\n",
    "def decode_N(f, encoding, block_sizes, num=acq_time):\n",
    "    decoded = []\n",
    "    count = 0\n",
    "    while count < num:\n",
    "        N = f.read(8)\n",
    "        N = int.from_bytes(N, 'big')\n",
    "        block_sizes.append(N)\n",
    "#             pbar = tqdm(range(N))\n",
    "\n",
    "        for _ in range(N):\n",
    "#                 pbar.set_description(f'Processing block {count+1}')\n",
    "            decoded += to_states(f.read(1), encoding)\n",
    "        count += 1\n",
    "    return decoded\n",
    "\n",
    "\n",
    "\n",
    "\n",
    "\n",
    "\n",
    "\n",
    "\n",
    "#LOOP\n",
    "\n",
    "for k in tqdm(np.arange(int(acq_time/acq_time_steps))):\n",
    "    #print('---------- ITERATION %i of %i ----------' % (k+1, acq_time/acq_time_steps))\n",
    "\n",
    "    #print('Reading Alice:')\n",
    "    alice_states = decode(read_f_alice, encoding_lit, num=acq_time_steps)\n",
    "    #print('Reading Bob:')\n",
    "    bob_states   = decode(read_f_bob, encoding_lit, num=acq_time_steps)\n",
    "\n",
    "    block_sizes = []\n",
    "    #print('Reading decoy:')\n",
    "    decoy_states = decode_N(read_f_decoy, decoy_lit, block_sizes, num=acq_time_steps)\n",
    "\n",
    "    column = np.array([])\n",
    "    for (i, bs) in enumerate(block_sizes):\n",
    "        column = np.concatenate([column, np.repeat(i + 1 + k*acq_time_steps, bs)]) \n",
    "\n",
    "    dataset = pd.DataFrame(list(zip(alice_states, bob_states, decoy_states, column)), columns=['A', 'B', 'D', 'N'])\n",
    "    dataset = dataset.astype({'N': 'int16'}) # cast to int\n",
    "    print('a',len(dataset))\n",
    "\n",
    "    #Sifting\n",
    "    dataset['A_basis_Z'] = (dataset['A']=='H') | (dataset['A']=='V')\n",
    "    dataset['B_basis_Z'] = (dataset['B']=='H') | (dataset['B']=='V')\n",
    "    dataset = dataset[dataset['A_basis_Z'] == dataset['B_basis_Z']]\n",
    "    print('b',len(dataset))\n",
    "\n",
    "    dataset.to_csv(output_filename, mode='a', header=False, index=False)\n",
    "    c_names = dataset.columns\n",
    "\n",
    "\n",
    "read_f_alice.close()\n",
    "read_f_bob.close()\n",
    "read_f_decoy.close()"
   ]
  },
  {
   "cell_type": "code",
   "execution_count": null,
   "id": "ff051614",
   "metadata": {},
   "outputs": [],
   "source": []
  },
  {
   "cell_type": "code",
   "execution_count": 12,
   "id": "850ea0b6",
   "metadata": {},
   "outputs": [
    {
     "data": {
      "text/html": [
       "<div>\n",
       "<style scoped>\n",
       "    .dataframe tbody tr th:only-of-type {\n",
       "        vertical-align: middle;\n",
       "    }\n",
       "\n",
       "    .dataframe tbody tr th {\n",
       "        vertical-align: top;\n",
       "    }\n",
       "\n",
       "    .dataframe thead th {\n",
       "        text-align: right;\n",
       "    }\n",
       "</style>\n",
       "<table border=\"1\" class=\"dataframe\">\n",
       "  <thead>\n",
       "    <tr style=\"text-align: right;\">\n",
       "      <th></th>\n",
       "      <th>A</th>\n",
       "      <th>B</th>\n",
       "      <th>D</th>\n",
       "      <th>N</th>\n",
       "      <th>A_basis_Z</th>\n",
       "      <th>B_basis_Z</th>\n",
       "    </tr>\n",
       "  </thead>\n",
       "  <tbody>\n",
       "    <tr>\n",
       "      <th>0</th>\n",
       "      <td>V</td>\n",
       "      <td>V</td>\n",
       "      <td>S</td>\n",
       "      <td>1</td>\n",
       "      <td>True</td>\n",
       "      <td>True</td>\n",
       "    </tr>\n",
       "    <tr>\n",
       "      <th>1</th>\n",
       "      <td>H</td>\n",
       "      <td>H</td>\n",
       "      <td>S</td>\n",
       "      <td>1</td>\n",
       "      <td>True</td>\n",
       "      <td>True</td>\n",
       "    </tr>\n",
       "    <tr>\n",
       "      <th>2</th>\n",
       "      <td>V</td>\n",
       "      <td>V</td>\n",
       "      <td>S</td>\n",
       "      <td>1</td>\n",
       "      <td>True</td>\n",
       "      <td>True</td>\n",
       "    </tr>\n",
       "    <tr>\n",
       "      <th>3</th>\n",
       "      <td>H</td>\n",
       "      <td>H</td>\n",
       "      <td>S</td>\n",
       "      <td>1</td>\n",
       "      <td>True</td>\n",
       "      <td>True</td>\n",
       "    </tr>\n",
       "    <tr>\n",
       "      <th>4</th>\n",
       "      <td>H</td>\n",
       "      <td>H</td>\n",
       "      <td>S</td>\n",
       "      <td>1</td>\n",
       "      <td>True</td>\n",
       "      <td>True</td>\n",
       "    </tr>\n",
       "    <tr>\n",
       "      <th>...</th>\n",
       "      <td>...</td>\n",
       "      <td>...</td>\n",
       "      <td>...</td>\n",
       "      <td>...</td>\n",
       "      <td>...</td>\n",
       "      <td>...</td>\n",
       "    </tr>\n",
       "    <tr>\n",
       "      <th>420606</th>\n",
       "      <td>H</td>\n",
       "      <td>H</td>\n",
       "      <td>S</td>\n",
       "      <td>50</td>\n",
       "      <td>True</td>\n",
       "      <td>True</td>\n",
       "    </tr>\n",
       "    <tr>\n",
       "      <th>420607</th>\n",
       "      <td>V</td>\n",
       "      <td>V</td>\n",
       "      <td>S</td>\n",
       "      <td>50</td>\n",
       "      <td>True</td>\n",
       "      <td>True</td>\n",
       "    </tr>\n",
       "    <tr>\n",
       "      <th>420608</th>\n",
       "      <td>H</td>\n",
       "      <td>H</td>\n",
       "      <td>S</td>\n",
       "      <td>50</td>\n",
       "      <td>True</td>\n",
       "      <td>True</td>\n",
       "    </tr>\n",
       "    <tr>\n",
       "      <th>420609</th>\n",
       "      <td>H</td>\n",
       "      <td>H</td>\n",
       "      <td>S</td>\n",
       "      <td>50</td>\n",
       "      <td>True</td>\n",
       "      <td>True</td>\n",
       "    </tr>\n",
       "    <tr>\n",
       "      <th>420610</th>\n",
       "      <td>V</td>\n",
       "      <td>V</td>\n",
       "      <td>W</td>\n",
       "      <td>50</td>\n",
       "      <td>True</td>\n",
       "      <td>True</td>\n",
       "    </tr>\n",
       "  </tbody>\n",
       "</table>\n",
       "<p>420611 rows × 6 columns</p>\n",
       "</div>"
      ],
      "text/plain": [
       "        A  B  D   N  A_basis_Z  B_basis_Z\n",
       "0       V  V  S   1       True       True\n",
       "1       H  H  S   1       True       True\n",
       "2       V  V  S   1       True       True\n",
       "3       H  H  S   1       True       True\n",
       "4       H  H  S   1       True       True\n",
       "...    .. .. ..  ..        ...        ...\n",
       "420606  H  H  S  50       True       True\n",
       "420607  V  V  S  50       True       True\n",
       "420608  H  H  S  50       True       True\n",
       "420609  H  H  S  50       True       True\n",
       "420610  V  V  W  50       True       True\n",
       "\n",
       "[420611 rows x 6 columns]"
      ]
     },
     "execution_count": 12,
     "metadata": {},
     "output_type": "execute_result"
    }
   ],
   "source": [
    "output_filename = 'alldata10.csv'\n",
    "data10 = pd.read_csv(output_filename, header=None, names = c_names)\n",
    "data10"
   ]
  },
  {
   "cell_type": "code",
   "execution_count": 13,
   "id": "aa1f1af2",
   "metadata": {},
   "outputs": [
    {
     "data": {
      "text/html": [
       "<div>\n",
       "<style scoped>\n",
       "    .dataframe tbody tr th:only-of-type {\n",
       "        vertical-align: middle;\n",
       "    }\n",
       "\n",
       "    .dataframe tbody tr th {\n",
       "        vertical-align: top;\n",
       "    }\n",
       "\n",
       "    .dataframe thead th {\n",
       "        text-align: right;\n",
       "    }\n",
       "</style>\n",
       "<table border=\"1\" class=\"dataframe\">\n",
       "  <thead>\n",
       "    <tr style=\"text-align: right;\">\n",
       "      <th></th>\n",
       "      <th>A</th>\n",
       "      <th>B</th>\n",
       "      <th>D</th>\n",
       "      <th>N</th>\n",
       "      <th>A_basis_Z</th>\n",
       "      <th>B_basis_Z</th>\n",
       "    </tr>\n",
       "  </thead>\n",
       "  <tbody>\n",
       "    <tr>\n",
       "      <th>0</th>\n",
       "      <td>V</td>\n",
       "      <td>V</td>\n",
       "      <td>S</td>\n",
       "      <td>1</td>\n",
       "      <td>True</td>\n",
       "      <td>True</td>\n",
       "    </tr>\n",
       "    <tr>\n",
       "      <th>1</th>\n",
       "      <td>H</td>\n",
       "      <td>H</td>\n",
       "      <td>S</td>\n",
       "      <td>1</td>\n",
       "      <td>True</td>\n",
       "      <td>True</td>\n",
       "    </tr>\n",
       "    <tr>\n",
       "      <th>2</th>\n",
       "      <td>V</td>\n",
       "      <td>V</td>\n",
       "      <td>S</td>\n",
       "      <td>1</td>\n",
       "      <td>True</td>\n",
       "      <td>True</td>\n",
       "    </tr>\n",
       "    <tr>\n",
       "      <th>3</th>\n",
       "      <td>H</td>\n",
       "      <td>H</td>\n",
       "      <td>S</td>\n",
       "      <td>1</td>\n",
       "      <td>True</td>\n",
       "      <td>True</td>\n",
       "    </tr>\n",
       "    <tr>\n",
       "      <th>4</th>\n",
       "      <td>H</td>\n",
       "      <td>H</td>\n",
       "      <td>S</td>\n",
       "      <td>1</td>\n",
       "      <td>True</td>\n",
       "      <td>True</td>\n",
       "    </tr>\n",
       "    <tr>\n",
       "      <th>...</th>\n",
       "      <td>...</td>\n",
       "      <td>...</td>\n",
       "      <td>...</td>\n",
       "      <td>...</td>\n",
       "      <td>...</td>\n",
       "      <td>...</td>\n",
       "    </tr>\n",
       "    <tr>\n",
       "      <th>419775</th>\n",
       "      <td>V</td>\n",
       "      <td>V</td>\n",
       "      <td>S</td>\n",
       "      <td>50</td>\n",
       "      <td>True</td>\n",
       "      <td>True</td>\n",
       "    </tr>\n",
       "    <tr>\n",
       "      <th>419776</th>\n",
       "      <td>V</td>\n",
       "      <td>V</td>\n",
       "      <td>S</td>\n",
       "      <td>50</td>\n",
       "      <td>True</td>\n",
       "      <td>True</td>\n",
       "    </tr>\n",
       "    <tr>\n",
       "      <th>419777</th>\n",
       "      <td>V</td>\n",
       "      <td>V</td>\n",
       "      <td>S</td>\n",
       "      <td>50</td>\n",
       "      <td>True</td>\n",
       "      <td>True</td>\n",
       "    </tr>\n",
       "    <tr>\n",
       "      <th>419778</th>\n",
       "      <td>V</td>\n",
       "      <td>V</td>\n",
       "      <td>S</td>\n",
       "      <td>50</td>\n",
       "      <td>True</td>\n",
       "      <td>True</td>\n",
       "    </tr>\n",
       "    <tr>\n",
       "      <th>419779</th>\n",
       "      <td>H</td>\n",
       "      <td>H</td>\n",
       "      <td>S</td>\n",
       "      <td>50</td>\n",
       "      <td>True</td>\n",
       "      <td>True</td>\n",
       "    </tr>\n",
       "  </tbody>\n",
       "</table>\n",
       "<p>419780 rows × 6 columns</p>\n",
       "</div>"
      ],
      "text/plain": [
       "        A  B  D   N  A_basis_Z  B_basis_Z\n",
       "0       V  V  S   1       True       True\n",
       "1       H  H  S   1       True       True\n",
       "2       V  V  S   1       True       True\n",
       "3       H  H  S   1       True       True\n",
       "4       H  H  S   1       True       True\n",
       "...    .. .. ..  ..        ...        ...\n",
       "419775  V  V  S  50       True       True\n",
       "419776  V  V  S  50       True       True\n",
       "419777  V  V  S  50       True       True\n",
       "419778  V  V  S  50       True       True\n",
       "419779  H  H  S  50       True       True\n",
       "\n",
       "[419780 rows x 6 columns]"
      ]
     },
     "execution_count": 13,
     "metadata": {},
     "output_type": "execute_result"
    }
   ],
   "source": [
    "output_filename = 'alldata5.csv'\n",
    "data5 = pd.read_csv(output_filename, header=None, names = c_names)\n",
    "data5"
   ]
  },
  {
   "cell_type": "code",
   "execution_count": 17,
   "id": "949cb889",
   "metadata": {},
   "outputs": [
    {
     "data": {
      "text/html": [
       "<div>\n",
       "<style scoped>\n",
       "    .dataframe tbody tr th:only-of-type {\n",
       "        vertical-align: middle;\n",
       "    }\n",
       "\n",
       "    .dataframe tbody tr th {\n",
       "        vertical-align: top;\n",
       "    }\n",
       "\n",
       "    .dataframe thead th {\n",
       "        text-align: right;\n",
       "    }\n",
       "</style>\n",
       "<table border=\"1\" class=\"dataframe\">\n",
       "  <thead>\n",
       "    <tr style=\"text-align: right;\">\n",
       "      <th></th>\n",
       "      <th>A</th>\n",
       "      <th>B</th>\n",
       "      <th>D</th>\n",
       "      <th>N</th>\n",
       "      <th>A_basis_Z</th>\n",
       "      <th>B_basis_Z</th>\n",
       "    </tr>\n",
       "  </thead>\n",
       "  <tbody>\n",
       "    <tr>\n",
       "      <th>0</th>\n",
       "      <td>True</td>\n",
       "      <td>True</td>\n",
       "      <td>True</td>\n",
       "      <td>True</td>\n",
       "      <td>True</td>\n",
       "      <td>True</td>\n",
       "    </tr>\n",
       "    <tr>\n",
       "      <th>1</th>\n",
       "      <td>True</td>\n",
       "      <td>True</td>\n",
       "      <td>True</td>\n",
       "      <td>True</td>\n",
       "      <td>True</td>\n",
       "      <td>True</td>\n",
       "    </tr>\n",
       "    <tr>\n",
       "      <th>2</th>\n",
       "      <td>True</td>\n",
       "      <td>True</td>\n",
       "      <td>True</td>\n",
       "      <td>True</td>\n",
       "      <td>True</td>\n",
       "      <td>True</td>\n",
       "    </tr>\n",
       "    <tr>\n",
       "      <th>3</th>\n",
       "      <td>True</td>\n",
       "      <td>True</td>\n",
       "      <td>True</td>\n",
       "      <td>True</td>\n",
       "      <td>True</td>\n",
       "      <td>True</td>\n",
       "    </tr>\n",
       "    <tr>\n",
       "      <th>4</th>\n",
       "      <td>True</td>\n",
       "      <td>True</td>\n",
       "      <td>True</td>\n",
       "      <td>True</td>\n",
       "      <td>True</td>\n",
       "      <td>True</td>\n",
       "    </tr>\n",
       "    <tr>\n",
       "      <th>...</th>\n",
       "      <td>...</td>\n",
       "      <td>...</td>\n",
       "      <td>...</td>\n",
       "      <td>...</td>\n",
       "      <td>...</td>\n",
       "      <td>...</td>\n",
       "    </tr>\n",
       "    <tr>\n",
       "      <th>419775</th>\n",
       "      <td>True</td>\n",
       "      <td>True</td>\n",
       "      <td>True</td>\n",
       "      <td>True</td>\n",
       "      <td>True</td>\n",
       "      <td>True</td>\n",
       "    </tr>\n",
       "    <tr>\n",
       "      <th>419776</th>\n",
       "      <td>False</td>\n",
       "      <td>False</td>\n",
       "      <td>True</td>\n",
       "      <td>True</td>\n",
       "      <td>True</td>\n",
       "      <td>True</td>\n",
       "    </tr>\n",
       "    <tr>\n",
       "      <th>419777</th>\n",
       "      <td>True</td>\n",
       "      <td>True</td>\n",
       "      <td>True</td>\n",
       "      <td>True</td>\n",
       "      <td>True</td>\n",
       "      <td>True</td>\n",
       "    </tr>\n",
       "    <tr>\n",
       "      <th>419778</th>\n",
       "      <td>True</td>\n",
       "      <td>True</td>\n",
       "      <td>True</td>\n",
       "      <td>True</td>\n",
       "      <td>True</td>\n",
       "      <td>True</td>\n",
       "    </tr>\n",
       "    <tr>\n",
       "      <th>419779</th>\n",
       "      <td>True</td>\n",
       "      <td>True</td>\n",
       "      <td>True</td>\n",
       "      <td>True</td>\n",
       "      <td>True</td>\n",
       "      <td>True</td>\n",
       "    </tr>\n",
       "  </tbody>\n",
       "</table>\n",
       "<p>419780 rows × 6 columns</p>\n",
       "</div>"
      ],
      "text/plain": [
       "            A      B     D     N  A_basis_Z  B_basis_Z\n",
       "0        True   True  True  True       True       True\n",
       "1        True   True  True  True       True       True\n",
       "2        True   True  True  True       True       True\n",
       "3        True   True  True  True       True       True\n",
       "4        True   True  True  True       True       True\n",
       "...       ...    ...   ...   ...        ...        ...\n",
       "419775   True   True  True  True       True       True\n",
       "419776  False  False  True  True       True       True\n",
       "419777   True   True  True  True       True       True\n",
       "419778   True   True  True  True       True       True\n",
       "419779   True   True  True  True       True       True\n",
       "\n",
       "[419780 rows x 6 columns]"
      ]
     },
     "execution_count": 17,
     "metadata": {},
     "output_type": "execute_result"
    }
   ],
   "source": [
    "data10.loc[:419779,:] == data5.loc[:419779,:]"
   ]
  },
  {
   "cell_type": "code",
   "execution_count": 19,
   "id": "997adeba",
   "metadata": {},
   "outputs": [
    {
     "data": {
      "text/plain": [
       "A            object\n",
       "B            object\n",
       "D            object\n",
       "N             int64\n",
       "A_basis_Z      bool\n",
       "B_basis_Z      bool\n",
       "dtype: object"
      ]
     },
     "execution_count": 19,
     "metadata": {},
     "output_type": "execute_result"
    }
   ],
   "source": [
    "data10.dtypes"
   ]
  },
  {
   "cell_type": "code",
   "execution_count": 5,
   "id": "45088e51",
   "metadata": {},
   "outputs": [
    {
     "name": "stderr",
     "output_type": "stream",
     "text": [
      "  0%|          | 0/5 [00:00<?, ?it/s]"
     ]
    },
    {
     "name": "stdout",
     "output_type": "stream",
     "text": [
      "a 171641\n",
      "b 129842\n"
     ]
    },
    {
     "name": "stderr",
     "output_type": "stream",
     "text": [
      " 20%|██        | 1/5 [00:02<00:11,  2.79s/it]"
     ]
    },
    {
     "name": "stdout",
     "output_type": "stream",
     "text": [
      "a 167011\n",
      "b 126628\n"
     ]
    },
    {
     "name": "stderr",
     "output_type": "stream",
     "text": [
      " 40%|████      | 2/5 [00:05<00:08,  2.82s/it]"
     ]
    },
    {
     "name": "stdout",
     "output_type": "stream",
     "text": [
      "a 167295\n",
      "b 127119\n"
     ]
    },
    {
     "name": "stderr",
     "output_type": "stream",
     "text": [
      " 60%|██████    | 3/5 [00:09<00:06,  3.33s/it]"
     ]
    },
    {
     "name": "stdout",
     "output_type": "stream",
     "text": [
      "a 165214\n",
      "b 125347\n"
     ]
    },
    {
     "name": "stderr",
     "output_type": "stream",
     "text": [
      " 80%|████████  | 4/5 [00:12<00:03,  3.18s/it]"
     ]
    },
    {
     "name": "stdout",
     "output_type": "stream",
     "text": [
      "a 162458\n",
      "b 123051\n"
     ]
    },
    {
     "name": "stderr",
     "output_type": "stream",
     "text": [
      "100%|██████████| 5/5 [00:15<00:00,  3.00s/it]\n"
     ]
    }
   ],
   "source": [
    "acq_time = 50 # change here\n",
    "acq_time_steps = 10\n",
    "output_filename = 'alldata5.csv'\n",
    "\n",
    "falice = 'QKD_Lab_data/input-keys.alice'\n",
    "fbob   = 'QKD_Lab_data/input-keys.bob'\n",
    "fdecoy = 'QKD_Lab_data/input-keys.decoy'\n",
    "\n",
    "read_f_alice = open(falice, \"rb\")\n",
    "read_f_bob = open(fbob, \"rb\")\n",
    "read_f_decoy = open(fdecoy, \"rb\")\n",
    "\n",
    "encoding_big = {'0': 'H', '1': 'V', '2': 'D', '3': 'A'}\n",
    "encoding_lit = {'0': 'H', '1': 'D', '2': 'V', '3': 'A'}\n",
    "decoy_lit = {'0' : 'S', '2' : 'W'}\n",
    "\n",
    "def to_states(byte_input, encoding):\n",
    "    num = int.from_bytes(byte_input, byteorder='big', signed=False)\n",
    "    states = [(num & ii) >> jj for (ii,jj) in zip([192,48,12,3],[6,4,2,0])]\n",
    "    states = [encoding[str(states[i])] for i in range(len(states))]\n",
    "    states.reverse()\n",
    "    return states\n",
    "\n",
    "def decode(f, encoding, num=acq_time_steps):\n",
    "    decoded = []\n",
    "    count = 0\n",
    "    while count < num:\n",
    "        N = f.read(8)\n",
    "        N = int.from_bytes(N, 'big')\n",
    "\n",
    "        for _ in range(N):\n",
    "            decoded += to_states(f.read(1), encoding)\n",
    "        count += 1\n",
    "    return decoded\n",
    "\n",
    "\n",
    "def decode_N(f, encoding, block_sizes, num=acq_time_steps):\n",
    "    decoded = []\n",
    "    count = 0\n",
    "    while count < num:\n",
    "        N = f.read(8)\n",
    "        N = int.from_bytes(N, 'big')\n",
    "        block_sizes.append(N)\n",
    "#             pbar = tqdm(range(N))\n",
    "\n",
    "        for _ in range(N):\n",
    "#                 pbar.set_description(f'Processing block {count+1}')\n",
    "            decoded += to_states(f.read(1), encoding)\n",
    "        count += 1\n",
    "    return decoded\n",
    "\n",
    "\n",
    "\n",
    "\n",
    "\n",
    "\n",
    "\n",
    "\n",
    "#LOOP\n",
    "\n",
    "for k in tqdm(np.arange(int(acq_time/acq_time_steps))):\n",
    "    #print('---------- ITERATION %i of %i ----------' % (k+1, acq_time/acq_time_steps))\n",
    "\n",
    "    #print('Reading Alice:')\n",
    "    alice_states = decode(read_f_alice, encoding_big, num=acq_time_steps)\n",
    "    #print('Reading Bob:')\n",
    "    bob_states   = decode(read_f_bob, encoding_big, num=acq_time_steps)\n",
    "\n",
    "    block_sizes = []\n",
    "    #print('Reading decoy:')\n",
    "    decoy_states = decode_N(read_f_decoy, decoy_lit, block_sizes, num=acq_time_steps)\n",
    "\n",
    "    column = np.array([])\n",
    "    for (i, bs) in enumerate(block_sizes):\n",
    "        column = np.concatenate([column, np.repeat(i + 1 + k*acq_time_steps, bs)]) \n",
    "\n",
    "    dataset = pd.DataFrame(list(zip(alice_states, bob_states, decoy_states, column)), columns=['A', 'B', 'D', 'N'])\n",
    "    dataset = dataset.astype({'N': 'int16'}) # cast to int\n",
    "    print('a',len(dataset))\n",
    "\n",
    "    #Sifting\n",
    "    dataset['A_basis_Z'] = (dataset['A']=='H') | (dataset['A']=='V')\n",
    "    dataset['B_basis_Z'] = (dataset['B']=='H') | (dataset['B']=='V')\n",
    "    dataset = dataset[dataset['A_basis_Z'] == dataset['B_basis_Z']]\n",
    "    print('b',len(dataset))\n",
    "\n",
    "    dataset.to_csv(output_filename, mode='a', header=False, index=False)\n",
    "    c_names = dataset.columns\n",
    "\n",
    "\n",
    "read_f_alice.close()\n",
    "read_f_bob.close()\n",
    "read_f_decoy.close()"
   ]
  },
  {
   "cell_type": "code",
   "execution_count": 19,
   "id": "8e7bec9f",
   "metadata": {},
   "outputs": [
    {
     "data": {
      "text/plain": [
       "A               V\n",
       "B               V\n",
       "D               S\n",
       "N              50\n",
       "A_basis_Z    True\n",
       "B_basis_Z    True\n",
       "Name: 419776, dtype: object"
      ]
     },
     "execution_count": 19,
     "metadata": {},
     "output_type": "execute_result"
    }
   ],
   "source": [
    "data2.loc[419776,:]"
   ]
  },
  {
   "cell_type": "code",
   "execution_count": 7,
   "id": "c62b5e78",
   "metadata": {},
   "outputs": [
    {
     "data": {
      "text/plain": [
       "65093"
      ]
     },
     "execution_count": 7,
     "metadata": {},
     "output_type": "execute_result"
    }
   ],
   "source": [
    "\n",
    "sum(dataset.A_basis_Z)"
   ]
  },
  {
   "cell_type": "code",
   "execution_count": 8,
   "id": "60c806cc",
   "metadata": {},
   "outputs": [
    {
     "data": {
      "text/html": [
       "<div>\n",
       "<style scoped>\n",
       "    .dataframe tbody tr th:only-of-type {\n",
       "        vertical-align: middle;\n",
       "    }\n",
       "\n",
       "    .dataframe tbody tr th {\n",
       "        vertical-align: top;\n",
       "    }\n",
       "\n",
       "    .dataframe thead th {\n",
       "        text-align: right;\n",
       "    }\n",
       "</style>\n",
       "<table border=\"1\" class=\"dataframe\">\n",
       "  <thead>\n",
       "    <tr style=\"text-align: right;\">\n",
       "      <th></th>\n",
       "      <th>A</th>\n",
       "      <th>B</th>\n",
       "      <th>D</th>\n",
       "      <th>N</th>\n",
       "      <th>A_basis_Z</th>\n",
       "      <th>B_basis_Z</th>\n",
       "    </tr>\n",
       "  </thead>\n",
       "  <tbody>\n",
       "    <tr>\n",
       "      <th>3</th>\n",
       "      <td>D</td>\n",
       "      <td>D</td>\n",
       "      <td>S</td>\n",
       "      <td>41</td>\n",
       "      <td>False</td>\n",
       "      <td>False</td>\n",
       "    </tr>\n",
       "    <tr>\n",
       "      <th>4</th>\n",
       "      <td>D</td>\n",
       "      <td>A</td>\n",
       "      <td>S</td>\n",
       "      <td>41</td>\n",
       "      <td>False</td>\n",
       "      <td>False</td>\n",
       "    </tr>\n",
       "    <tr>\n",
       "      <th>5</th>\n",
       "      <td>D</td>\n",
       "      <td>D</td>\n",
       "      <td>S</td>\n",
       "      <td>41</td>\n",
       "      <td>False</td>\n",
       "      <td>False</td>\n",
       "    </tr>\n",
       "    <tr>\n",
       "      <th>7</th>\n",
       "      <td>H</td>\n",
       "      <td>H</td>\n",
       "      <td>S</td>\n",
       "      <td>41</td>\n",
       "      <td>True</td>\n",
       "      <td>True</td>\n",
       "    </tr>\n",
       "    <tr>\n",
       "      <th>8</th>\n",
       "      <td>D</td>\n",
       "      <td>D</td>\n",
       "      <td>S</td>\n",
       "      <td>41</td>\n",
       "      <td>False</td>\n",
       "      <td>False</td>\n",
       "    </tr>\n",
       "    <tr>\n",
       "      <th>...</th>\n",
       "      <td>...</td>\n",
       "      <td>...</td>\n",
       "      <td>...</td>\n",
       "      <td>...</td>\n",
       "      <td>...</td>\n",
       "      <td>...</td>\n",
       "    </tr>\n",
       "    <tr>\n",
       "      <th>162451</th>\n",
       "      <td>H</td>\n",
       "      <td>V</td>\n",
       "      <td>S</td>\n",
       "      <td>50</td>\n",
       "      <td>True</td>\n",
       "      <td>True</td>\n",
       "    </tr>\n",
       "    <tr>\n",
       "      <th>162453</th>\n",
       "      <td>H</td>\n",
       "      <td>H</td>\n",
       "      <td>S</td>\n",
       "      <td>50</td>\n",
       "      <td>True</td>\n",
       "      <td>True</td>\n",
       "    </tr>\n",
       "    <tr>\n",
       "      <th>162454</th>\n",
       "      <td>H</td>\n",
       "      <td>H</td>\n",
       "      <td>S</td>\n",
       "      <td>50</td>\n",
       "      <td>True</td>\n",
       "      <td>True</td>\n",
       "    </tr>\n",
       "    <tr>\n",
       "      <th>162455</th>\n",
       "      <td>H</td>\n",
       "      <td>V</td>\n",
       "      <td>S</td>\n",
       "      <td>50</td>\n",
       "      <td>True</td>\n",
       "      <td>True</td>\n",
       "    </tr>\n",
       "    <tr>\n",
       "      <th>162457</th>\n",
       "      <td>D</td>\n",
       "      <td>D</td>\n",
       "      <td>W</td>\n",
       "      <td>50</td>\n",
       "      <td>False</td>\n",
       "      <td>False</td>\n",
       "    </tr>\n",
       "  </tbody>\n",
       "</table>\n",
       "<p>123051 rows × 6 columns</p>\n",
       "</div>"
      ],
      "text/plain": [
       "        A  B  D   N  A_basis_Z  B_basis_Z\n",
       "3       D  D  S  41      False      False\n",
       "4       D  A  S  41      False      False\n",
       "5       D  D  S  41      False      False\n",
       "7       H  H  S  41       True       True\n",
       "8       D  D  S  41      False      False\n",
       "...    .. .. ..  ..        ...        ...\n",
       "162451  H  V  S  50       True       True\n",
       "162453  H  H  S  50       True       True\n",
       "162454  H  H  S  50       True       True\n",
       "162455  H  V  S  50       True       True\n",
       "162457  D  D  W  50      False      False\n",
       "\n",
       "[123051 rows x 6 columns]"
      ]
     },
     "execution_count": 8,
     "metadata": {},
     "output_type": "execute_result"
    }
   ],
   "source": [
    "dataset"
   ]
  },
  {
   "cell_type": "code",
   "execution_count": 7,
   "id": "e0fe4f40",
   "metadata": {},
   "outputs": [],
   "source": [
    "dataset['A_basis_Z'] = (dataset['A']=='H') | (dataset['A']=='V')\n",
    "dataset['B_basis_Z'] = (dataset['B']=='H') | (dataset['B']=='V')\n",
    "dataset['Sifting']   = dataset['A_basis_Z'] == dataset['B_basis_Z']"
   ]
  },
  {
   "cell_type": "code",
   "execution_count": 8,
   "id": "9582263f",
   "metadata": {},
   "outputs": [],
   "source": [
    "sifted_data = dataset[dataset['Sifting'] == True]\n",
    "# sifted_data.drop('Sifting')\n",
    "\n",
    "# save df to csv file\n",
    "# sifted_data.to_csv('sifted.csv', index=False)"
   ]
  },
  {
   "cell_type": "markdown",
   "id": "a968d279",
   "metadata": {},
   "source": [
    "## Analysis"
   ]
  },
  {
   "cell_type": "code",
   "execution_count": 9,
   "id": "524834ec",
   "metadata": {},
   "outputs": [],
   "source": [
    "p_t_HV = .90\n",
    "p_t_D  = .10\n",
    "\n",
    "p_r_HV = .50\n",
    "p_r_DA = .50\n",
    "\n",
    "p_d_S  = .70\n",
    "p_d_W  = .30\n",
    "\n",
    "mu1 = 0.4699\n",
    "mu2 = 0.1093"
   ]
  },
  {
   "cell_type": "code",
   "execution_count": 10,
   "id": "ff5a1353",
   "metadata": {},
   "outputs": [],
   "source": [
    "def count_Z(df):\n",
    "    n_Z    = sum(df['B_basis_Z'])\n",
    "    df_mZ  = df[(df['A_basis_Z']) & (df['B_basis_Z'])]\n",
    "    m_Z    = len(df_mZ[df_mZ['A']!= df_mZ['B']])\n",
    "    \n",
    "    return n_Z, m_Z\n",
    "\n",
    "def compute_QBER_Z(df):\n",
    "    n_Z, m_Z = count_Z(df)\n",
    "    QBER_Z = m_Z / n_Z\n",
    "\n",
    "    return QBER_Z\n",
    "    \n",
    "def count_X(df):\n",
    "    n_X    = len(df) - sum(df['B_basis_Z'])\n",
    "    df_mX  = df[ ~ ((df['A_basis_Z']) | (df['B_basis_Z']))]\n",
    "    m_X    = len(df_mX[df_mX['A'] != df_mX['B']])\n",
    "    \n",
    "    return n_X, m_X\n",
    "\n",
    "def compute_QBER_X(df):\n",
    "    n_X, m_X = count_X(df)\n",
    "    QBER_X = m_X / n_X\n",
    "                 \n",
    "    return QBER_X"
   ]
  },
  {
   "cell_type": "code",
   "execution_count": 30,
   "id": "44177a7a",
   "metadata": {},
   "outputs": [
    {
     "data": {
      "text/plain": [
       "Index(['A', 'B', 'D', 'N', 'A_basis_Z', 'B_basis_Z', 'Sifting'], dtype='object')"
      ]
     },
     "execution_count": 30,
     "metadata": {},
     "output_type": "execute_result"
    }
   ],
   "source": [
    "c_names"
   ]
  },
  {
   "cell_type": "code",
   "execution_count": 11,
   "id": "f9096fe4",
   "metadata": {},
   "outputs": [
    {
     "data": {
      "text/plain": [
       "0.011809600061985873"
      ]
     },
     "execution_count": 11,
     "metadata": {},
     "output_type": "execute_result"
    }
   ],
   "source": [
    "compute_QBER_X(sifted_data)\n"
   ]
  },
  {
   "cell_type": "code",
   "execution_count": 12,
   "id": "1696e599",
   "metadata": {},
   "outputs": [
    {
     "data": {
      "text/plain": [
       "0.015714597341040255"
      ]
     },
     "execution_count": 12,
     "metadata": {},
     "output_type": "execute_result"
    }
   ],
   "source": [
    "compute_QBER_Z(sifted_data)"
   ]
  },
  {
   "cell_type": "code",
   "execution_count": 13,
   "id": "7886deb0",
   "metadata": {},
   "outputs": [],
   "source": [
    "def delta(n,eps):\n",
    "    return np.sqrt(n*np.log(1/eps)*0.5)\n",
    "\n",
    "def tau(n):\n",
    "    strong_term = (p_d_S * np.exp(-mu1) * mu1**n) / np.math.factorial(n)\n",
    "    weak_term = (p_d_W * np.exp(-mu2) * mu2**n) / np.math.factorial(n)\n",
    "    return strong_term + weak_term\n",
    "\n",
    "def gamma(a,b,c,d):\n",
    "    fact1 = ((c+d)*(1-b)*b) / (c*d*np.log(2))\n",
    "    fact2 = ((c+d)*21**2) / ((c*d)*(1-b)*b*a**2)\n",
    "    return np.sqrt(fact1 * np.log2(fact2))"
   ]
  },
  {
   "cell_type": "code",
   "execution_count": 14,
   "id": "94a78ced",
   "metadata": {},
   "outputs": [],
   "source": [
    "eps_sec = 1e-9\n",
    "eps_cor = 1e-15\n",
    "eps1    = 1/19 * eps_sec #define once for all\n",
    "eps2    = 1/19 * eps_sec\n",
    "\n",
    "# A16 + A14\n",
    "def esse_u_basis_0(n_Z, m_Z, m_Z_mu1, m_Z_mu2):\n",
    "    suz01 = 2 * ( tau(0) * (np.exp(mu1)/p_d_S) * (m_Z_mu1 + delta(m_Z, eps2)) + delta(n_Z, eps1) )\n",
    "    suz02 = 2 * ( tau(0) * (np.exp(mu2)/p_d_W) * (m_Z_mu2 + delta(m_Z, eps2)) + delta(n_Z, eps1) )\n",
    "    suz03 = 2 * ( m_Z + delta(n_Z, eps1) )\n",
    "    \n",
    "    return min(suz01, suz02, suz03)\n",
    "\n",
    "# A17\n",
    "def esse_l_basis_1(n_Z_mu1, n_Z_mu2, n_Z, suz0):\n",
    "    return (tau(1)*mu1)/(mu2*(mu1-mu2)) * ( (n_Z_mu2 - delta(n_Z, eps1))                     \\\n",
    "                                            - (mu2**2/mu1**2) * (n_Z_mu1 + delta(n_Z, eps1)) \\\n",
    "                                            - (mu1**2-mu2**2)/(mu1**2) * (suz0 / tau(0)) )\n",
    "\n",
    "# A19\n",
    "def esse_l_basis_0(n_Z, n_Z_mu1, n_Z_mu2):\n",
    "    res = (tau(0)/(mu1 - mu2)) * (mu1*(n_Z_mu2 - delta(n_Z, eps1)) - mu2*(n_Z_mu1 + delta(n_Z, eps1)))\n",
    "    return max(res, 0)\n",
    "\n",
    "# A22\n",
    "def vi_u_X_1(m_X, m_X_mu1, m_X_mu2):\n",
    "    return (tau(1)/(mu1 - mu2)) * ((m_X_mu1 + delta(m_X, eps2)) - (m_X_mu2 - delta(m_X, eps2)))\n",
    "\n",
    "# A23\n",
    "def phi_u_Z(v_x, s_x, s_z):\n",
    "    r = v_x / s_x\n",
    "    return r + gamma(eps_sec, r, s_z, s_x)\n",
    "\n",
    "def h_2(x):\n",
    "    return - x * np.log2(x) - (1-x) * np.log2(1-x)\n",
    "\n",
    "# EQ1 : SKL\n",
    "def ell(s0, s1, phi, QBER_Z):\n",
    "    f = 1.5 # from 1.3 to 1.8\n",
    "    lambda_EC = f * h_2(QBER_Z)\n",
    "    return s0 + s1*(1 - h_2(phi)) - lambda_EC - 6 * np.log2(19 / eps_sec) - np.log2(2 / eps_cor)"
   ]
  },
  {
   "cell_type": "code",
   "execution_count": 15,
   "id": "0196b7fe",
   "metadata": {},
   "outputs": [],
   "source": [
    "# compute m_Z_k\n",
    "n_Z_S, m_Z_S = count_Z(sifted_data[sifted_data['D']=='S'])\n",
    "n_Z_W, m_Z_W = count_Z(sifted_data[sifted_data['D']=='W'])\n",
    "# compute m_X_k\n",
    "n_X_S, m_X_S = count_X(sifted_data[sifted_data['D']=='S'])\n",
    "n_X_W, m_X_W = count_X(sifted_data[sifted_data['D']=='W'])\n",
    "\n",
    "# compute n_Z, m_Z, QBER_Z\n",
    "n_Z, m_Z = count_Z(sifted_data)\n",
    "QBER_Z = compute_QBER_Z(sifted_data)\n",
    "# compute n_X, m_X, QBER_X\n",
    "n_X, m_X = count_X(sifted_data)\n",
    "QBER_X = compute_QBER_X(sifted_data)"
   ]
  },
  {
   "cell_type": "code",
   "execution_count": 16,
   "id": "6e78c639",
   "metadata": {},
   "outputs": [
    {
     "data": {
      "text/plain": [
       "120248.19660247519"
      ]
     },
     "execution_count": 16,
     "metadata": {},
     "output_type": "execute_result"
    }
   ],
   "source": [
    "params_suz0 = {\n",
    "    'n_Z': n_Z,\n",
    "    'm_Z': m_Z,\n",
    "    'm_Z_mu1' : m_Z_S,\n",
    "    'm_Z_mu2' : m_Z_W,\n",
    "    \n",
    "}\n",
    "\n",
    "suz0 = esse_u_basis_0(**params_suz0)\n",
    "suz0"
   ]
  },
  {
   "cell_type": "code",
   "execution_count": 17,
   "id": "dcd1c148",
   "metadata": {
    "scrolled": true
   },
   "outputs": [
    {
     "data": {
      "text/plain": [
       "362186.2520788632"
      ]
     },
     "execution_count": 17,
     "metadata": {},
     "output_type": "execute_result"
    }
   ],
   "source": [
    "s1 = esse_l_basis_1(n_Z_S, n_Z_W, n_Z, suz0)\n",
    "s1"
   ]
  },
  {
   "cell_type": "code",
   "execution_count": 18,
   "id": "a6371e41",
   "metadata": {
    "scrolled": false
   },
   "outputs": [
    {
     "data": {
      "text/plain": [
       "0"
      ]
     },
     "execution_count": 18,
     "metadata": {},
     "output_type": "execute_result"
    }
   ],
   "source": [
    "s0 = esse_l_basis_0(n_Z, n_Z_S, n_Z_W)\n",
    "s0"
   ]
  },
  {
   "cell_type": "code",
   "execution_count": 19,
   "id": "341a6819",
   "metadata": {},
   "outputs": [
    {
     "data": {
      "text/plain": [
       "4321.2812208848745"
      ]
     },
     "execution_count": 19,
     "metadata": {},
     "output_type": "execute_result"
    }
   ],
   "source": [
    "v_x = vi_u_X_1(m_X, m_X_S, m_X_W)\n",
    "v_x"
   ]
  },
  {
   "cell_type": "code",
   "execution_count": 20,
   "id": "557316df",
   "metadata": {},
   "outputs": [
    {
     "data": {
      "text/plain": [
       "16115.345191812761"
      ]
     },
     "execution_count": 20,
     "metadata": {},
     "output_type": "execute_result"
    }
   ],
   "source": [
    "params_sux0 = {\n",
    "    'n_Z': n_X,\n",
    "    'm_Z': m_X,\n",
    "    'm_Z_mu1' : m_X_S,\n",
    "    'm_Z_mu2' : m_X_W,\n",
    "}\n",
    "\n",
    "sux0 = esse_u_basis_0(**params_sux0)\n",
    "sux0"
   ]
  },
  {
   "cell_type": "code",
   "execution_count": 21,
   "id": "1f5bdea2",
   "metadata": {},
   "outputs": [
    {
     "data": {
      "text/plain": [
       "0.2510727010577694"
      ]
     },
     "execution_count": 21,
     "metadata": {},
     "output_type": "execute_result"
    }
   ],
   "source": [
    "s_x = esse_l_basis_1(n_X_S, n_X_W, n_X, sux0) # here is computed for X not for Z as the name suggests\n",
    "s_z = s1\n",
    "phi = phi_u_Z(v_x, s_x, s_z)\n",
    "phi"
   ]
  },
  {
   "cell_type": "code",
   "execution_count": 22,
   "id": "8e2bd57b",
   "metadata": {},
   "outputs": [
    {
     "data": {
      "text/plain": [
       "67482.40926097764"
      ]
     },
     "execution_count": 22,
     "metadata": {},
     "output_type": "execute_result"
    }
   ],
   "source": [
    "ell(s0, s1, phi, QBER_Z)"
   ]
  },
  {
   "cell_type": "code",
   "execution_count": 24,
   "id": "88b85f6c",
   "metadata": {},
   "outputs": [
    {
     "data": {
      "text/plain": [
       "19357.92637363394"
      ]
     },
     "execution_count": 24,
     "metadata": {},
     "output_type": "execute_result"
    }
   ],
   "source": [
    "s_x"
   ]
  },
  {
   "cell_type": "code",
   "execution_count": 23,
   "id": "30eab706",
   "metadata": {},
   "outputs": [],
   "source": [
    "# sifted_data = pd.read_csv('sifted.csv')\n",
    "\n",
    "# sifted_data.head()"
   ]
  }
 ],
 "metadata": {
  "kernelspec": {
   "display_name": "Python 3 (ipykernel)",
   "language": "python",
   "name": "python3"
  },
  "language_info": {
   "codemirror_mode": {
    "name": "ipython",
    "version": 3
   },
   "file_extension": ".py",
   "mimetype": "text/x-python",
   "name": "python",
   "nbconvert_exporter": "python",
   "pygments_lexer": "ipython3",
   "version": "3.8.8"
  }
 },
 "nbformat": 4,
 "nbformat_minor": 5
}
